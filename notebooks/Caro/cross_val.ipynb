{
 "cells": [
  {
   "cell_type": "code",
   "execution_count": 1,
   "id": "concerned-trouble",
   "metadata": {},
   "outputs": [],
   "source": [
    "%load_ext autoreload\n",
    "%autoreload 2"
   ]
  },
  {
   "cell_type": "code",
   "execution_count": 2,
   "id": "sweet-japanese",
   "metadata": {},
   "outputs": [],
   "source": [
    "import matplotlib.pyplot as plt\n",
    "import seaborn as sns\n",
    "import pandas as pd\n",
    "import numpy as np\n",
    "from sklearn.model_selection import train_test_split\n",
    "from sklearn.metrics import r2_score, accuracy_score\n",
    "from sklearn.preprocessing import LabelBinarizer\n",
    "from sklearn.linear_model import LogisticRegression, RidgeClassifier\n",
    "from sklearn.model_selection import cross_val_score, cross_validate\n",
    "from tensorflow.keras.models import Sequential\n",
    "from tensorflow.keras import layers\n",
    "from tensorflow.keras.layers import Flatten, Dense\n",
    "from sklearn.ensemble import RandomForestClassifier\n",
    "import statistics as stats"
   ]
  },
  {
   "cell_type": "code",
   "execution_count": 3,
   "id": "qualified-plastic",
   "metadata": {},
   "outputs": [],
   "source": [
    "data = pd.read_csv('../../raw_data/bitstampUSD.csv')"
   ]
  },
  {
   "cell_type": "code",
   "execution_count": 4,
   "id": "hungarian-concept",
   "metadata": {},
   "outputs": [
    {
     "data": {
      "text/html": [
       "<div>\n",
       "<style scoped>\n",
       "    .dataframe tbody tr th:only-of-type {\n",
       "        vertical-align: middle;\n",
       "    }\n",
       "\n",
       "    .dataframe tbody tr th {\n",
       "        vertical-align: top;\n",
       "    }\n",
       "\n",
       "    .dataframe thead th {\n",
       "        text-align: right;\n",
       "    }\n",
       "</style>\n",
       "<table border=\"1\" class=\"dataframe\">\n",
       "  <thead>\n",
       "    <tr style=\"text-align: right;\">\n",
       "      <th></th>\n",
       "      <th>Timestamp</th>\n",
       "      <th>Open</th>\n",
       "      <th>High</th>\n",
       "      <th>Low</th>\n",
       "      <th>Close</th>\n",
       "      <th>Volume_(BTC)</th>\n",
       "      <th>Volume_(Currency)</th>\n",
       "      <th>Weighted_Price</th>\n",
       "    </tr>\n",
       "  </thead>\n",
       "  <tbody>\n",
       "    <tr>\n",
       "      <th>0</th>\n",
       "      <td>1325317920</td>\n",
       "      <td>4.39</td>\n",
       "      <td>4.39</td>\n",
       "      <td>4.39</td>\n",
       "      <td>4.39</td>\n",
       "      <td>0.455581</td>\n",
       "      <td>2.000000</td>\n",
       "      <td>4.390000</td>\n",
       "    </tr>\n",
       "    <tr>\n",
       "      <th>478</th>\n",
       "      <td>1325346600</td>\n",
       "      <td>4.39</td>\n",
       "      <td>4.39</td>\n",
       "      <td>4.39</td>\n",
       "      <td>4.39</td>\n",
       "      <td>48.000000</td>\n",
       "      <td>210.720000</td>\n",
       "      <td>4.390000</td>\n",
       "    </tr>\n",
       "    <tr>\n",
       "      <th>547</th>\n",
       "      <td>1325350740</td>\n",
       "      <td>4.50</td>\n",
       "      <td>4.57</td>\n",
       "      <td>4.50</td>\n",
       "      <td>4.57</td>\n",
       "      <td>37.862297</td>\n",
       "      <td>171.380338</td>\n",
       "      <td>4.526411</td>\n",
       "    </tr>\n",
       "    <tr>\n",
       "      <th>548</th>\n",
       "      <td>1325350800</td>\n",
       "      <td>4.58</td>\n",
       "      <td>4.58</td>\n",
       "      <td>4.58</td>\n",
       "      <td>4.58</td>\n",
       "      <td>9.000000</td>\n",
       "      <td>41.220000</td>\n",
       "      <td>4.580000</td>\n",
       "    </tr>\n",
       "    <tr>\n",
       "      <th>1224</th>\n",
       "      <td>1325391360</td>\n",
       "      <td>4.58</td>\n",
       "      <td>4.58</td>\n",
       "      <td>4.58</td>\n",
       "      <td>4.58</td>\n",
       "      <td>1.502000</td>\n",
       "      <td>6.879160</td>\n",
       "      <td>4.580000</td>\n",
       "    </tr>\n",
       "    <tr>\n",
       "      <th>...</th>\n",
       "      <td>...</td>\n",
       "      <td>...</td>\n",
       "      <td>...</td>\n",
       "      <td>...</td>\n",
       "      <td>...</td>\n",
       "      <td>...</td>\n",
       "      <td>...</td>\n",
       "      <td>...</td>\n",
       "    </tr>\n",
       "    <tr>\n",
       "      <th>4727772</th>\n",
       "      <td>1609372560</td>\n",
       "      <td>28801.47</td>\n",
       "      <td>28829.42</td>\n",
       "      <td>28785.64</td>\n",
       "      <td>28829.42</td>\n",
       "      <td>0.965221</td>\n",
       "      <td>27804.572129</td>\n",
       "      <td>28806.429798</td>\n",
       "    </tr>\n",
       "    <tr>\n",
       "      <th>4727773</th>\n",
       "      <td>1609372620</td>\n",
       "      <td>28829.42</td>\n",
       "      <td>28863.90</td>\n",
       "      <td>28829.42</td>\n",
       "      <td>28857.06</td>\n",
       "      <td>2.368831</td>\n",
       "      <td>68332.350629</td>\n",
       "      <td>28846.441863</td>\n",
       "    </tr>\n",
       "    <tr>\n",
       "      <th>4727774</th>\n",
       "      <td>1609372680</td>\n",
       "      <td>28850.49</td>\n",
       "      <td>28900.52</td>\n",
       "      <td>28850.49</td>\n",
       "      <td>28882.82</td>\n",
       "      <td>2.466590</td>\n",
       "      <td>71232.784464</td>\n",
       "      <td>28879.056266</td>\n",
       "    </tr>\n",
       "    <tr>\n",
       "      <th>4727775</th>\n",
       "      <td>1609372740</td>\n",
       "      <td>28910.54</td>\n",
       "      <td>28911.52</td>\n",
       "      <td>28867.60</td>\n",
       "      <td>28881.30</td>\n",
       "      <td>7.332773</td>\n",
       "      <td>211870.912660</td>\n",
       "      <td>28893.695831</td>\n",
       "    </tr>\n",
       "    <tr>\n",
       "      <th>4727776</th>\n",
       "      <td>1609372800</td>\n",
       "      <td>28893.21</td>\n",
       "      <td>28928.49</td>\n",
       "      <td>28893.21</td>\n",
       "      <td>28928.49</td>\n",
       "      <td>5.757679</td>\n",
       "      <td>166449.709320</td>\n",
       "      <td>28909.166061</td>\n",
       "    </tr>\n",
       "  </tbody>\n",
       "</table>\n",
       "<p>3484305 rows × 8 columns</p>\n",
       "</div>"
      ],
      "text/plain": [
       "          Timestamp      Open      High       Low     Close  Volume_(BTC)  \\\n",
       "0        1325317920      4.39      4.39      4.39      4.39      0.455581   \n",
       "478      1325346600      4.39      4.39      4.39      4.39     48.000000   \n",
       "547      1325350740      4.50      4.57      4.50      4.57     37.862297   \n",
       "548      1325350800      4.58      4.58      4.58      4.58      9.000000   \n",
       "1224     1325391360      4.58      4.58      4.58      4.58      1.502000   \n",
       "...             ...       ...       ...       ...       ...           ...   \n",
       "4727772  1609372560  28801.47  28829.42  28785.64  28829.42      0.965221   \n",
       "4727773  1609372620  28829.42  28863.90  28829.42  28857.06      2.368831   \n",
       "4727774  1609372680  28850.49  28900.52  28850.49  28882.82      2.466590   \n",
       "4727775  1609372740  28910.54  28911.52  28867.60  28881.30      7.332773   \n",
       "4727776  1609372800  28893.21  28928.49  28893.21  28928.49      5.757679   \n",
       "\n",
       "         Volume_(Currency)  Weighted_Price  \n",
       "0                 2.000000        4.390000  \n",
       "478             210.720000        4.390000  \n",
       "547             171.380338        4.526411  \n",
       "548              41.220000        4.580000  \n",
       "1224              6.879160        4.580000  \n",
       "...                    ...             ...  \n",
       "4727772       27804.572129    28806.429798  \n",
       "4727773       68332.350629    28846.441863  \n",
       "4727774       71232.784464    28879.056266  \n",
       "4727775      211870.912660    28893.695831  \n",
       "4727776      166449.709320    28909.166061  \n",
       "\n",
       "[3484305 rows x 8 columns]"
      ]
     },
     "execution_count": 4,
     "metadata": {},
     "output_type": "execute_result"
    }
   ],
   "source": [
    "data.dropna()"
   ]
  },
  {
   "cell_type": "code",
   "execution_count": 5,
   "id": "limiting-neighborhood",
   "metadata": {},
   "outputs": [],
   "source": [
    "def preprocessing_data(data, shift_size, h=1):\n",
    "    data_pp = data[2798176:4727776].copy()\n",
    "    data_pp['Timestamp'] = pd.to_datetime(data_pp['Timestamp'], unit='s', origin='unix')\n",
    "    data_pp = data_pp[['Open', 'Timestamp']].set_index(\"Timestamp\").fillna(method='ffill')\n",
    "    data_pp['diff_Open'] = data_pp['Open'].diff(h)\n",
    "    data_pp['diff_Open'] = data_pp['diff_Open'].dropna()\n",
    "    data_pp[f\"t+{h}\"] = data_pp['diff_Open'].shift(-h)\n",
    "    for i in range(0, shift_size):\n",
    "        data_pp[f't-{i}'] = data_pp['Open'].shift(i)\n",
    "    data_shifted = data_pp.dropna()\n",
    "    X = data_shifted.drop(columns=['Open', 'diff_Open', f\"t+{h}\"])\n",
    "    y = data_shifted[f\"t+{h}\"].copy()\n",
    "    y[y > 0] = 1\n",
    "    y[y <= 0] = 0\n",
    "    return X, y, data_shifted"
   ]
  },
  {
   "cell_type": "code",
   "execution_count": 6,
   "id": "immediate-parks",
   "metadata": {},
   "outputs": [
    {
     "data": {
      "text/plain": [
       "(                          t-0       t-1       t-2       t-3       t-4\n",
       " Timestamp                                                            \n",
       " 2017-05-01 00:04:00   1351.25   1350.11   1349.49   1352.41   1348.88\n",
       " 2017-05-01 00:05:00   1351.24   1351.25   1350.11   1349.49   1352.41\n",
       " 2017-05-01 00:06:00   1349.47   1351.24   1351.25   1350.11   1349.49\n",
       " 2017-05-01 00:07:00   1351.24   1349.47   1351.24   1351.25   1350.11\n",
       " 2017-05-01 00:08:00   1351.24   1351.24   1349.47   1351.24   1351.25\n",
       " ...                       ...       ...       ...       ...       ...\n",
       " 2020-12-30 23:54:00  28800.00  28814.36  28826.49  28836.97  28816.76\n",
       " 2020-12-30 23:55:00  28809.07  28800.00  28814.36  28826.49  28836.97\n",
       " 2020-12-30 23:56:00  28801.47  28809.07  28800.00  28814.36  28826.49\n",
       " 2020-12-30 23:57:00  28829.42  28801.47  28809.07  28800.00  28814.36\n",
       " 2020-12-30 23:58:00  28850.49  28829.42  28801.47  28809.07  28800.00\n",
       " \n",
       " [1929595 rows x 5 columns],\n",
       " Timestamp\n",
       " 2017-05-01 00:04:00    0.0\n",
       " 2017-05-01 00:05:00    0.0\n",
       " 2017-05-01 00:06:00    1.0\n",
       " 2017-05-01 00:07:00    0.0\n",
       " 2017-05-01 00:08:00    0.0\n",
       "                       ... \n",
       " 2020-12-30 23:54:00    1.0\n",
       " 2020-12-30 23:55:00    0.0\n",
       " 2020-12-30 23:56:00    1.0\n",
       " 2020-12-30 23:57:00    1.0\n",
       " 2020-12-30 23:58:00    1.0\n",
       " Name: t+1, Length: 1929595, dtype: float64,\n",
       "                          Open  diff_Open    t+1       t-0       t-1       t-2  \\\n",
       " Timestamp                                                                       \n",
       " 2017-05-01 00:04:00   1351.25       1.14  -0.01   1351.25   1350.11   1349.49   \n",
       " 2017-05-01 00:05:00   1351.24      -0.01  -1.77   1351.24   1351.25   1350.11   \n",
       " 2017-05-01 00:06:00   1349.47      -1.77   1.77   1349.47   1351.24   1351.25   \n",
       " 2017-05-01 00:07:00   1351.24       1.77   0.00   1351.24   1349.47   1351.24   \n",
       " 2017-05-01 00:08:00   1351.24       0.00   0.00   1351.24   1351.24   1349.47   \n",
       " ...                       ...        ...    ...       ...       ...       ...   \n",
       " 2020-12-30 23:54:00  28800.00     -14.36   9.07  28800.00  28814.36  28826.49   \n",
       " 2020-12-30 23:55:00  28809.07       9.07  -7.60  28809.07  28800.00  28814.36   \n",
       " 2020-12-30 23:56:00  28801.47      -7.60  27.95  28801.47  28809.07  28800.00   \n",
       " 2020-12-30 23:57:00  28829.42      27.95  21.07  28829.42  28801.47  28809.07   \n",
       " 2020-12-30 23:58:00  28850.49      21.07  60.05  28850.49  28829.42  28801.47   \n",
       " \n",
       "                           t-3       t-4  \n",
       " Timestamp                                \n",
       " 2017-05-01 00:04:00   1352.41   1348.88  \n",
       " 2017-05-01 00:05:00   1349.49   1352.41  \n",
       " 2017-05-01 00:06:00   1350.11   1349.49  \n",
       " 2017-05-01 00:07:00   1351.25   1350.11  \n",
       " 2017-05-01 00:08:00   1351.24   1351.25  \n",
       " ...                       ...       ...  \n",
       " 2020-12-30 23:54:00  28836.97  28816.76  \n",
       " 2020-12-30 23:55:00  28826.49  28836.97  \n",
       " 2020-12-30 23:56:00  28814.36  28826.49  \n",
       " 2020-12-30 23:57:00  28800.00  28814.36  \n",
       " 2020-12-30 23:58:00  28809.07  28800.00  \n",
       " \n",
       " [1929595 rows x 8 columns])"
      ]
     },
     "execution_count": 6,
     "metadata": {},
     "output_type": "execute_result"
    }
   ],
   "source": [
    "preprocessing_data(data, 5, h=1)"
   ]
  },
  {
   "cell_type": "code",
   "execution_count": 7,
   "id": "systematic-object",
   "metadata": {},
   "outputs": [],
   "source": [
    "def input_data(data, sample_size, shift_size, train_size, h=1, w=0):\n",
    "    X, y, data_shifted = preprocessing_data(data, shift_size, h)\n",
    "    data_size = data_shifted.shape[0]\n",
    "    test_size = sample_size - train_size\n",
    "    sample_X = X.iloc[data_size-(test_size * w + sample_size) : data_size - (test_size * w)]\n",
    "    sample_y = y.iloc[data_size-(test_size * w + sample_size) : data_size - (test_size * w)]\n",
    "    X_train = sample_X.iloc[0:train_size]\n",
    "    y_train = sample_y.iloc[0:train_size]\n",
    "    X_test = sample_X.iloc[(train_size+h-1):(sample_size-shift_size)]\n",
    "    y_test = sample_y.iloc[(train_size+h-1):(sample_size-shift_size)]\n",
    "    return X_train, X_test, y_train, y_test"
   ]
  },
  {
   "cell_type": "code",
   "execution_count": 8,
   "id": "addressed-allen",
   "metadata": {},
   "outputs": [],
   "source": [
    "X_train, X_test, y_train, y_test = input_data(data, 30000, 5, 20000, h=1, w=0)"
   ]
  },
  {
   "cell_type": "code",
   "execution_count": 9,
   "id": "bright-development",
   "metadata": {},
   "outputs": [],
   "source": [
    "def ridge_classifier(X_train, X_test, y_train, y_test):\n",
    "    log_reg = RidgeClassifier()\n",
    "    log_reg = log_reg.fit(X_train, y_train)\n",
    "    results = log_reg.predict(X_test)\n",
    "    score = log_reg.score(X_test, y_test)\n",
    "    return score"
   ]
  },
  {
   "cell_type": "code",
   "execution_count": 10,
   "id": "cutting-standing",
   "metadata": {},
   "outputs": [
    {
     "data": {
      "text/plain": [
       "0.5140570285142572"
      ]
     },
     "execution_count": 10,
     "metadata": {},
     "output_type": "execute_result"
    }
   ],
   "source": [
    "ridge_classifier(X_train, X_test, y_train, y_test)"
   ]
  },
  {
   "cell_type": "code",
   "execution_count": 11,
   "id": "female-tobacco",
   "metadata": {},
   "outputs": [],
   "source": [
    "def manual_cross_val_ridge(data):\n",
    "    results = []\n",
    "    for w in range(5):\n",
    "        X_train, X_test, y_train, y_test = input_data(data, 1000, 5, 700, h=1, w=w)\n",
    "        score = ridge_classifier(X_train, X_test, y_train, y_test)\n",
    "        results.append(score)\n",
    "    return stats.mean(results)"
   ]
  },
  {
   "cell_type": "code",
   "execution_count": 12,
   "id": "center-patio",
   "metadata": {},
   "outputs": [
    {
     "data": {
      "text/plain": [
       "0.5057627118644068"
      ]
     },
     "execution_count": 12,
     "metadata": {},
     "output_type": "execute_result"
    }
   ],
   "source": [
    "manual_cross_val_ridge(data)"
   ]
  },
  {
   "cell_type": "code",
   "execution_count": 13,
   "id": "looking-store",
   "metadata": {},
   "outputs": [],
   "source": [
    "def random_forest_classifier(X_train, X_test, y_train, y_test):\n",
    "    rf = RandomForestClassifier()\n",
    "    rf = rf.fit(X_train, y_train)\n",
    "    rf_score = rf.score(X_test, y_test)\n",
    "    return rf_score"
   ]
  },
  {
   "cell_type": "code",
   "execution_count": 14,
   "id": "engaging-operator",
   "metadata": {},
   "outputs": [],
   "source": [
    "def manual_cross_val_forest(data):\n",
    "    results = []\n",
    "    for w in range(5):\n",
    "        X_train, X_test, y_train, y_test = input_data(data, 1000, 5, 700, h=1, w=w)\n",
    "        score = random_forest_classifier(X_train, X_test, y_train, y_test)\n",
    "        results.append(score)\n",
    "    return stats.mean(results)"
   ]
  },
  {
   "cell_type": "code",
   "execution_count": 15,
   "id": "revised-fourth",
   "metadata": {},
   "outputs": [
    {
     "data": {
      "text/plain": [
       "0.4976271186440678"
      ]
     },
     "execution_count": 15,
     "metadata": {},
     "output_type": "execute_result"
    }
   ],
   "source": [
    "manual_cross_val_forest(data)"
   ]
  },
  {
   "cell_type": "code",
   "execution_count": null,
   "id": "interstate-attention",
   "metadata": {},
   "outputs": [],
   "source": []
  },
  {
   "cell_type": "code",
   "execution_count": null,
   "id": "inclusive-instrumentation",
   "metadata": {},
   "outputs": [],
   "source": []
  },
  {
   "cell_type": "code",
   "execution_count": 16,
   "id": "passing-poison",
   "metadata": {},
   "outputs": [],
   "source": [
    "# def initialize_model():\n",
    "#     model = RandomForestClassifier()"
   ]
  },
  {
   "cell_type": "code",
   "execution_count": 17,
   "id": "interpreted-boxing",
   "metadata": {},
   "outputs": [],
   "source": [
    "# def compile_model(model):\n",
    "#     model.compile(loss='binary_crossentropy', \n",
    "#               optimizer='rmsprop',\n",
    "#               metrics=['accuracy'])\n",
    "#     return model"
   ]
  },
  {
   "cell_type": "code",
   "execution_count": 18,
   "id": "sticky-location",
   "metadata": {},
   "outputs": [],
   "source": [
    "# model = initialize_model()\n",
    "# model = compile_model(model)"
   ]
  },
  {
   "cell_type": "code",
   "execution_count": 19,
   "id": "vital-pepper",
   "metadata": {},
   "outputs": [],
   "source": [
    "# es = EarlyStopping(patience=10, restore_best_weights=True)\n",
    "# history = model.fit(X_train[:1000], y_train[:1000],\n",
    "#                     validation_split=0.3,\n",
    "#                     epochs=200,\n",
    "#                     batch_size=32,\n",
    "#                     callbacks=[es], \n",
    "#                     verbose=1)"
   ]
  },
  {
   "cell_type": "code",
   "execution_count": 20,
   "id": "scientific-longitude",
   "metadata": {},
   "outputs": [],
   "source": [
    "# model.evaluate(X_test, y_test, verbose=2)"
   ]
  },
  {
   "cell_type": "code",
   "execution_count": null,
   "id": "entire-proxy",
   "metadata": {},
   "outputs": [],
   "source": []
  }
 ],
 "metadata": {
  "kernelspec": {
   "display_name": "Python 3",
   "language": "python",
   "name": "python3"
  },
  "language_info": {
   "codemirror_mode": {
    "name": "ipython",
    "version": 3
   },
   "file_extension": ".py",
   "mimetype": "text/x-python",
   "name": "python",
   "nbconvert_exporter": "python",
   "pygments_lexer": "ipython3",
   "version": "3.8.6"
  }
 },
 "nbformat": 4,
 "nbformat_minor": 5
}
