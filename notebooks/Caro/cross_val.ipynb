{
 "cells": [
  {
   "cell_type": "code",
   "execution_count": 1,
   "id": "concerned-trouble",
   "metadata": {
    "ExecuteTime": {
     "end_time": "2021-02-26T16:19:10.951116Z",
     "start_time": "2021-02-26T16:19:10.897548Z"
    }
   },
   "outputs": [],
   "source": [
    "%load_ext autoreload\n",
    "%autoreload 2"
   ]
  },
  {
   "cell_type": "code",
   "execution_count": 2,
   "id": "sweet-japanese",
   "metadata": {
    "ExecuteTime": {
     "end_time": "2021-02-26T16:19:17.611386Z",
     "start_time": "2021-02-26T16:19:11.591935Z"
    }
   },
   "outputs": [],
   "source": [
    "import matplotlib.pyplot as plt\n",
    "import seaborn as sns\n",
    "import pandas as pd\n",
    "import numpy as np\n",
    "from sklearn.model_selection import train_test_split\n",
    "from sklearn.metrics import r2_score, accuracy_score\n",
    "from sklearn.preprocessing import LabelBinarizer\n",
    "from sklearn.linear_model import RidgeClassifier\n",
    "from sklearn.model_selection import cross_val_score, cross_validate\n",
    "from tensorflow.keras.models import Sequential\n",
    "from tensorflow.keras import layers\n",
    "from tensorflow.keras.layers import Flatten, Dense\n",
    "from sklearn.ensemble import RandomForestClassifier\n",
    "import statistics as stats\n",
    "from tensorflow.keras.wrappers.scikit_learn import KerasClassifier\n",
    "from sklearn.model_selection import StratifiedKFold\n",
    "from tensorflow.keras.callbacks import EarlyStopping"
   ]
  },
  {
   "cell_type": "code",
   "execution_count": 3,
   "id": "qualified-plastic",
   "metadata": {
    "ExecuteTime": {
     "end_time": "2021-02-26T16:19:29.544325Z",
     "start_time": "2021-02-26T16:19:18.494407Z"
    }
   },
   "outputs": [],
   "source": [
    "data = pd.read_csv('../../raw_data/bitstampUSD.csv')"
   ]
  },
  {
   "cell_type": "code",
   "execution_count": 4,
   "id": "hungarian-concept",
   "metadata": {
    "ExecuteTime": {
     "end_time": "2021-02-26T16:19:30.740620Z",
     "start_time": "2021-02-26T16:19:29.922714Z"
    }
   },
   "outputs": [],
   "source": [
    "# data.dropna()"
   ]
  },
  {
   "cell_type": "code",
   "execution_count": 5,
   "id": "limiting-neighborhood",
   "metadata": {
    "ExecuteTime": {
     "end_time": "2021-02-26T16:19:31.060395Z",
     "start_time": "2021-02-26T16:19:30.958144Z"
    }
   },
   "outputs": [],
   "source": [
    "def preprocessing_data(data, shift_size, h=1):\n",
    "    data_pp = data[2798176:4727776].copy()\n",
    "    data_pp['Timestamp'] = pd.to_datetime(data_pp['Timestamp'], unit='s', origin='unix')\n",
    "    data_pp = data_pp[['Open', 'Timestamp']].set_index(\"Timestamp\").fillna(method='ffill')\n",
    "    data_pp['diff_Open'] = data_pp['Open'].diff(h)\n",
    "    data_pp['diff_Open'] = data_pp['diff_Open'].dropna()\n",
    "    data_pp[f\"t+{h}\"] = data_pp['diff_Open'].shift(-h)\n",
    "    for i in range(0, shift_size):\n",
    "        data_pp[f't-{i}'] = data_pp['Open'].shift(i)\n",
    "    data_shifted = data_pp.dropna()\n",
    "    X = data_shifted.drop(columns=['Open', 'diff_Open', f\"t+{h}\"])\n",
    "    y = data_shifted[f\"t+{h}\"].copy()\n",
    "    y[y > 0] = 1\n",
    "    y[y <= 0] = 0\n",
    "    return X, y, data_shifted"
   ]
  },
  {
   "cell_type": "code",
   "execution_count": 6,
   "id": "immediate-parks",
   "metadata": {
    "ExecuteTime": {
     "end_time": "2021-02-26T16:19:53.438311Z",
     "start_time": "2021-02-26T16:19:51.152916Z"
    }
   },
   "outputs": [
    {
     "data": {
      "text/plain": [
       "(                          t-0       t-1       t-2       t-3       t-4\n",
       " Timestamp                                                            \n",
       " 2017-05-01 00:04:00   1351.25   1350.11   1349.49   1352.41   1348.88\n",
       " 2017-05-01 00:05:00   1351.24   1351.25   1350.11   1349.49   1352.41\n",
       " 2017-05-01 00:06:00   1349.47   1351.24   1351.25   1350.11   1349.49\n",
       " 2017-05-01 00:07:00   1351.24   1349.47   1351.24   1351.25   1350.11\n",
       " 2017-05-01 00:08:00   1351.24   1351.24   1349.47   1351.24   1351.25\n",
       " ...                       ...       ...       ...       ...       ...\n",
       " 2020-12-30 23:54:00  28800.00  28814.36  28826.49  28836.97  28816.76\n",
       " 2020-12-30 23:55:00  28809.07  28800.00  28814.36  28826.49  28836.97\n",
       " 2020-12-30 23:56:00  28801.47  28809.07  28800.00  28814.36  28826.49\n",
       " 2020-12-30 23:57:00  28829.42  28801.47  28809.07  28800.00  28814.36\n",
       " 2020-12-30 23:58:00  28850.49  28829.42  28801.47  28809.07  28800.00\n",
       " \n",
       " [1929595 rows x 5 columns],\n",
       " Timestamp\n",
       " 2017-05-01 00:04:00    0.0\n",
       " 2017-05-01 00:05:00    0.0\n",
       " 2017-05-01 00:06:00    1.0\n",
       " 2017-05-01 00:07:00    0.0\n",
       " 2017-05-01 00:08:00    0.0\n",
       "                       ... \n",
       " 2020-12-30 23:54:00    1.0\n",
       " 2020-12-30 23:55:00    0.0\n",
       " 2020-12-30 23:56:00    1.0\n",
       " 2020-12-30 23:57:00    1.0\n",
       " 2020-12-30 23:58:00    1.0\n",
       " Name: t+1, Length: 1929595, dtype: float64,\n",
       "                          Open  diff_Open    t+1       t-0       t-1       t-2  \\\n",
       " Timestamp                                                                       \n",
       " 2017-05-01 00:04:00   1351.25       1.14  -0.01   1351.25   1350.11   1349.49   \n",
       " 2017-05-01 00:05:00   1351.24      -0.01  -1.77   1351.24   1351.25   1350.11   \n",
       " 2017-05-01 00:06:00   1349.47      -1.77   1.77   1349.47   1351.24   1351.25   \n",
       " 2017-05-01 00:07:00   1351.24       1.77   0.00   1351.24   1349.47   1351.24   \n",
       " 2017-05-01 00:08:00   1351.24       0.00   0.00   1351.24   1351.24   1349.47   \n",
       " ...                       ...        ...    ...       ...       ...       ...   \n",
       " 2020-12-30 23:54:00  28800.00     -14.36   9.07  28800.00  28814.36  28826.49   \n",
       " 2020-12-30 23:55:00  28809.07       9.07  -7.60  28809.07  28800.00  28814.36   \n",
       " 2020-12-30 23:56:00  28801.47      -7.60  27.95  28801.47  28809.07  28800.00   \n",
       " 2020-12-30 23:57:00  28829.42      27.95  21.07  28829.42  28801.47  28809.07   \n",
       " 2020-12-30 23:58:00  28850.49      21.07  60.05  28850.49  28829.42  28801.47   \n",
       " \n",
       "                           t-3       t-4  \n",
       " Timestamp                                \n",
       " 2017-05-01 00:04:00   1352.41   1348.88  \n",
       " 2017-05-01 00:05:00   1349.49   1352.41  \n",
       " 2017-05-01 00:06:00   1350.11   1349.49  \n",
       " 2017-05-01 00:07:00   1351.25   1350.11  \n",
       " 2017-05-01 00:08:00   1351.24   1351.25  \n",
       " ...                       ...       ...  \n",
       " 2020-12-30 23:54:00  28836.97  28816.76  \n",
       " 2020-12-30 23:55:00  28826.49  28836.97  \n",
       " 2020-12-30 23:56:00  28814.36  28826.49  \n",
       " 2020-12-30 23:57:00  28800.00  28814.36  \n",
       " 2020-12-30 23:58:00  28809.07  28800.00  \n",
       " \n",
       " [1929595 rows x 8 columns])"
      ]
     },
     "execution_count": 6,
     "metadata": {},
     "output_type": "execute_result"
    }
   ],
   "source": [
    "preprocessing_data(data, 5, h=1)"
   ]
  },
  {
   "cell_type": "code",
   "execution_count": 7,
   "id": "systematic-object",
   "metadata": {
    "ExecuteTime": {
     "end_time": "2021-02-26T16:20:01.337215Z",
     "start_time": "2021-02-26T16:20:01.216899Z"
    }
   },
   "outputs": [],
   "source": [
    "def input_data(data, sample_size, shift_size, train_size, h=1, w=0):\n",
    "    X, y, data_shifted = preprocessing_data(data, shift_size, h)\n",
    "    data_size = data_shifted.shape[0]\n",
    "    test_size = sample_size - train_size\n",
    "    sample_X = X.iloc[data_size-(test_size * w + sample_size) : data_size - (test_size * w)]\n",
    "    sample_y = y.iloc[data_size-(test_size * w + sample_size) : data_size - (test_size * w)]\n",
    "    X_train = sample_X.iloc[0:train_size]\n",
    "    y_train = sample_y.iloc[0:train_size]\n",
    "    X_test = sample_X.iloc[(train_size+h-1):(sample_size-shift_size)]\n",
    "    y_test = sample_y.iloc[(train_size+h-1):(sample_size-shift_size)]\n",
    "    return X_train, X_test, y_train, y_test"
   ]
  },
  {
   "cell_type": "code",
   "execution_count": 8,
   "id": "addressed-allen",
   "metadata": {
    "ExecuteTime": {
     "end_time": "2021-02-26T16:20:11.017525Z",
     "start_time": "2021-02-26T16:20:06.925727Z"
    }
   },
   "outputs": [],
   "source": [
    "X_train, X_test, y_train, y_test = input_data(data, 30000, 5, 20000, h=1, w=0)"
   ]
  },
  {
   "cell_type": "code",
   "execution_count": 9,
   "id": "bright-development",
   "metadata": {
    "ExecuteTime": {
     "end_time": "2021-02-26T16:20:33.944591Z",
     "start_time": "2021-02-26T16:20:33.843116Z"
    }
   },
   "outputs": [],
   "source": [
    "def ridge_classifier(X_train, X_test, y_train, y_test):\n",
    "    log_reg = RidgeClassifier()\n",
    "    log_reg = log_reg.fit(X_train, y_train)\n",
    "    results = log_reg.predict(X_test)\n",
    "    score = log_reg.score(X_test, y_test)\n",
    "    return score"
   ]
  },
  {
   "cell_type": "code",
   "execution_count": 10,
   "id": "cutting-standing",
   "metadata": {
    "ExecuteTime": {
     "end_time": "2021-02-26T16:20:35.769073Z",
     "start_time": "2021-02-26T16:20:35.381232Z"
    }
   },
   "outputs": [
    {
     "data": {
      "text/plain": [
       "0.5140570285142572"
      ]
     },
     "execution_count": 10,
     "metadata": {},
     "output_type": "execute_result"
    }
   ],
   "source": [
    "ridge_classifier(X_train, X_test, y_train, y_test)"
   ]
  },
  {
   "cell_type": "code",
   "execution_count": 11,
   "id": "female-tobacco",
   "metadata": {
    "ExecuteTime": {
     "end_time": "2021-02-26T16:23:40.444473Z",
     "start_time": "2021-02-26T16:23:40.361159Z"
    }
   },
   "outputs": [],
   "source": [
    "def manual_cross_val_ridge(data):\n",
    "    results = []\n",
    "    for w in range(5):\n",
    "        X_train, X_test, y_train, y_test = input_data(data, 1000, 5, 700, h=1, w=w)\n",
    "        score = ridge_classifier(X_train, X_test, y_train, y_test)\n",
    "        results.append(score)\n",
    "    return stats.mean(results)"
   ]
  },
  {
   "cell_type": "code",
   "execution_count": 12,
   "id": "center-patio",
   "metadata": {
    "ExecuteTime": {
     "end_time": "2021-02-26T16:23:54.702895Z",
     "start_time": "2021-02-26T16:23:41.219855Z"
    }
   },
   "outputs": [
    {
     "data": {
      "text/plain": [
       "0.5057627118644068"
      ]
     },
     "execution_count": 12,
     "metadata": {},
     "output_type": "execute_result"
    }
   ],
   "source": [
    "manual_cross_val_ridge(data)"
   ]
  },
  {
   "cell_type": "code",
   "execution_count": 13,
   "id": "looking-store",
   "metadata": {},
   "outputs": [],
   "source": [
    "def random_forest_classifier(X_train, X_test, y_train, y_test):\n",
    "    rf = RandomForestClassifier()\n",
    "    rf = rf.fit(X_train, y_train)\n",
    "    rf_score = rf.score(X_test, y_test)\n",
    "    return rf_score"
   ]
  },
  {
   "cell_type": "code",
   "execution_count": 14,
   "id": "engaging-operator",
   "metadata": {},
   "outputs": [],
   "source": [
    "def manual_cross_val_forest(data):\n",
    "    results = []\n",
    "    for w in range(5):\n",
    "        X_train, X_test, y_train, y_test = input_data(data, 1000, 5, 700, h=1, w=w)\n",
    "        score = random_forest_classifier(X_train, X_test, y_train, y_test)\n",
    "        results.append(score)\n",
    "    return stats.mean(results)"
   ]
  },
  {
   "cell_type": "code",
   "execution_count": 15,
   "id": "revised-fourth",
   "metadata": {},
   "outputs": [
    {
     "data": {
      "text/plain": [
       "0.49762711864406783"
      ]
     },
     "execution_count": 15,
     "metadata": {},
     "output_type": "execute_result"
    }
   ],
   "source": [
    "manual_cross_val_forest(data)"
   ]
  },
  {
   "cell_type": "markdown",
   "id": "exact-leisure",
   "metadata": {},
   "source": [
    "## First attempt RNN"
   ]
  },
  {
   "cell_type": "code",
   "execution_count": 16,
   "id": "passing-poison",
   "metadata": {},
   "outputs": [],
   "source": [
    "def initialize_model():\n",
    "    model = Sequential()\n",
    "    \n",
    "    model.add(layers.SimpleRNN(units=2, activation='tanh'))\n",
    "    model.add(layers.Dense(4, activation=\"tanh\"))\n",
    "    model.add(layers.Dense(2, activation='sigmoid'))"
   ]
  },
  {
   "cell_type": "code",
   "execution_count": 17,
   "id": "interpreted-boxing",
   "metadata": {},
   "outputs": [],
   "source": [
    "def compile_model(model):\n",
    "    model.compile(loss='binary_crossentropy', \n",
    "              optimizer='rmsprop',\n",
    "              metrics=['accuracy'])\n",
    "    return model"
   ]
  },
  {
   "cell_type": "code",
   "execution_count": 18,
   "id": "sticky-location",
   "metadata": {},
   "outputs": [
    {
     "ename": "AttributeError",
     "evalue": "'NoneType' object has no attribute 'compile'",
     "output_type": "error",
     "traceback": [
      "\u001b[0;31m---------------------------------------------------------------------------\u001b[0m",
      "\u001b[0;31mAttributeError\u001b[0m                            Traceback (most recent call last)",
      "\u001b[0;32m<ipython-input-18-7e4b3c439053>\u001b[0m in \u001b[0;36m<module>\u001b[0;34m\u001b[0m\n\u001b[1;32m      1\u001b[0m \u001b[0mmodel\u001b[0m \u001b[0;34m=\u001b[0m \u001b[0minitialize_model\u001b[0m\u001b[0;34m(\u001b[0m\u001b[0;34m)\u001b[0m\u001b[0;34m\u001b[0m\u001b[0;34m\u001b[0m\u001b[0m\n\u001b[0;32m----> 2\u001b[0;31m \u001b[0mmodel\u001b[0m \u001b[0;34m=\u001b[0m \u001b[0mcompile_model\u001b[0m\u001b[0;34m(\u001b[0m\u001b[0mmodel\u001b[0m\u001b[0;34m)\u001b[0m\u001b[0;34m\u001b[0m\u001b[0;34m\u001b[0m\u001b[0m\n\u001b[0m",
      "\u001b[0;32m<ipython-input-17-fd1fc52d9ea9>\u001b[0m in \u001b[0;36mcompile_model\u001b[0;34m(model)\u001b[0m\n\u001b[1;32m      1\u001b[0m \u001b[0;32mdef\u001b[0m \u001b[0mcompile_model\u001b[0m\u001b[0;34m(\u001b[0m\u001b[0mmodel\u001b[0m\u001b[0;34m)\u001b[0m\u001b[0;34m:\u001b[0m\u001b[0;34m\u001b[0m\u001b[0;34m\u001b[0m\u001b[0m\n\u001b[0;32m----> 2\u001b[0;31m     model.compile(loss='binary_crossentropy', \n\u001b[0m\u001b[1;32m      3\u001b[0m               \u001b[0moptimizer\u001b[0m\u001b[0;34m=\u001b[0m\u001b[0;34m'rmsprop'\u001b[0m\u001b[0;34m,\u001b[0m\u001b[0;34m\u001b[0m\u001b[0;34m\u001b[0m\u001b[0m\n\u001b[1;32m      4\u001b[0m               metrics=['accuracy'])\n\u001b[1;32m      5\u001b[0m     \u001b[0;32mreturn\u001b[0m \u001b[0mmodel\u001b[0m\u001b[0;34m\u001b[0m\u001b[0;34m\u001b[0m\u001b[0m\n",
      "\u001b[0;31mAttributeError\u001b[0m: 'NoneType' object has no attribute 'compile'"
     ]
    }
   ],
   "source": [
    "model = initialize_model()\n",
    "model = compile_model(model)"
   ]
  },
  {
   "cell_type": "code",
   "execution_count": null,
   "id": "vital-pepper",
   "metadata": {},
   "outputs": [],
   "source": [
    "es = EarlyStopping(patience=10, restore_best_weights=True)\n",
    "history = model.fit(X_train[:1000], y_train[:1000],\n",
    "                    validation_split=0.3,\n",
    "                    epochs=200,\n",
    "                    batch_size=32,\n",
    "                    callbacks=[es], \n",
    "                    verbose=0)"
   ]
  },
  {
   "cell_type": "code",
   "execution_count": null,
   "id": "scientific-longitude",
   "metadata": {},
   "outputs": [],
   "source": [
    "model.evaluate(X_test, y_test, verbose=2)"
   ]
  },
  {
   "cell_type": "code",
   "execution_count": null,
   "id": "entire-proxy",
   "metadata": {},
   "outputs": [],
   "source": []
  },
  {
   "cell_type": "code",
   "execution_count": null,
   "id": "overhead-celebration",
   "metadata": {},
   "outputs": [],
   "source": []
  }
 ],
 "metadata": {
  "kernelspec": {
   "display_name": "Python 3",
   "language": "python",
   "name": "python3"
  },
  "language_info": {
   "codemirror_mode": {
    "name": "ipython",
    "version": 3
   },
   "file_extension": ".py",
   "mimetype": "text/x-python",
   "name": "python",
   "nbconvert_exporter": "python",
   "pygments_lexer": "ipython3",
   "version": "3.8.6"
  },
  "toc": {
   "base_numbering": 1,
   "nav_menu": {},
   "number_sections": true,
   "sideBar": true,
   "skip_h1_title": false,
   "title_cell": "Table of Contents",
   "title_sidebar": "Contents",
   "toc_cell": false,
   "toc_position": {},
   "toc_section_display": true,
   "toc_window_display": false
  },
  "varInspector": {
   "cols": {
    "lenName": 16,
    "lenType": 16,
    "lenVar": 40
   },
   "kernels_config": {
    "python": {
     "delete_cmd_postfix": "",
     "delete_cmd_prefix": "del ",
     "library": "var_list.py",
     "varRefreshCmd": "print(var_dic_list())"
    },
    "r": {
     "delete_cmd_postfix": ") ",
     "delete_cmd_prefix": "rm(",
     "library": "var_list.r",
     "varRefreshCmd": "cat(var_dic_list()) "
    }
   },
   "types_to_exclude": [
    "module",
    "function",
    "builtin_function_or_method",
    "instance",
    "_Feature"
   ],
   "window_display": false
  }
 },
 "nbformat": 4,
 "nbformat_minor": 5
}
