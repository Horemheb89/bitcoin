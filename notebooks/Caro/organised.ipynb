{
 "cells": [
  {
   "cell_type": "code",
   "execution_count": 1,
   "id": "previous-stress",
   "metadata": {},
   "outputs": [],
   "source": [
    "%load_ext autoreload\n",
    "%autoreload 2"
   ]
  },
  {
   "cell_type": "code",
   "execution_count": 2,
   "id": "demographic-empire",
   "metadata": {},
   "outputs": [],
   "source": [
    "import matplotlib.pyplot as plt\n",
    "import seaborn as sns\n",
    "import pandas as pd\n",
    "import numpy as np\n",
    "from sklearn.model_selection import train_test_split\n",
    "from sklearn.metrics import r2_score, accuracy_score\n",
    "from sklearn.preprocessing import LabelBinarizer\n",
    "from sklearn.linear_model import LogisticRegression\n",
    "from sklearn.model_selection import cross_val_score"
   ]
  },
  {
   "cell_type": "markdown",
   "id": "round-latin",
   "metadata": {},
   "source": [
    "# Import data"
   ]
  },
  {
   "cell_type": "code",
   "execution_count": 3,
   "id": "appreciated-fellowship",
   "metadata": {},
   "outputs": [],
   "source": [
    "data = pd.read_csv('../../raw_data/bitstampUSD.csv')"
   ]
  },
  {
   "cell_type": "markdown",
   "id": "settled-burner",
   "metadata": {},
   "source": [
    "# Clean data"
   ]
  },
  {
   "cell_type": "code",
   "execution_count": 4,
   "id": "civic-therapy",
   "metadata": {},
   "outputs": [],
   "source": [
    "data['Timestamp'] = pd.to_datetime(data['Timestamp'], unit='s', origin='unix')"
   ]
  },
  {
   "cell_type": "code",
   "execution_count": 5,
   "id": "buried-monitoring",
   "metadata": {},
   "outputs": [],
   "source": [
    "data = data[[\"Timestamp\", \"Open\"]].fillna(method='ffill')"
   ]
  },
  {
   "cell_type": "code",
   "execution_count": 6,
   "id": "figured-rating",
   "metadata": {},
   "outputs": [],
   "source": [
    "def open_diff_col(data):\n",
    "    data['Open_diff'] = data[\"Open\"].diff()\n",
    "    clean_data = data[1:]\n",
    "    return clean_data"
   ]
  },
  {
   "cell_type": "code",
   "execution_count": 7,
   "id": "fifteen-tennessee",
   "metadata": {},
   "outputs": [],
   "source": [
    "cleaned_data = open_diff_col(data)"
   ]
  },
  {
   "cell_type": "code",
   "execution_count": 8,
   "id": "negative-glass",
   "metadata": {},
   "outputs": [],
   "source": [
    "data_sample = cleaned_data[2798176:]\n",
    "data_test = data_sample[1829602:]"
   ]
  },
  {
   "cell_type": "code",
   "execution_count": 9,
   "id": "nuclear-isaac",
   "metadata": {},
   "outputs": [],
   "source": [
    "def y_encoding(data):\n",
    "    data['Coded'] = data['Open_diff'].map(lambda x: 0 if x <= 0 else 1)\n",
    "    return data"
   ]
  },
  {
   "cell_type": "code",
   "execution_count": 10,
   "id": "conventional-parts",
   "metadata": {
    "scrolled": true
   },
   "outputs": [
    {
     "name": "stderr",
     "output_type": "stream",
     "text": [
      "<ipython-input-9-0e0d2571e76e>:2: SettingWithCopyWarning: \n",
      "A value is trying to be set on a copy of a slice from a DataFrame.\n",
      "Try using .loc[row_indexer,col_indexer] = value instead\n",
      "\n",
      "See the caveats in the documentation: https://pandas.pydata.org/pandas-docs/stable/user_guide/indexing.html#returning-a-view-versus-a-copy\n",
      "  data['Coded'] = data['Open_diff'].map(lambda x: 0 if x <= 0 else 1)\n"
     ]
    },
    {
     "data": {
      "text/html": [
       "<div>\n",
       "<style scoped>\n",
       "    .dataframe tbody tr th:only-of-type {\n",
       "        vertical-align: middle;\n",
       "    }\n",
       "\n",
       "    .dataframe tbody tr th {\n",
       "        vertical-align: top;\n",
       "    }\n",
       "\n",
       "    .dataframe thead th {\n",
       "        text-align: right;\n",
       "    }\n",
       "</style>\n",
       "<table border=\"1\" class=\"dataframe\">\n",
       "  <thead>\n",
       "    <tr style=\"text-align: right;\">\n",
       "      <th></th>\n",
       "      <th>Timestamp</th>\n",
       "      <th>Open</th>\n",
       "      <th>Open_diff</th>\n",
       "      <th>Coded</th>\n",
       "    </tr>\n",
       "  </thead>\n",
       "  <tbody>\n",
       "    <tr>\n",
       "      <th>4627779</th>\n",
       "      <td>2020-10-22 13:23:00</td>\n",
       "      <td>12955.46</td>\n",
       "      <td>14.34</td>\n",
       "      <td>1</td>\n",
       "    </tr>\n",
       "    <tr>\n",
       "      <th>4627780</th>\n",
       "      <td>2020-10-22 13:24:00</td>\n",
       "      <td>12959.98</td>\n",
       "      <td>4.52</td>\n",
       "      <td>1</td>\n",
       "    </tr>\n",
       "    <tr>\n",
       "      <th>4627781</th>\n",
       "      <td>2020-10-22 13:25:00</td>\n",
       "      <td>12959.01</td>\n",
       "      <td>-0.97</td>\n",
       "      <td>0</td>\n",
       "    </tr>\n",
       "    <tr>\n",
       "      <th>4627782</th>\n",
       "      <td>2020-10-22 13:26:00</td>\n",
       "      <td>12949.05</td>\n",
       "      <td>-9.96</td>\n",
       "      <td>0</td>\n",
       "    </tr>\n",
       "    <tr>\n",
       "      <th>4627783</th>\n",
       "      <td>2020-10-22 13:27:00</td>\n",
       "      <td>12952.39</td>\n",
       "      <td>3.34</td>\n",
       "      <td>1</td>\n",
       "    </tr>\n",
       "  </tbody>\n",
       "</table>\n",
       "</div>"
      ],
      "text/plain": [
       "                  Timestamp      Open  Open_diff  Coded\n",
       "4627779 2020-10-22 13:23:00  12955.46      14.34      1\n",
       "4627780 2020-10-22 13:24:00  12959.98       4.52      1\n",
       "4627781 2020-10-22 13:25:00  12959.01      -0.97      0\n",
       "4627782 2020-10-22 13:26:00  12949.05      -9.96      0\n",
       "4627783 2020-10-22 13:27:00  12952.39       3.34      1"
      ]
     },
     "execution_count": 10,
     "metadata": {},
     "output_type": "execute_result"
    }
   ],
   "source": [
    "y_encoded = y_encoding(data_test)\n",
    "y_encoded.head()"
   ]
  },
  {
   "cell_type": "markdown",
   "id": "stock-humidity",
   "metadata": {},
   "source": [
    "# Dumb baseline model"
   ]
  },
  {
   "cell_type": "code",
   "execution_count": 53,
   "id": "included-pocket",
   "metadata": {
    "scrolled": true
   },
   "outputs": [
    {
     "name": "stderr",
     "output_type": "stream",
     "text": [
      "<ipython-input-9-0e0d2571e76e>:2: SettingWithCopyWarning: \n",
      "A value is trying to be set on a copy of a slice from a DataFrame.\n",
      "Try using .loc[row_indexer,col_indexer] = value instead\n",
      "\n",
      "See the caveats in the documentation: https://pandas.pydata.org/pandas-docs/stable/user_guide/indexing.html#returning-a-view-versus-a-copy\n",
      "  data['Coded'] = data['Open_diff'].map(lambda x: 0 if x <= 0 else 1)\n"
     ]
    }
   ],
   "source": [
    "baseline_sample = data_sample[:1000000]\n",
    "y_base = y_encoding(baseline_sample)\n",
    "base = y_base[['Coded']]"
   ]
  },
  {
   "cell_type": "code",
   "execution_count": 54,
   "id": "radio-hebrew",
   "metadata": {},
   "outputs": [],
   "source": [
    "train_size = 0.6\n",
    "index = round(train_size*base.shape[0])\n",
    "df_train = base.iloc[:index]\n",
    "df_test = base.iloc[index+1:]"
   ]
  },
  {
   "cell_type": "code",
   "execution_count": 55,
   "id": "experienced-flesh",
   "metadata": {},
   "outputs": [
    {
     "name": "stdout",
     "output_type": "stream",
     "text": [
      "Accuracy:0.49721748608743044\n"
     ]
    }
   ],
   "source": [
    "y_pred = df_test.shift(1).dropna()\n",
    "y_true = df_test[1:]\n",
    "print(f\"Accuracy:{accuracy_score(y_true, y_pred)}\")"
   ]
  },
  {
   "cell_type": "markdown",
   "id": "isolated-delta",
   "metadata": {},
   "source": [
    "# Simple Logistic Regression model"
   ]
  },
  {
   "cell_type": "code",
   "execution_count": 56,
   "id": "broadband-atlanta",
   "metadata": {},
   "outputs": [
    {
     "data": {
      "text/plain": [
       "(1000000, 4)"
      ]
     },
     "execution_count": 56,
     "metadata": {},
     "output_type": "execute_result"
    }
   ],
   "source": [
    "y_base.shape"
   ]
  },
  {
   "cell_type": "code",
   "execution_count": 57,
   "id": "enabling-thong",
   "metadata": {},
   "outputs": [],
   "source": [
    "def input_data(data, sample_size, shift_size, train_size):\n",
    "\n",
    "    data_size = data.shape[0]\n",
    "    sample = data.iloc[(data_size-sample_size):data_size]\n",
    "    sample_pp = sample[['Coded', 'Timestamp']].set_index(\"Timestamp\").fillna(method='ffill')\n",
    "\n",
    "\n",
    "    for i in range(1, shift_size+1):\n",
    "        sample_pp[f't - {i}'] = sample_pp['Coded'].shift(i)\n",
    "    sample_shifted = sample_pp.dropna() \n",
    "\n",
    "\n",
    "    X = sample_shifted.drop(columns=['Coded'])\n",
    "    y = sample_shifted['Coded']\n",
    "\n",
    "\n",
    "    X_train = X.iloc[0:train_size]\n",
    "    y_train = y.iloc[0:train_size]\n",
    "    X_test = X.iloc[(train_size+1):(sample_size-shift_size)]\n",
    "    y_test = y.iloc[(train_size+1):(sample_size-shift_size)]\n",
    "    \n",
    "    return X_train, X_test, y_train, y_test"
   ]
  },
  {
   "cell_type": "code",
   "execution_count": 58,
   "id": "foreign-spirituality",
   "metadata": {},
   "outputs": [],
   "source": [
    "X_train, X_test, y_train, y_test = input_data(y_base, 500, 10, 100)"
   ]
  },
  {
   "cell_type": "code",
   "execution_count": 59,
   "id": "hundred-malawi",
   "metadata": {},
   "outputs": [
    {
     "data": {
      "text/plain": [
       "Timestamp\n",
       "2019-03-26 04:12:00    0\n",
       "2019-03-26 04:13:00    0\n",
       "2019-03-26 04:14:00    0\n",
       "2019-03-26 04:15:00    1\n",
       "2019-03-26 04:16:00    1\n",
       "2019-03-26 04:17:00    0\n",
       "2019-03-26 04:18:00    0\n",
       "2019-03-26 04:19:00    0\n",
       "2019-03-26 04:20:00    1\n",
       "2019-03-26 04:21:00    0\n",
       "2019-03-26 04:22:00    1\n",
       "2019-03-26 04:23:00    1\n",
       "2019-03-26 04:24:00    0\n",
       "2019-03-26 04:25:00    0\n",
       "2019-03-26 04:26:00    1\n",
       "2019-03-26 04:27:00    0\n",
       "2019-03-26 04:28:00    0\n",
       "2019-03-26 04:29:00    0\n",
       "2019-03-26 04:30:00    0\n",
       "2019-03-26 04:31:00    0\n",
       "Name: Coded, dtype: int64"
      ]
     },
     "execution_count": 59,
     "metadata": {},
     "output_type": "execute_result"
    }
   ],
   "source": [
    "y_test.head(20)"
   ]
  },
  {
   "cell_type": "code",
   "execution_count": 60,
   "id": "interior-vegetarian",
   "metadata": {},
   "outputs": [
    {
     "data": {
      "text/plain": [
       "array([0, 0, 0, 0, 0, 0, 0, 1, 0, 0, 0, 0, 0, 0, 1, 0, 0, 0, 0, 0])"
      ]
     },
     "execution_count": 60,
     "metadata": {},
     "output_type": "execute_result"
    }
   ],
   "source": [
    "log_reg = LogisticRegression()\n",
    "log_reg = log_reg.fit(X_train, y_train)\n",
    "results = log_reg.predict(X_test)\n",
    "results[:20]"
   ]
  },
  {
   "cell_type": "code",
   "execution_count": 61,
   "id": "treated-hypothesis",
   "metadata": {},
   "outputs": [
    {
     "data": {
      "text/plain": [
       "0.6246786632390745"
      ]
     },
     "execution_count": 61,
     "metadata": {},
     "output_type": "execute_result"
    }
   ],
   "source": [
    "score = log_reg.score(X_test, y_test)\n",
    "score"
   ]
  },
  {
   "cell_type": "markdown",
   "id": "bulgarian-butterfly",
   "metadata": {},
   "source": [
    "# More advanced model"
   ]
  },
  {
   "cell_type": "code",
   "execution_count": null,
   "id": "elementary-google",
   "metadata": {},
   "outputs": [],
   "source": []
  },
  {
   "cell_type": "code",
   "execution_count": null,
   "id": "alternative-camping",
   "metadata": {},
   "outputs": [],
   "source": []
  },
  {
   "cell_type": "code",
   "execution_count": null,
   "id": "popular-night",
   "metadata": {},
   "outputs": [],
   "source": []
  },
  {
   "cell_type": "code",
   "execution_count": null,
   "id": "olive-knight",
   "metadata": {},
   "outputs": [],
   "source": []
  },
  {
   "cell_type": "code",
   "execution_count": null,
   "id": "vietnamese-intellectual",
   "metadata": {},
   "outputs": [],
   "source": []
  },
  {
   "cell_type": "code",
   "execution_count": null,
   "id": "structural-oxygen",
   "metadata": {},
   "outputs": [],
   "source": []
  },
  {
   "cell_type": "code",
   "execution_count": null,
   "id": "copyrighted-aurora",
   "metadata": {},
   "outputs": [],
   "source": []
  },
  {
   "cell_type": "code",
   "execution_count": null,
   "id": "worthy-authentication",
   "metadata": {},
   "outputs": [],
   "source": []
  },
  {
   "cell_type": "code",
   "execution_count": null,
   "id": "unauthorized-variety",
   "metadata": {},
   "outputs": [],
   "source": []
  },
  {
   "cell_type": "code",
   "execution_count": null,
   "id": "fatty-musician",
   "metadata": {},
   "outputs": [],
   "source": []
  }
 ],
 "metadata": {
  "kernelspec": {
   "display_name": "Python 3",
   "language": "python",
   "name": "python3"
  },
  "language_info": {
   "codemirror_mode": {
    "name": "ipython",
    "version": 3
   },
   "file_extension": ".py",
   "mimetype": "text/x-python",
   "name": "python",
   "nbconvert_exporter": "python",
   "pygments_lexer": "ipython3",
   "version": "3.8.6"
  }
 },
 "nbformat": 4,
 "nbformat_minor": 5
}
