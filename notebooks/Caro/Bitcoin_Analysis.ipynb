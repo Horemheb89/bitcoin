{
 "cells": [
  {
   "cell_type": "markdown",
   "id": "exempt-estate",
   "metadata": {},
   "source": [
    "# Bitcoin Sheet"
   ]
  },
  {
   "cell_type": "markdown",
   "id": "commercial-spider",
   "metadata": {},
   "source": [
    "### Get results"
   ]
  },
  {
   "cell_type": "code",
   "execution_count": 149,
   "id": "alike-mainstream",
   "metadata": {},
   "outputs": [],
   "source": [
    "import pandas as pd \n",
    "import seaborn as sns\n",
    "import matplotlib.pyplot as plt"
   ]
  },
  {
   "cell_type": "code",
   "execution_count": 212,
   "id": "focused-caribbean",
   "metadata": {},
   "outputs": [
    {
     "data": {
      "text/plain": [
       "(133, 738)"
      ]
     },
     "execution_count": 212,
     "metadata": {},
     "output_type": "execute_result"
    }
   ],
   "source": [
    "df = pd.read_csv('runs (5).csv')\n",
    "df.shape"
   ]
  },
  {
   "cell_type": "code",
   "execution_count": 213,
   "id": "explicit-gnome",
   "metadata": {},
   "outputs": [
    {
     "data": {
      "text/plain": [
       "Index(['Run ID', 'Name', 'Source Type', 'Source Name', 'User', 'Status',\n",
       "       'buddy_name', 'date_end', 'date_start', 'features_size', 'h',\n",
       "       'model_init', 'sample_size', 'train_fraction', 'coef_feature 0',\n",
       "       'coef_feature 1', 'coef_feature 10', 'coef_feature 100',\n",
       "       'coef_feature 101', 'coef_feature 102'],\n",
       "      dtype='object')"
      ]
     },
     "execution_count": 213,
     "metadata": {},
     "output_type": "execute_result"
    }
   ],
   "source": [
    "df.columns[:20]"
   ]
  },
  {
   "cell_type": "code",
   "execution_count": 205,
   "id": "dietary-enforcement",
   "metadata": {},
   "outputs": [],
   "source": [
    "# Keep right columns\n",
    "df = df[['Run ID', 'buddy_name','date_end','date_start', 'features_size', 'h',\n",
    "       'model_init', 'sample_size', 'train_fraction','mean_score','score_max','score_min','std']]"
   ]
  },
  {
   "cell_type": "code",
   "execution_count": 206,
   "id": "protecting-communications",
   "metadata": {
    "scrolled": true
   },
   "outputs": [
    {
     "data": {
      "text/html": [
       "<div>\n",
       "<style scoped>\n",
       "    .dataframe tbody tr th:only-of-type {\n",
       "        vertical-align: middle;\n",
       "    }\n",
       "\n",
       "    .dataframe tbody tr th {\n",
       "        vertical-align: top;\n",
       "    }\n",
       "\n",
       "    .dataframe thead th {\n",
       "        text-align: right;\n",
       "    }\n",
       "</style>\n",
       "<table border=\"1\" class=\"dataframe\">\n",
       "  <thead>\n",
       "    <tr style=\"text-align: right;\">\n",
       "      <th></th>\n",
       "      <th>Run ID</th>\n",
       "      <th>buddy_name</th>\n",
       "      <th>date_end</th>\n",
       "      <th>date_start</th>\n",
       "      <th>features_size</th>\n",
       "      <th>h</th>\n",
       "      <th>model_init</th>\n",
       "      <th>sample_size</th>\n",
       "      <th>train_fraction</th>\n",
       "      <th>mean_score</th>\n",
       "      <th>score_max</th>\n",
       "      <th>score_min</th>\n",
       "      <th>std</th>\n",
       "    </tr>\n",
       "  </thead>\n",
       "  <tbody>\n",
       "    <tr>\n",
       "      <th>0</th>\n",
       "      <td>34389f17595147c69738afe56ffd6f20</td>\n",
       "      <td>{'Anne-Constance'}</td>\n",
       "      <td>2020</td>\n",
       "      <td>2020</td>\n",
       "      <td>30</td>\n",
       "      <td>10</td>\n",
       "      <td>RidgeClassifier(alpha=1.0, class_weight=None, ...</td>\n",
       "      <td>129600</td>\n",
       "      <td>0.7</td>\n",
       "      <td>0.53</td>\n",
       "      <td>0.55</td>\n",
       "      <td>0.51</td>\n",
       "      <td>0.01</td>\n",
       "    </tr>\n",
       "    <tr>\n",
       "      <th>1</th>\n",
       "      <td>339de1ac72d64fa792635b828cd2f4be</td>\n",
       "      <td>{'Anne-Constance'}</td>\n",
       "      <td>2020</td>\n",
       "      <td>2020</td>\n",
       "      <td>30</td>\n",
       "      <td>10</td>\n",
       "      <td>RidgeClassifier(alpha=1.0, class_weight=None, ...</td>\n",
       "      <td>86400</td>\n",
       "      <td>0.7</td>\n",
       "      <td>0.53</td>\n",
       "      <td>0.55</td>\n",
       "      <td>0.50</td>\n",
       "      <td>0.01</td>\n",
       "    </tr>\n",
       "    <tr>\n",
       "      <th>2</th>\n",
       "      <td>0f0ae69b94154ecfacae0bc116bfe451</td>\n",
       "      <td>{'Anne-Constance'}</td>\n",
       "      <td>2020</td>\n",
       "      <td>2020</td>\n",
       "      <td>30</td>\n",
       "      <td>10</td>\n",
       "      <td>RidgeClassifier(alpha=1.0, class_weight=None, ...</td>\n",
       "      <td>43200</td>\n",
       "      <td>0.7</td>\n",
       "      <td>0.53</td>\n",
       "      <td>0.56</td>\n",
       "      <td>0.50</td>\n",
       "      <td>0.01</td>\n",
       "    </tr>\n",
       "    <tr>\n",
       "      <th>3</th>\n",
       "      <td>148cfa5687eb4cab893538c7f05e071a</td>\n",
       "      <td>{'Anne-Constance'}</td>\n",
       "      <td>2020</td>\n",
       "      <td>2020</td>\n",
       "      <td>30</td>\n",
       "      <td>10</td>\n",
       "      <td>RidgeClassifier(alpha=1.0, class_weight=None, ...</td>\n",
       "      <td>21600</td>\n",
       "      <td>0.7</td>\n",
       "      <td>0.53</td>\n",
       "      <td>0.57</td>\n",
       "      <td>0.47</td>\n",
       "      <td>0.02</td>\n",
       "    </tr>\n",
       "    <tr>\n",
       "      <th>4</th>\n",
       "      <td>4d2c8e9266b6412581126ef756a0b485</td>\n",
       "      <td>{'Anne-Constance'}</td>\n",
       "      <td>2020</td>\n",
       "      <td>2020</td>\n",
       "      <td>30</td>\n",
       "      <td>10</td>\n",
       "      <td>RidgeClassifier(alpha=1.0, class_weight=None, ...</td>\n",
       "      <td>14400</td>\n",
       "      <td>0.7</td>\n",
       "      <td>0.53</td>\n",
       "      <td>0.58</td>\n",
       "      <td>0.46</td>\n",
       "      <td>0.02</td>\n",
       "    </tr>\n",
       "  </tbody>\n",
       "</table>\n",
       "</div>"
      ],
      "text/plain": [
       "                             Run ID          buddy_name date_end date_start  \\\n",
       "0  34389f17595147c69738afe56ffd6f20  {'Anne-Constance'}     2020       2020   \n",
       "1  339de1ac72d64fa792635b828cd2f4be  {'Anne-Constance'}     2020       2020   \n",
       "2  0f0ae69b94154ecfacae0bc116bfe451  {'Anne-Constance'}     2020       2020   \n",
       "3  148cfa5687eb4cab893538c7f05e071a  {'Anne-Constance'}     2020       2020   \n",
       "4  4d2c8e9266b6412581126ef756a0b485  {'Anne-Constance'}     2020       2020   \n",
       "\n",
       "   features_size   h                                         model_init  \\\n",
       "0             30  10  RidgeClassifier(alpha=1.0, class_weight=None, ...   \n",
       "1             30  10  RidgeClassifier(alpha=1.0, class_weight=None, ...   \n",
       "2             30  10  RidgeClassifier(alpha=1.0, class_weight=None, ...   \n",
       "3             30  10  RidgeClassifier(alpha=1.0, class_weight=None, ...   \n",
       "4             30  10  RidgeClassifier(alpha=1.0, class_weight=None, ...   \n",
       "\n",
       "   sample_size  train_fraction  mean_score  score_max  score_min   std  \n",
       "0       129600             0.7        0.53       0.55       0.51  0.01  \n",
       "1        86400             0.7        0.53       0.55       0.50  0.01  \n",
       "2        43200             0.7        0.53       0.56       0.50  0.01  \n",
       "3        21600             0.7        0.53       0.57       0.47  0.02  \n",
       "4        14400             0.7        0.53       0.58       0.46  0.02  "
      ]
     },
     "execution_count": 206,
     "metadata": {},
     "output_type": "execute_result"
    }
   ],
   "source": [
    "df.head()"
   ]
  },
  {
   "cell_type": "code",
   "execution_count": 185,
   "id": "former-character",
   "metadata": {
    "scrolled": true
   },
   "outputs": [
    {
     "data": {
      "text/plain": [
       "(54, 13)"
      ]
     },
     "execution_count": 185,
     "metadata": {},
     "output_type": "execute_result"
    }
   ],
   "source": [
    "# Remove initial tests\n",
    "df = df.dropna(axis=0, subset=['mean_score'])\n",
    "df = df.dropna(axis=0, subset=['buddy_name'])\n",
    "df = df[df['date_start'] == '2020']\n",
    "df.shape"
   ]
  },
  {
   "cell_type": "code",
   "execution_count": 166,
   "id": "civic-french",
   "metadata": {},
   "outputs": [],
   "source": []
  },
  {
   "cell_type": "code",
   "execution_count": 186,
   "id": "another-alaska",
   "metadata": {
    "scrolled": true
   },
   "outputs": [],
   "source": [
    "# Only keep Ridge\n",
    "df = df[df['model_init'].str.contains('RidgeClassifier')]"
   ]
  },
  {
   "cell_type": "markdown",
   "id": "surprising-protein",
   "metadata": {},
   "source": [
    "# Filter results"
   ]
  },
  {
   "cell_type": "code",
   "execution_count": 201,
   "id": "legitimate-grass",
   "metadata": {},
   "outputs": [
    {
     "data": {
      "text/html": [
       "<div>\n",
       "<style scoped>\n",
       "    .dataframe tbody tr th:only-of-type {\n",
       "        vertical-align: middle;\n",
       "    }\n",
       "\n",
       "    .dataframe tbody tr th {\n",
       "        vertical-align: top;\n",
       "    }\n",
       "\n",
       "    .dataframe thead th {\n",
       "        text-align: right;\n",
       "    }\n",
       "</style>\n",
       "<table border=\"1\" class=\"dataframe\">\n",
       "  <thead>\n",
       "    <tr style=\"text-align: right;\">\n",
       "      <th></th>\n",
       "      <th>Run ID</th>\n",
       "      <th>buddy_name</th>\n",
       "      <th>date_end</th>\n",
       "      <th>date_start</th>\n",
       "      <th>features_size</th>\n",
       "      <th>h</th>\n",
       "      <th>model_init</th>\n",
       "      <th>sample_size</th>\n",
       "      <th>train_fraction</th>\n",
       "      <th>mean_score</th>\n",
       "      <th>score_max</th>\n",
       "      <th>score_min</th>\n",
       "      <th>std</th>\n",
       "    </tr>\n",
       "  </thead>\n",
       "  <tbody>\n",
       "    <tr>\n",
       "      <th>0</th>\n",
       "      <td>34389f17595147c69738afe56ffd6f20</td>\n",
       "      <td>{'Anne-Constance'}</td>\n",
       "      <td>2020</td>\n",
       "      <td>2020</td>\n",
       "      <td>30</td>\n",
       "      <td>10</td>\n",
       "      <td>RidgeClassifier(alpha=1.0, class_weight=None, ...</td>\n",
       "      <td>129600</td>\n",
       "      <td>0.7</td>\n",
       "      <td>0.53</td>\n",
       "      <td>0.55</td>\n",
       "      <td>0.51</td>\n",
       "      <td>0.01</td>\n",
       "    </tr>\n",
       "    <tr>\n",
       "      <th>17</th>\n",
       "      <td>9d00e23a581b4f2b86d59aa170541ffa</td>\n",
       "      <td>{'Amelie'}</td>\n",
       "      <td>2020</td>\n",
       "      <td>2020</td>\n",
       "      <td>300</td>\n",
       "      <td>10</td>\n",
       "      <td>RidgeClassifier(alpha=1.0, class_weight=None, ...</td>\n",
       "      <td>43200</td>\n",
       "      <td>0.7</td>\n",
       "      <td>0.53</td>\n",
       "      <td>0.55</td>\n",
       "      <td>0.51</td>\n",
       "      <td>0.01</td>\n",
       "    </tr>\n",
       "    <tr>\n",
       "      <th>46</th>\n",
       "      <td>40f9ac0a257041248208aa7793e25c6b</td>\n",
       "      <td>{'Amelie'}</td>\n",
       "      <td>2020</td>\n",
       "      <td>2020</td>\n",
       "      <td>60</td>\n",
       "      <td>10</td>\n",
       "      <td>RidgeClassifier(alpha=1.0, class_weight=None, ...</td>\n",
       "      <td>10080</td>\n",
       "      <td>0.7</td>\n",
       "      <td>0.53</td>\n",
       "      <td>0.58</td>\n",
       "      <td>0.46</td>\n",
       "      <td>0.02</td>\n",
       "    </tr>\n",
       "    <tr>\n",
       "      <th>40</th>\n",
       "      <td>07e91df01c6148838de143a240027034</td>\n",
       "      <td>{'Nicolas'}</td>\n",
       "      <td>2020</td>\n",
       "      <td>2020</td>\n",
       "      <td>60</td>\n",
       "      <td>10</td>\n",
       "      <td>RidgeClassifier(alpha=1.0, class_weight=None, ...</td>\n",
       "      <td>10080</td>\n",
       "      <td>0.7</td>\n",
       "      <td>0.53</td>\n",
       "      <td>0.58</td>\n",
       "      <td>0.46</td>\n",
       "      <td>0.02</td>\n",
       "    </tr>\n",
       "    <tr>\n",
       "      <th>38</th>\n",
       "      <td>172f6ba8baad4a08b929f504d03668c3</td>\n",
       "      <td>{'Nicolas'}</td>\n",
       "      <td>2020</td>\n",
       "      <td>2020</td>\n",
       "      <td>60</td>\n",
       "      <td>10</td>\n",
       "      <td>RidgeClassifier(alpha=1.0, class_weight=None, ...</td>\n",
       "      <td>14400</td>\n",
       "      <td>0.7</td>\n",
       "      <td>0.53</td>\n",
       "      <td>0.58</td>\n",
       "      <td>0.46</td>\n",
       "      <td>0.02</td>\n",
       "    </tr>\n",
       "    <tr>\n",
       "      <th>37</th>\n",
       "      <td>a8aff0db97e84838af464791f77822c3</td>\n",
       "      <td>{'Nicolas'}</td>\n",
       "      <td>2020</td>\n",
       "      <td>2020</td>\n",
       "      <td>60</td>\n",
       "      <td>10</td>\n",
       "      <td>RidgeClassifier(alpha=1.0, class_weight=None, ...</td>\n",
       "      <td>21600</td>\n",
       "      <td>0.7</td>\n",
       "      <td>0.53</td>\n",
       "      <td>0.57</td>\n",
       "      <td>0.48</td>\n",
       "      <td>0.02</td>\n",
       "    </tr>\n",
       "    <tr>\n",
       "      <th>36</th>\n",
       "      <td>346ea46000be4db89e8d8c6b9e354c75</td>\n",
       "      <td>{'Nicolas'}</td>\n",
       "      <td>2020</td>\n",
       "      <td>2020</td>\n",
       "      <td>60</td>\n",
       "      <td>10</td>\n",
       "      <td>RidgeClassifier(alpha=1.0, class_weight=None, ...</td>\n",
       "      <td>43200</td>\n",
       "      <td>0.7</td>\n",
       "      <td>0.53</td>\n",
       "      <td>0.56</td>\n",
       "      <td>0.50</td>\n",
       "      <td>0.01</td>\n",
       "    </tr>\n",
       "    <tr>\n",
       "      <th>34</th>\n",
       "      <td>cfdea7e137cf46dcbbc8ff0a7b8e789b</td>\n",
       "      <td>{'Nicolas'}</td>\n",
       "      <td>2020</td>\n",
       "      <td>2020</td>\n",
       "      <td>60</td>\n",
       "      <td>10</td>\n",
       "      <td>RidgeClassifier(alpha=1.0, class_weight=None, ...</td>\n",
       "      <td>86400</td>\n",
       "      <td>0.7</td>\n",
       "      <td>0.53</td>\n",
       "      <td>0.55</td>\n",
       "      <td>0.50</td>\n",
       "      <td>0.01</td>\n",
       "    </tr>\n",
       "    <tr>\n",
       "      <th>33</th>\n",
       "      <td>43f8cc8432fe4e7c847bae14999cd56c</td>\n",
       "      <td>{'Nicolas'}</td>\n",
       "      <td>2020</td>\n",
       "      <td>2020</td>\n",
       "      <td>60</td>\n",
       "      <td>10</td>\n",
       "      <td>RidgeClassifier(alpha=1.0, class_weight=None, ...</td>\n",
       "      <td>129600</td>\n",
       "      <td>0.7</td>\n",
       "      <td>0.53</td>\n",
       "      <td>0.55</td>\n",
       "      <td>0.51</td>\n",
       "      <td>0.01</td>\n",
       "    </tr>\n",
       "    <tr>\n",
       "      <th>22</th>\n",
       "      <td>d6e3ab2d0f4d486a8cf00f963158e254</td>\n",
       "      <td>{'Amelie'}</td>\n",
       "      <td>2020</td>\n",
       "      <td>2020</td>\n",
       "      <td>60</td>\n",
       "      <td>10</td>\n",
       "      <td>RidgeClassifier(alpha=1.0, class_weight=None, ...</td>\n",
       "      <td>43200</td>\n",
       "      <td>0.7</td>\n",
       "      <td>0.53</td>\n",
       "      <td>0.56</td>\n",
       "      <td>0.51</td>\n",
       "      <td>0.01</td>\n",
       "    </tr>\n",
       "    <tr>\n",
       "      <th>20</th>\n",
       "      <td>5443704e13cf435faeb369bcde9657ce</td>\n",
       "      <td>{'Amelie'}</td>\n",
       "      <td>2020</td>\n",
       "      <td>2020</td>\n",
       "      <td>120</td>\n",
       "      <td>10</td>\n",
       "      <td>RidgeClassifier(alpha=1.0, class_weight=None, ...</td>\n",
       "      <td>43200</td>\n",
       "      <td>0.7</td>\n",
       "      <td>0.53</td>\n",
       "      <td>0.56</td>\n",
       "      <td>0.51</td>\n",
       "      <td>0.01</td>\n",
       "    </tr>\n",
       "    <tr>\n",
       "      <th>1</th>\n",
       "      <td>339de1ac72d64fa792635b828cd2f4be</td>\n",
       "      <td>{'Anne-Constance'}</td>\n",
       "      <td>2020</td>\n",
       "      <td>2020</td>\n",
       "      <td>30</td>\n",
       "      <td>10</td>\n",
       "      <td>RidgeClassifier(alpha=1.0, class_weight=None, ...</td>\n",
       "      <td>86400</td>\n",
       "      <td>0.7</td>\n",
       "      <td>0.53</td>\n",
       "      <td>0.55</td>\n",
       "      <td>0.50</td>\n",
       "      <td>0.01</td>\n",
       "    </tr>\n",
       "    <tr>\n",
       "      <th>18</th>\n",
       "      <td>953e1ac77e8f49068752b6cbaa502b93</td>\n",
       "      <td>{'Amelie'}</td>\n",
       "      <td>2020</td>\n",
       "      <td>2020</td>\n",
       "      <td>240</td>\n",
       "      <td>10</td>\n",
       "      <td>RidgeClassifier(alpha=1.0, class_weight=None, ...</td>\n",
       "      <td>43200</td>\n",
       "      <td>0.7</td>\n",
       "      <td>0.53</td>\n",
       "      <td>0.56</td>\n",
       "      <td>0.51</td>\n",
       "      <td>0.01</td>\n",
       "    </tr>\n",
       "    <tr>\n",
       "      <th>19</th>\n",
       "      <td>fdbd1a8f68b647498abfbe1c6ec5f088</td>\n",
       "      <td>{'Amelie'}</td>\n",
       "      <td>2020</td>\n",
       "      <td>2020</td>\n",
       "      <td>180</td>\n",
       "      <td>10</td>\n",
       "      <td>RidgeClassifier(alpha=1.0, class_weight=None, ...</td>\n",
       "      <td>43200</td>\n",
       "      <td>0.7</td>\n",
       "      <td>0.53</td>\n",
       "      <td>0.56</td>\n",
       "      <td>0.51</td>\n",
       "      <td>0.01</td>\n",
       "    </tr>\n",
       "    <tr>\n",
       "      <th>48</th>\n",
       "      <td>ff020107b7b14c1baf7436ff10c1352e</td>\n",
       "      <td>{'Caroline'}</td>\n",
       "      <td>2020</td>\n",
       "      <td>2020</td>\n",
       "      <td>60</td>\n",
       "      <td>10</td>\n",
       "      <td>RidgeClassifier(alpha=1.0, class_weight=None, ...</td>\n",
       "      <td>10080</td>\n",
       "      <td>0.7</td>\n",
       "      <td>0.53</td>\n",
       "      <td>0.58</td>\n",
       "      <td>NaN</td>\n",
       "      <td>0.02</td>\n",
       "    </tr>\n",
       "    <tr>\n",
       "      <th>3</th>\n",
       "      <td>148cfa5687eb4cab893538c7f05e071a</td>\n",
       "      <td>{'Anne-Constance'}</td>\n",
       "      <td>2020</td>\n",
       "      <td>2020</td>\n",
       "      <td>30</td>\n",
       "      <td>10</td>\n",
       "      <td>RidgeClassifier(alpha=1.0, class_weight=None, ...</td>\n",
       "      <td>21600</td>\n",
       "      <td>0.7</td>\n",
       "      <td>0.53</td>\n",
       "      <td>0.57</td>\n",
       "      <td>0.47</td>\n",
       "      <td>0.02</td>\n",
       "    </tr>\n",
       "    <tr>\n",
       "      <th>12</th>\n",
       "      <td>2d562344fa75499794c333104ff23337</td>\n",
       "      <td>{'Anne-Constance'}</td>\n",
       "      <td>2020</td>\n",
       "      <td>2020</td>\n",
       "      <td>60</td>\n",
       "      <td>10</td>\n",
       "      <td>RidgeClassifier(alpha=1.0, class_weight=None, ...</td>\n",
       "      <td>14400</td>\n",
       "      <td>0.7</td>\n",
       "      <td>0.53</td>\n",
       "      <td>0.58</td>\n",
       "      <td>0.46</td>\n",
       "      <td>0.02</td>\n",
       "    </tr>\n",
       "    <tr>\n",
       "      <th>11</th>\n",
       "      <td>12ad0d9325464f61be1fd9650de7cb49</td>\n",
       "      <td>{'Anne-Constance'}</td>\n",
       "      <td>2020</td>\n",
       "      <td>2020</td>\n",
       "      <td>60</td>\n",
       "      <td>10</td>\n",
       "      <td>RidgeClassifier(alpha=1.0, class_weight=None, ...</td>\n",
       "      <td>21600</td>\n",
       "      <td>0.7</td>\n",
       "      <td>0.53</td>\n",
       "      <td>0.57</td>\n",
       "      <td>0.48</td>\n",
       "      <td>0.02</td>\n",
       "    </tr>\n",
       "    <tr>\n",
       "      <th>10</th>\n",
       "      <td>db1d2423082541bc83358cf99f181fd5</td>\n",
       "      <td>{'Anne-Constance'}</td>\n",
       "      <td>2020</td>\n",
       "      <td>2020</td>\n",
       "      <td>60</td>\n",
       "      <td>10</td>\n",
       "      <td>RidgeClassifier(alpha=1.0, class_weight=None, ...</td>\n",
       "      <td>43200</td>\n",
       "      <td>0.7</td>\n",
       "      <td>0.53</td>\n",
       "      <td>0.56</td>\n",
       "      <td>0.51</td>\n",
       "      <td>0.01</td>\n",
       "    </tr>\n",
       "    <tr>\n",
       "      <th>2</th>\n",
       "      <td>0f0ae69b94154ecfacae0bc116bfe451</td>\n",
       "      <td>{'Anne-Constance'}</td>\n",
       "      <td>2020</td>\n",
       "      <td>2020</td>\n",
       "      <td>30</td>\n",
       "      <td>10</td>\n",
       "      <td>RidgeClassifier(alpha=1.0, class_weight=None, ...</td>\n",
       "      <td>43200</td>\n",
       "      <td>0.7</td>\n",
       "      <td>0.53</td>\n",
       "      <td>0.56</td>\n",
       "      <td>0.50</td>\n",
       "      <td>0.01</td>\n",
       "    </tr>\n",
       "  </tbody>\n",
       "</table>\n",
       "</div>"
      ],
      "text/plain": [
       "                              Run ID          buddy_name date_end date_start  \\\n",
       "0   34389f17595147c69738afe56ffd6f20  {'Anne-Constance'}     2020       2020   \n",
       "17  9d00e23a581b4f2b86d59aa170541ffa          {'Amelie'}     2020       2020   \n",
       "46  40f9ac0a257041248208aa7793e25c6b          {'Amelie'}     2020       2020   \n",
       "40  07e91df01c6148838de143a240027034         {'Nicolas'}     2020       2020   \n",
       "38  172f6ba8baad4a08b929f504d03668c3         {'Nicolas'}     2020       2020   \n",
       "37  a8aff0db97e84838af464791f77822c3         {'Nicolas'}     2020       2020   \n",
       "36  346ea46000be4db89e8d8c6b9e354c75         {'Nicolas'}     2020       2020   \n",
       "34  cfdea7e137cf46dcbbc8ff0a7b8e789b         {'Nicolas'}     2020       2020   \n",
       "33  43f8cc8432fe4e7c847bae14999cd56c         {'Nicolas'}     2020       2020   \n",
       "22  d6e3ab2d0f4d486a8cf00f963158e254          {'Amelie'}     2020       2020   \n",
       "20  5443704e13cf435faeb369bcde9657ce          {'Amelie'}     2020       2020   \n",
       "1   339de1ac72d64fa792635b828cd2f4be  {'Anne-Constance'}     2020       2020   \n",
       "18  953e1ac77e8f49068752b6cbaa502b93          {'Amelie'}     2020       2020   \n",
       "19  fdbd1a8f68b647498abfbe1c6ec5f088          {'Amelie'}     2020       2020   \n",
       "48  ff020107b7b14c1baf7436ff10c1352e        {'Caroline'}     2020       2020   \n",
       "3   148cfa5687eb4cab893538c7f05e071a  {'Anne-Constance'}     2020       2020   \n",
       "12  2d562344fa75499794c333104ff23337  {'Anne-Constance'}     2020       2020   \n",
       "11  12ad0d9325464f61be1fd9650de7cb49  {'Anne-Constance'}     2020       2020   \n",
       "10  db1d2423082541bc83358cf99f181fd5  {'Anne-Constance'}     2020       2020   \n",
       "2   0f0ae69b94154ecfacae0bc116bfe451  {'Anne-Constance'}     2020       2020   \n",
       "\n",
       "    features_size   h                                         model_init  \\\n",
       "0              30  10  RidgeClassifier(alpha=1.0, class_weight=None, ...   \n",
       "17            300  10  RidgeClassifier(alpha=1.0, class_weight=None, ...   \n",
       "46             60  10  RidgeClassifier(alpha=1.0, class_weight=None, ...   \n",
       "40             60  10  RidgeClassifier(alpha=1.0, class_weight=None, ...   \n",
       "38             60  10  RidgeClassifier(alpha=1.0, class_weight=None, ...   \n",
       "37             60  10  RidgeClassifier(alpha=1.0, class_weight=None, ...   \n",
       "36             60  10  RidgeClassifier(alpha=1.0, class_weight=None, ...   \n",
       "34             60  10  RidgeClassifier(alpha=1.0, class_weight=None, ...   \n",
       "33             60  10  RidgeClassifier(alpha=1.0, class_weight=None, ...   \n",
       "22             60  10  RidgeClassifier(alpha=1.0, class_weight=None, ...   \n",
       "20            120  10  RidgeClassifier(alpha=1.0, class_weight=None, ...   \n",
       "1              30  10  RidgeClassifier(alpha=1.0, class_weight=None, ...   \n",
       "18            240  10  RidgeClassifier(alpha=1.0, class_weight=None, ...   \n",
       "19            180  10  RidgeClassifier(alpha=1.0, class_weight=None, ...   \n",
       "48             60  10  RidgeClassifier(alpha=1.0, class_weight=None, ...   \n",
       "3              30  10  RidgeClassifier(alpha=1.0, class_weight=None, ...   \n",
       "12             60  10  RidgeClassifier(alpha=1.0, class_weight=None, ...   \n",
       "11             60  10  RidgeClassifier(alpha=1.0, class_weight=None, ...   \n",
       "10             60  10  RidgeClassifier(alpha=1.0, class_weight=None, ...   \n",
       "2              30  10  RidgeClassifier(alpha=1.0, class_weight=None, ...   \n",
       "\n",
       "    sample_size  train_fraction  mean_score  score_max  score_min   std  \n",
       "0        129600             0.7        0.53       0.55       0.51  0.01  \n",
       "17        43200             0.7        0.53       0.55       0.51  0.01  \n",
       "46        10080             0.7        0.53       0.58       0.46  0.02  \n",
       "40        10080             0.7        0.53       0.58       0.46  0.02  \n",
       "38        14400             0.7        0.53       0.58       0.46  0.02  \n",
       "37        21600             0.7        0.53       0.57       0.48  0.02  \n",
       "36        43200             0.7        0.53       0.56       0.50  0.01  \n",
       "34        86400             0.7        0.53       0.55       0.50  0.01  \n",
       "33       129600             0.7        0.53       0.55       0.51  0.01  \n",
       "22        43200             0.7        0.53       0.56       0.51  0.01  \n",
       "20        43200             0.7        0.53       0.56       0.51  0.01  \n",
       "1         86400             0.7        0.53       0.55       0.50  0.01  \n",
       "18        43200             0.7        0.53       0.56       0.51  0.01  \n",
       "19        43200             0.7        0.53       0.56       0.51  0.01  \n",
       "48        10080             0.7        0.53       0.58        NaN  0.02  \n",
       "3         21600             0.7        0.53       0.57       0.47  0.02  \n",
       "12        14400             0.7        0.53       0.58       0.46  0.02  \n",
       "11        21600             0.7        0.53       0.57       0.48  0.02  \n",
       "10        43200             0.7        0.53       0.56       0.51  0.01  \n",
       "2         43200             0.7        0.53       0.56       0.50  0.01  "
      ]
     },
     "execution_count": 201,
     "metadata": {},
     "output_type": "execute_result"
    }
   ],
   "source": [
    "df[(df['std'] < 0.03) & (df['h'] == 10)].sort_values(by='mean_score', ascending=False).head(20)"
   ]
  },
  {
   "cell_type": "markdown",
   "id": "colored-welcome",
   "metadata": {},
   "source": [
    "# Graphs"
   ]
  },
  {
   "cell_type": "markdown",
   "id": "metallic-penny",
   "metadata": {},
   "source": [
    "## Sample sizes"
   ]
  },
  {
   "cell_type": "code",
   "execution_count": 190,
   "id": "usual-tracker",
   "metadata": {
    "scrolled": true
   },
   "outputs": [
    {
     "data": {
      "image/png": "[encoded data removed]",
      "text/plain": [
       "<Figure size 720x360 with 1 Axes>"
      ]
     },
     "metadata": {
      "needs_background": "light"
     },
     "output_type": "display_data"
    }
   ],
   "source": [
    "fig, ax = plt.subplots(figsize=(10, 5))\n",
    "sns.stripplot(x = df['sample_size'], y = df['mean_score'], axes = ax, hue= df['buddy_name'])\n",
    "ax.set_title('Sample size and mean score');"
   ]
  },
  {
   "cell_type": "markdown",
   "id": "attempted-eating",
   "metadata": {},
   "source": [
    "# Stdv"
   ]
  },
  {
   "cell_type": "code",
   "execution_count": 195,
   "id": "public-jacket",
   "metadata": {},
   "outputs": [
    {
     "data": {
      "image/png": "[encoded data removed]",
      "text/plain": [
       "<Figure size 720x360 with 1 Axes>"
      ]
     },
     "metadata": {
      "needs_background": "light"
     },
     "output_type": "display_data"
    }
   ],
   "source": [
    "fig, ax = plt.subplots(figsize=(10, 5))\n",
    "sns.stripplot(x = df['sample_size'], y = df['std'], axes = ax,hue= df['buddy_name'])\n",
    "ax.set_title('Std and mean score')\n",
    "ax.set_ylim(0,0.1);"
   ]
  },
  {
   "cell_type": "markdown",
   "id": "balanced-marriage",
   "metadata": {},
   "source": [
    "Sample size decreases "
   ]
  },
  {
   "cell_type": "markdown",
   "id": "confidential-smile",
   "metadata": {},
   "source": [
    "# Feature Sizes"
   ]
  },
  {
   "cell_type": "code",
   "execution_count": 176,
   "id": "based-difficulty",
   "metadata": {},
   "outputs": [
    {
     "data": {
      "text/plain": [
       "(93, 13)"
      ]
     },
     "execution_count": 176,
     "metadata": {},
     "output_type": "execute_result"
    }
   ],
   "source": [
    "df.shape"
   ]
  },
  {
   "cell_type": "code",
   "execution_count": 184,
   "id": "mature-batman",
   "metadata": {},
   "outputs": [
    {
     "data": {
      "image/png": "[encoded data removed]",
      "text/plain": [
       "<Figure size 720x360 with 1 Axes>"
      ]
     },
     "metadata": {
      "needs_background": "light"
     },
     "output_type": "display_data"
    }
   ],
   "source": [
    "fig, ax = plt.subplots(figsize=(10, 5))\n",
    "sns.scatterplot(x = df1['features_size'], y = df1['std'], axes = ax , hue= df1['buddy_name'])\n",
    "ax.set_title('Feature size and mean score');"
   ]
  },
  {
   "cell_type": "markdown",
   "id": "substantial-johnston",
   "metadata": {},
   "source": [
    "# Horizon"
   ]
  },
  {
   "cell_type": "code",
   "execution_count": 158,
   "id": "superior-conversion",
   "metadata": {},
   "outputs": [
    {
     "data": {
      "image/png": "[encoded data removed]",
      "text/plain": [
       "<Figure size 720x360 with 1 Axes>"
      ]
     },
     "metadata": {
      "needs_background": "light"
     },
     "output_type": "display_data"
    }
   ],
   "source": [
    "fig, ax = plt.subplots(figsize=(10, 5))\n",
    "sns.scatterplot(x = df['h'], y = df['mean_score'], axes = ax,hue= df['buddy_name'])\n",
    "ax.set_title('Mean Score and Horizon');"
   ]
  },
  {
   "cell_type": "code",
   "execution_count": null,
   "id": "southeast-swaziland",
   "metadata": {},
   "outputs": [],
   "source": []
  }
 ],
 "metadata": {
  "kernelspec": {
   "display_name": "Python 3",
   "language": "python",
   "name": "python3"
  },
  "language_info": {
   "codemirror_mode": {
    "name": "ipython",
    "version": 3
   },
   "file_extension": ".py",
   "mimetype": "text/x-python",
   "name": "python",
   "nbconvert_exporter": "python",
   "pygments_lexer": "ipython3",
   "version": "3.8.6"
  }
 },
 "nbformat": 4,
 "nbformat_minor": 5
}
