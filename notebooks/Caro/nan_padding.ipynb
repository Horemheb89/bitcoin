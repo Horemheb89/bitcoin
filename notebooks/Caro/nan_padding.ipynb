{
 "cells": [
  {
   "cell_type": "code",
   "execution_count": 1,
   "id": "polar-regulation",
   "metadata": {},
   "outputs": [],
   "source": [
    "%load_ext autoreload\n",
    "%autoreload 2"
   ]
  },
  {
   "cell_type": "code",
   "execution_count": 2,
   "id": "suspended-thing",
   "metadata": {},
   "outputs": [],
   "source": [
    "import matplotlib.pyplot as plt\n",
    "import seaborn as sns\n",
    "import pandas as pd\n",
    "import numpy as np\n",
    "from sklearn.model_selection import train_test_split\n",
    "from sklearn.metrics import r2_score, accuracy_score\n",
    "from sklearn.preprocessing import LabelBinarizer\n",
    "from sklearn.linear_model import LogisticRegression\n",
    "from sklearn.model_selection import cross_val_score"
   ]
  },
  {
   "cell_type": "code",
   "execution_count": 3,
   "id": "personal-village",
   "metadata": {},
   "outputs": [],
   "source": [
    "data = pd.read_csv('../../raw_data/bitstampUSD.csv')"
   ]
  },
  {
   "cell_type": "code",
   "execution_count": 4,
   "id": "virgin-intersection",
   "metadata": {},
   "outputs": [
    {
     "data": {
      "text/html": [
       "<div>\n",
       "<style scoped>\n",
       "    .dataframe tbody tr th:only-of-type {\n",
       "        vertical-align: middle;\n",
       "    }\n",
       "\n",
       "    .dataframe tbody tr th {\n",
       "        vertical-align: top;\n",
       "    }\n",
       "\n",
       "    .dataframe thead th {\n",
       "        text-align: right;\n",
       "    }\n",
       "</style>\n",
       "<table border=\"1\" class=\"dataframe\">\n",
       "  <thead>\n",
       "    <tr style=\"text-align: right;\">\n",
       "      <th></th>\n",
       "      <th>Timestamp</th>\n",
       "      <th>Open</th>\n",
       "      <th>High</th>\n",
       "      <th>Low</th>\n",
       "      <th>Close</th>\n",
       "      <th>Volume_(BTC)</th>\n",
       "      <th>Volume_(Currency)</th>\n",
       "      <th>Weighted_Price</th>\n",
       "    </tr>\n",
       "  </thead>\n",
       "  <tbody>\n",
       "    <tr>\n",
       "      <th>0</th>\n",
       "      <td>2011-12-31 07:52:00</td>\n",
       "      <td>4.39</td>\n",
       "      <td>4.39</td>\n",
       "      <td>4.39</td>\n",
       "      <td>4.39</td>\n",
       "      <td>0.455581</td>\n",
       "      <td>2.0</td>\n",
       "      <td>4.39</td>\n",
       "    </tr>\n",
       "    <tr>\n",
       "      <th>1</th>\n",
       "      <td>2011-12-31 07:53:00</td>\n",
       "      <td>NaN</td>\n",
       "      <td>NaN</td>\n",
       "      <td>NaN</td>\n",
       "      <td>NaN</td>\n",
       "      <td>NaN</td>\n",
       "      <td>NaN</td>\n",
       "      <td>NaN</td>\n",
       "    </tr>\n",
       "    <tr>\n",
       "      <th>2</th>\n",
       "      <td>2011-12-31 07:54:00</td>\n",
       "      <td>NaN</td>\n",
       "      <td>NaN</td>\n",
       "      <td>NaN</td>\n",
       "      <td>NaN</td>\n",
       "      <td>NaN</td>\n",
       "      <td>NaN</td>\n",
       "      <td>NaN</td>\n",
       "    </tr>\n",
       "    <tr>\n",
       "      <th>3</th>\n",
       "      <td>2011-12-31 07:55:00</td>\n",
       "      <td>NaN</td>\n",
       "      <td>NaN</td>\n",
       "      <td>NaN</td>\n",
       "      <td>NaN</td>\n",
       "      <td>NaN</td>\n",
       "      <td>NaN</td>\n",
       "      <td>NaN</td>\n",
       "    </tr>\n",
       "    <tr>\n",
       "      <th>4</th>\n",
       "      <td>2011-12-31 07:56:00</td>\n",
       "      <td>NaN</td>\n",
       "      <td>NaN</td>\n",
       "      <td>NaN</td>\n",
       "      <td>NaN</td>\n",
       "      <td>NaN</td>\n",
       "      <td>NaN</td>\n",
       "      <td>NaN</td>\n",
       "    </tr>\n",
       "  </tbody>\n",
       "</table>\n",
       "</div>"
      ],
      "text/plain": [
       "            Timestamp  Open  High   Low  Close  Volume_(BTC)  \\\n",
       "0 2011-12-31 07:52:00  4.39  4.39  4.39   4.39      0.455581   \n",
       "1 2011-12-31 07:53:00   NaN   NaN   NaN    NaN           NaN   \n",
       "2 2011-12-31 07:54:00   NaN   NaN   NaN    NaN           NaN   \n",
       "3 2011-12-31 07:55:00   NaN   NaN   NaN    NaN           NaN   \n",
       "4 2011-12-31 07:56:00   NaN   NaN   NaN    NaN           NaN   \n",
       "\n",
       "   Volume_(Currency)  Weighted_Price  \n",
       "0                2.0            4.39  \n",
       "1                NaN             NaN  \n",
       "2                NaN             NaN  \n",
       "3                NaN             NaN  \n",
       "4                NaN             NaN  "
      ]
     },
     "execution_count": 4,
     "metadata": {},
     "output_type": "execute_result"
    }
   ],
   "source": [
    "data['Timestamp'] = pd.to_datetime(data['Timestamp'], unit='s', origin='unix')\n",
    "data.head()"
   ]
  },
  {
   "cell_type": "code",
   "execution_count": 5,
   "id": "straight-happening",
   "metadata": {},
   "outputs": [
    {
     "data": {
      "text/html": [
       "<div>\n",
       "<style scoped>\n",
       "    .dataframe tbody tr th:only-of-type {\n",
       "        vertical-align: middle;\n",
       "    }\n",
       "\n",
       "    .dataframe tbody tr th {\n",
       "        vertical-align: top;\n",
       "    }\n",
       "\n",
       "    .dataframe thead th {\n",
       "        text-align: right;\n",
       "    }\n",
       "</style>\n",
       "<table border=\"1\" class=\"dataframe\">\n",
       "  <thead>\n",
       "    <tr style=\"text-align: right;\">\n",
       "      <th></th>\n",
       "      <th>Timestamp</th>\n",
       "      <th>Open</th>\n",
       "    </tr>\n",
       "  </thead>\n",
       "  <tbody>\n",
       "    <tr>\n",
       "      <th>0</th>\n",
       "      <td>2011-12-31 07:52:00</td>\n",
       "      <td>4.39</td>\n",
       "    </tr>\n",
       "    <tr>\n",
       "      <th>1</th>\n",
       "      <td>2011-12-31 07:53:00</td>\n",
       "      <td>4.39</td>\n",
       "    </tr>\n",
       "    <tr>\n",
       "      <th>2</th>\n",
       "      <td>2011-12-31 07:54:00</td>\n",
       "      <td>4.39</td>\n",
       "    </tr>\n",
       "    <tr>\n",
       "      <th>3</th>\n",
       "      <td>2011-12-31 07:55:00</td>\n",
       "      <td>4.39</td>\n",
       "    </tr>\n",
       "    <tr>\n",
       "      <th>4</th>\n",
       "      <td>2011-12-31 07:56:00</td>\n",
       "      <td>4.39</td>\n",
       "    </tr>\n",
       "  </tbody>\n",
       "</table>\n",
       "</div>"
      ],
      "text/plain": [
       "            Timestamp  Open\n",
       "0 2011-12-31 07:52:00  4.39\n",
       "1 2011-12-31 07:53:00  4.39\n",
       "2 2011-12-31 07:54:00  4.39\n",
       "3 2011-12-31 07:55:00  4.39\n",
       "4 2011-12-31 07:56:00  4.39"
      ]
     },
     "execution_count": 5,
     "metadata": {},
     "output_type": "execute_result"
    }
   ],
   "source": [
    "data = data[[\"Timestamp\", \"Open\"]].fillna(method='ffill')\n",
    "data.head()"
   ]
  },
  {
   "cell_type": "code",
   "execution_count": 6,
   "id": "plastic-photography",
   "metadata": {},
   "outputs": [],
   "source": [
    "def open_diff_col(data):\n",
    "    data['open_diff'] = data[\"Open\"].diff()\n",
    "    clean_data = data[1:]\n",
    "    return clean_data"
   ]
  },
  {
   "cell_type": "code",
   "execution_count": 7,
   "id": "active-winning",
   "metadata": {},
   "outputs": [
    {
     "data": {
      "text/html": [
       "<div>\n",
       "<style scoped>\n",
       "    .dataframe tbody tr th:only-of-type {\n",
       "        vertical-align: middle;\n",
       "    }\n",
       "\n",
       "    .dataframe tbody tr th {\n",
       "        vertical-align: top;\n",
       "    }\n",
       "\n",
       "    .dataframe thead th {\n",
       "        text-align: right;\n",
       "    }\n",
       "</style>\n",
       "<table border=\"1\" class=\"dataframe\">\n",
       "  <thead>\n",
       "    <tr style=\"text-align: right;\">\n",
       "      <th></th>\n",
       "      <th>Timestamp</th>\n",
       "      <th>Open</th>\n",
       "      <th>open_diff</th>\n",
       "    </tr>\n",
       "  </thead>\n",
       "  <tbody>\n",
       "    <tr>\n",
       "      <th>1</th>\n",
       "      <td>2011-12-31 07:53:00</td>\n",
       "      <td>4.39</td>\n",
       "      <td>0.00</td>\n",
       "    </tr>\n",
       "    <tr>\n",
       "      <th>2</th>\n",
       "      <td>2011-12-31 07:54:00</td>\n",
       "      <td>4.39</td>\n",
       "      <td>0.00</td>\n",
       "    </tr>\n",
       "    <tr>\n",
       "      <th>3</th>\n",
       "      <td>2011-12-31 07:55:00</td>\n",
       "      <td>4.39</td>\n",
       "      <td>0.00</td>\n",
       "    </tr>\n",
       "    <tr>\n",
       "      <th>4</th>\n",
       "      <td>2011-12-31 07:56:00</td>\n",
       "      <td>4.39</td>\n",
       "      <td>0.00</td>\n",
       "    </tr>\n",
       "    <tr>\n",
       "      <th>5</th>\n",
       "      <td>2011-12-31 07:57:00</td>\n",
       "      <td>4.39</td>\n",
       "      <td>0.00</td>\n",
       "    </tr>\n",
       "    <tr>\n",
       "      <th>...</th>\n",
       "      <td>...</td>\n",
       "      <td>...</td>\n",
       "      <td>...</td>\n",
       "    </tr>\n",
       "    <tr>\n",
       "      <th>4727772</th>\n",
       "      <td>2020-12-30 23:56:00</td>\n",
       "      <td>28801.47</td>\n",
       "      <td>-7.60</td>\n",
       "    </tr>\n",
       "    <tr>\n",
       "      <th>4727773</th>\n",
       "      <td>2020-12-30 23:57:00</td>\n",
       "      <td>28829.42</td>\n",
       "      <td>27.95</td>\n",
       "    </tr>\n",
       "    <tr>\n",
       "      <th>4727774</th>\n",
       "      <td>2020-12-30 23:58:00</td>\n",
       "      <td>28850.49</td>\n",
       "      <td>21.07</td>\n",
       "    </tr>\n",
       "    <tr>\n",
       "      <th>4727775</th>\n",
       "      <td>2020-12-30 23:59:00</td>\n",
       "      <td>28910.54</td>\n",
       "      <td>60.05</td>\n",
       "    </tr>\n",
       "    <tr>\n",
       "      <th>4727776</th>\n",
       "      <td>2020-12-31 00:00:00</td>\n",
       "      <td>28893.21</td>\n",
       "      <td>-17.33</td>\n",
       "    </tr>\n",
       "  </tbody>\n",
       "</table>\n",
       "<p>4727776 rows × 3 columns</p>\n",
       "</div>"
      ],
      "text/plain": [
       "                  Timestamp      Open  open_diff\n",
       "1       2011-12-31 07:53:00      4.39       0.00\n",
       "2       2011-12-31 07:54:00      4.39       0.00\n",
       "3       2011-12-31 07:55:00      4.39       0.00\n",
       "4       2011-12-31 07:56:00      4.39       0.00\n",
       "5       2011-12-31 07:57:00      4.39       0.00\n",
       "...                     ...       ...        ...\n",
       "4727772 2020-12-30 23:56:00  28801.47      -7.60\n",
       "4727773 2020-12-30 23:57:00  28829.42      27.95\n",
       "4727774 2020-12-30 23:58:00  28850.49      21.07\n",
       "4727775 2020-12-30 23:59:00  28910.54      60.05\n",
       "4727776 2020-12-31 00:00:00  28893.21     -17.33\n",
       "\n",
       "[4727776 rows x 3 columns]"
      ]
     },
     "execution_count": 7,
     "metadata": {},
     "output_type": "execute_result"
    }
   ],
   "source": [
    "open_diff_col(data)"
   ]
  },
  {
   "cell_type": "code",
   "execution_count": 8,
   "id": "literary-missile",
   "metadata": {},
   "outputs": [
    {
     "data": {
      "text/html": [
       "<div>\n",
       "<style scoped>\n",
       "    .dataframe tbody tr th:only-of-type {\n",
       "        vertical-align: middle;\n",
       "    }\n",
       "\n",
       "    .dataframe tbody tr th {\n",
       "        vertical-align: top;\n",
       "    }\n",
       "\n",
       "    .dataframe thead th {\n",
       "        text-align: right;\n",
       "    }\n",
       "</style>\n",
       "<table border=\"1\" class=\"dataframe\">\n",
       "  <thead>\n",
       "    <tr style=\"text-align: right;\">\n",
       "      <th></th>\n",
       "      <th>Timestamp</th>\n",
       "      <th>Open</th>\n",
       "      <th>open_diff</th>\n",
       "    </tr>\n",
       "  </thead>\n",
       "  <tbody>\n",
       "    <tr>\n",
       "      <th>4627777</th>\n",
       "      <td>2020-10-22 13:21:00</td>\n",
       "      <td>12941.63</td>\n",
       "      <td>-17.63</td>\n",
       "    </tr>\n",
       "    <tr>\n",
       "      <th>4627778</th>\n",
       "      <td>2020-10-22 13:22:00</td>\n",
       "      <td>12941.12</td>\n",
       "      <td>-0.51</td>\n",
       "    </tr>\n",
       "    <tr>\n",
       "      <th>4627779</th>\n",
       "      <td>2020-10-22 13:23:00</td>\n",
       "      <td>12955.46</td>\n",
       "      <td>14.34</td>\n",
       "    </tr>\n",
       "    <tr>\n",
       "      <th>4627780</th>\n",
       "      <td>2020-10-22 13:24:00</td>\n",
       "      <td>12959.98</td>\n",
       "      <td>4.52</td>\n",
       "    </tr>\n",
       "    <tr>\n",
       "      <th>4627781</th>\n",
       "      <td>2020-10-22 13:25:00</td>\n",
       "      <td>12959.01</td>\n",
       "      <td>-0.97</td>\n",
       "    </tr>\n",
       "    <tr>\n",
       "      <th>...</th>\n",
       "      <td>...</td>\n",
       "      <td>...</td>\n",
       "      <td>...</td>\n",
       "    </tr>\n",
       "    <tr>\n",
       "      <th>4727772</th>\n",
       "      <td>2020-12-30 23:56:00</td>\n",
       "      <td>28801.47</td>\n",
       "      <td>-7.60</td>\n",
       "    </tr>\n",
       "    <tr>\n",
       "      <th>4727773</th>\n",
       "      <td>2020-12-30 23:57:00</td>\n",
       "      <td>28829.42</td>\n",
       "      <td>27.95</td>\n",
       "    </tr>\n",
       "    <tr>\n",
       "      <th>4727774</th>\n",
       "      <td>2020-12-30 23:58:00</td>\n",
       "      <td>28850.49</td>\n",
       "      <td>21.07</td>\n",
       "    </tr>\n",
       "    <tr>\n",
       "      <th>4727775</th>\n",
       "      <td>2020-12-30 23:59:00</td>\n",
       "      <td>28910.54</td>\n",
       "      <td>60.05</td>\n",
       "    </tr>\n",
       "    <tr>\n",
       "      <th>4727776</th>\n",
       "      <td>2020-12-31 00:00:00</td>\n",
       "      <td>28893.21</td>\n",
       "      <td>-17.33</td>\n",
       "    </tr>\n",
       "  </tbody>\n",
       "</table>\n",
       "<p>100000 rows × 3 columns</p>\n",
       "</div>"
      ],
      "text/plain": [
       "                  Timestamp      Open  open_diff\n",
       "4627777 2020-10-22 13:21:00  12941.63     -17.63\n",
       "4627778 2020-10-22 13:22:00  12941.12      -0.51\n",
       "4627779 2020-10-22 13:23:00  12955.46      14.34\n",
       "4627780 2020-10-22 13:24:00  12959.98       4.52\n",
       "4627781 2020-10-22 13:25:00  12959.01      -0.97\n",
       "...                     ...       ...        ...\n",
       "4727772 2020-12-30 23:56:00  28801.47      -7.60\n",
       "4727773 2020-12-30 23:57:00  28829.42      27.95\n",
       "4727774 2020-12-30 23:58:00  28850.49      21.07\n",
       "4727775 2020-12-30 23:59:00  28910.54      60.05\n",
       "4727776 2020-12-31 00:00:00  28893.21     -17.33\n",
       "\n",
       "[100000 rows x 3 columns]"
      ]
     },
     "execution_count": 8,
     "metadata": {},
     "output_type": "execute_result"
    }
   ],
   "source": [
    "data_sample = data[2701596:]\n",
    "data_sample = data[2798175:]\n",
    "data_test = data_sample[1829602:]\n",
    "data_test"
   ]
  },
  {
   "cell_type": "markdown",
   "id": "bigger-concept",
   "metadata": {},
   "source": [
    "## NaN Padding"
   ]
  },
  {
   "cell_type": "code",
   "execution_count": 42,
   "id": "minimal-tract",
   "metadata": {
    "scrolled": true
   },
   "outputs": [],
   "source": [
    "# data_sample[500:550]"
   ]
  },
  {
   "cell_type": "code",
   "execution_count": 10,
   "id": "medieval-treat",
   "metadata": {},
   "outputs": [],
   "source": [
    "# data_sample['diff_open_close'] = data_sample['Open'] - data_sample['Close']"
   ]
  },
  {
   "cell_type": "code",
   "execution_count": 11,
   "id": "direct-address",
   "metadata": {},
   "outputs": [],
   "source": [
    "# plt.figure(figsize=(22,5))\n",
    "# sns.lineplot(data=data_sample, x='Timestamp', y='diff_open_close')"
   ]
  },
  {
   "cell_type": "code",
   "execution_count": 12,
   "id": "sticky-wichita",
   "metadata": {},
   "outputs": [],
   "source": [
    "# data_sample['diff_high_low'] = data_sample['High'] - data_sample['Low']"
   ]
  },
  {
   "cell_type": "code",
   "execution_count": 13,
   "id": "stock-antarctica",
   "metadata": {},
   "outputs": [],
   "source": [
    "# plt.figure(figsize=(22,5))\n",
    "# sns.lineplot(data=data_sample, x='Timestamp', y='diff_high_low')"
   ]
  },
  {
   "cell_type": "code",
   "execution_count": 14,
   "id": "fourth-relative",
   "metadata": {},
   "outputs": [],
   "source": [
    "# data_size = data_sample[:200]\n",
    "# data_size.isnull().sum()"
   ]
  },
  {
   "cell_type": "code",
   "execution_count": 15,
   "id": "moderate-stamp",
   "metadata": {
    "scrolled": true
   },
   "outputs": [
    {
     "data": {
      "text/html": [
       "<div>\n",
       "<style scoped>\n",
       "    .dataframe tbody tr th:only-of-type {\n",
       "        vertical-align: middle;\n",
       "    }\n",
       "\n",
       "    .dataframe tbody tr th {\n",
       "        vertical-align: top;\n",
       "    }\n",
       "\n",
       "    .dataframe thead th {\n",
       "        text-align: right;\n",
       "    }\n",
       "</style>\n",
       "<table border=\"1\" class=\"dataframe\">\n",
       "  <thead>\n",
       "    <tr style=\"text-align: right;\">\n",
       "      <th></th>\n",
       "      <th>Timestamp</th>\n",
       "      <th>Open</th>\n",
       "      <th>New</th>\n",
       "      <th>open_diff</th>\n",
       "    </tr>\n",
       "  </thead>\n",
       "  <tbody>\n",
       "    <tr>\n",
       "      <th>4628327</th>\n",
       "      <td>2020-10-22 22:31:00</td>\n",
       "      <td>13160.48</td>\n",
       "      <td></td>\n",
       "      <td>-8.02</td>\n",
       "    </tr>\n",
       "    <tr>\n",
       "      <th>4628328</th>\n",
       "      <td>2020-10-22 22:32:00</td>\n",
       "      <td>13160.66</td>\n",
       "      <td></td>\n",
       "      <td>0.18</td>\n",
       "    </tr>\n",
       "    <tr>\n",
       "      <th>4628329</th>\n",
       "      <td>2020-10-22 22:33:00</td>\n",
       "      <td>13153.03</td>\n",
       "      <td></td>\n",
       "      <td>-7.63</td>\n",
       "    </tr>\n",
       "    <tr>\n",
       "      <th>4628330</th>\n",
       "      <td>2020-10-22 22:34:00</td>\n",
       "      <td>13141.60</td>\n",
       "      <td></td>\n",
       "      <td>-11.43</td>\n",
       "    </tr>\n",
       "    <tr>\n",
       "      <th>4628331</th>\n",
       "      <td>2020-10-22 22:35:00</td>\n",
       "      <td>13157.39</td>\n",
       "      <td></td>\n",
       "      <td>15.79</td>\n",
       "    </tr>\n",
       "    <tr>\n",
       "      <th>4628332</th>\n",
       "      <td>2020-10-22 22:36:00</td>\n",
       "      <td>13155.77</td>\n",
       "      <td></td>\n",
       "      <td>-1.62</td>\n",
       "    </tr>\n",
       "    <tr>\n",
       "      <th>4628333</th>\n",
       "      <td>2020-10-22 22:37:00</td>\n",
       "      <td>13157.06</td>\n",
       "      <td></td>\n",
       "      <td>1.29</td>\n",
       "    </tr>\n",
       "    <tr>\n",
       "      <th>4628334</th>\n",
       "      <td>2020-10-22 22:38:00</td>\n",
       "      <td>13151.91</td>\n",
       "      <td></td>\n",
       "      <td>-5.15</td>\n",
       "    </tr>\n",
       "    <tr>\n",
       "      <th>4628335</th>\n",
       "      <td>2020-10-22 22:39:00</td>\n",
       "      <td>13140.63</td>\n",
       "      <td></td>\n",
       "      <td>-11.28</td>\n",
       "    </tr>\n",
       "    <tr>\n",
       "      <th>4628336</th>\n",
       "      <td>2020-10-22 22:40:00</td>\n",
       "      <td>13138.89</td>\n",
       "      <td></td>\n",
       "      <td>-1.74</td>\n",
       "    </tr>\n",
       "    <tr>\n",
       "      <th>4628337</th>\n",
       "      <td>2020-10-22 22:41:00</td>\n",
       "      <td>13146.93</td>\n",
       "      <td></td>\n",
       "      <td>8.04</td>\n",
       "    </tr>\n",
       "    <tr>\n",
       "      <th>4628338</th>\n",
       "      <td>2020-10-22 22:42:00</td>\n",
       "      <td>13142.82</td>\n",
       "      <td></td>\n",
       "      <td>-4.11</td>\n",
       "    </tr>\n",
       "    <tr>\n",
       "      <th>4628339</th>\n",
       "      <td>2020-10-22 22:43:00</td>\n",
       "      <td>13149.70</td>\n",
       "      <td></td>\n",
       "      <td>6.88</td>\n",
       "    </tr>\n",
       "    <tr>\n",
       "      <th>4628340</th>\n",
       "      <td>2020-10-22 22:44:00</td>\n",
       "      <td>13146.86</td>\n",
       "      <td></td>\n",
       "      <td>-2.84</td>\n",
       "    </tr>\n",
       "    <tr>\n",
       "      <th>4628341</th>\n",
       "      <td>2020-10-22 22:45:00</td>\n",
       "      <td>13140.33</td>\n",
       "      <td></td>\n",
       "      <td>-6.53</td>\n",
       "    </tr>\n",
       "    <tr>\n",
       "      <th>4628342</th>\n",
       "      <td>2020-10-22 22:46:00</td>\n",
       "      <td>13148.03</td>\n",
       "      <td></td>\n",
       "      <td>7.70</td>\n",
       "    </tr>\n",
       "    <tr>\n",
       "      <th>4628343</th>\n",
       "      <td>2020-10-22 22:47:00</td>\n",
       "      <td>13141.92</td>\n",
       "      <td></td>\n",
       "      <td>-6.11</td>\n",
       "    </tr>\n",
       "    <tr>\n",
       "      <th>4628344</th>\n",
       "      <td>2020-10-22 22:48:00</td>\n",
       "      <td>13146.30</td>\n",
       "      <td></td>\n",
       "      <td>4.38</td>\n",
       "    </tr>\n",
       "    <tr>\n",
       "      <th>4628345</th>\n",
       "      <td>2020-10-22 22:49:00</td>\n",
       "      <td>13135.16</td>\n",
       "      <td></td>\n",
       "      <td>-11.14</td>\n",
       "    </tr>\n",
       "    <tr>\n",
       "      <th>4628346</th>\n",
       "      <td>2020-10-22 22:50:00</td>\n",
       "      <td>13133.90</td>\n",
       "      <td></td>\n",
       "      <td>-1.26</td>\n",
       "    </tr>\n",
       "    <tr>\n",
       "      <th>4628347</th>\n",
       "      <td>2020-10-22 22:51:00</td>\n",
       "      <td>13139.78</td>\n",
       "      <td></td>\n",
       "      <td>5.88</td>\n",
       "    </tr>\n",
       "    <tr>\n",
       "      <th>4628348</th>\n",
       "      <td>2020-10-22 22:52:00</td>\n",
       "      <td>13136.96</td>\n",
       "      <td></td>\n",
       "      <td>-2.82</td>\n",
       "    </tr>\n",
       "    <tr>\n",
       "      <th>4628349</th>\n",
       "      <td>2020-10-22 22:53:00</td>\n",
       "      <td>13128.13</td>\n",
       "      <td></td>\n",
       "      <td>-8.83</td>\n",
       "    </tr>\n",
       "    <tr>\n",
       "      <th>4628350</th>\n",
       "      <td>2020-10-22 22:54:00</td>\n",
       "      <td>13134.61</td>\n",
       "      <td></td>\n",
       "      <td>6.48</td>\n",
       "    </tr>\n",
       "    <tr>\n",
       "      <th>4628351</th>\n",
       "      <td>2020-10-22 22:55:00</td>\n",
       "      <td>13098.81</td>\n",
       "      <td></td>\n",
       "      <td>-35.80</td>\n",
       "    </tr>\n",
       "    <tr>\n",
       "      <th>4628352</th>\n",
       "      <td>2020-10-22 22:56:00</td>\n",
       "      <td>13087.27</td>\n",
       "      <td></td>\n",
       "      <td>-11.54</td>\n",
       "    </tr>\n",
       "    <tr>\n",
       "      <th>4628353</th>\n",
       "      <td>2020-10-22 22:57:00</td>\n",
       "      <td>13049.09</td>\n",
       "      <td></td>\n",
       "      <td>-38.18</td>\n",
       "    </tr>\n",
       "    <tr>\n",
       "      <th>4628354</th>\n",
       "      <td>2020-10-22 22:58:00</td>\n",
       "      <td>13074.96</td>\n",
       "      <td></td>\n",
       "      <td>25.87</td>\n",
       "    </tr>\n",
       "    <tr>\n",
       "      <th>4628355</th>\n",
       "      <td>2020-10-22 22:59:00</td>\n",
       "      <td>13035.62</td>\n",
       "      <td></td>\n",
       "      <td>-39.34</td>\n",
       "    </tr>\n",
       "    <tr>\n",
       "      <th>4628356</th>\n",
       "      <td>2020-10-22 23:00:00</td>\n",
       "      <td>13014.68</td>\n",
       "      <td></td>\n",
       "      <td>-20.94</td>\n",
       "    </tr>\n",
       "    <tr>\n",
       "      <th>4628357</th>\n",
       "      <td>2020-10-22 23:01:00</td>\n",
       "      <td>13017.68</td>\n",
       "      <td></td>\n",
       "      <td>3.00</td>\n",
       "    </tr>\n",
       "    <tr>\n",
       "      <th>4628358</th>\n",
       "      <td>2020-10-22 23:02:00</td>\n",
       "      <td>13034.75</td>\n",
       "      <td></td>\n",
       "      <td>17.07</td>\n",
       "    </tr>\n",
       "    <tr>\n",
       "      <th>4628359</th>\n",
       "      <td>2020-10-22 23:03:00</td>\n",
       "      <td>13045.96</td>\n",
       "      <td></td>\n",
       "      <td>11.21</td>\n",
       "    </tr>\n",
       "    <tr>\n",
       "      <th>4628360</th>\n",
       "      <td>2020-10-22 23:04:00</td>\n",
       "      <td>13045.84</td>\n",
       "      <td></td>\n",
       "      <td>-0.12</td>\n",
       "    </tr>\n",
       "    <tr>\n",
       "      <th>4628361</th>\n",
       "      <td>2020-10-22 23:05:00</td>\n",
       "      <td>13038.42</td>\n",
       "      <td></td>\n",
       "      <td>-7.42</td>\n",
       "    </tr>\n",
       "    <tr>\n",
       "      <th>4628362</th>\n",
       "      <td>2020-10-22 23:06:00</td>\n",
       "      <td>13031.96</td>\n",
       "      <td></td>\n",
       "      <td>-6.46</td>\n",
       "    </tr>\n",
       "    <tr>\n",
       "      <th>4628363</th>\n",
       "      <td>2020-10-22 23:07:00</td>\n",
       "      <td>13028.45</td>\n",
       "      <td></td>\n",
       "      <td>-3.51</td>\n",
       "    </tr>\n",
       "    <tr>\n",
       "      <th>4628364</th>\n",
       "      <td>2020-10-22 23:08:00</td>\n",
       "      <td>13016.85</td>\n",
       "      <td></td>\n",
       "      <td>-11.60</td>\n",
       "    </tr>\n",
       "    <tr>\n",
       "      <th>4628365</th>\n",
       "      <td>2020-10-22 23:09:00</td>\n",
       "      <td>13017.48</td>\n",
       "      <td></td>\n",
       "      <td>0.63</td>\n",
       "    </tr>\n",
       "    <tr>\n",
       "      <th>4628366</th>\n",
       "      <td>2020-10-22 23:10:00</td>\n",
       "      <td>13037.98</td>\n",
       "      <td></td>\n",
       "      <td>20.50</td>\n",
       "    </tr>\n",
       "    <tr>\n",
       "      <th>4628367</th>\n",
       "      <td>2020-10-22 23:11:00</td>\n",
       "      <td>13026.48</td>\n",
       "      <td></td>\n",
       "      <td>-11.50</td>\n",
       "    </tr>\n",
       "    <tr>\n",
       "      <th>4628368</th>\n",
       "      <td>2020-10-22 23:12:00</td>\n",
       "      <td>13023.75</td>\n",
       "      <td></td>\n",
       "      <td>-2.73</td>\n",
       "    </tr>\n",
       "    <tr>\n",
       "      <th>4628369</th>\n",
       "      <td>2020-10-22 23:13:00</td>\n",
       "      <td>12988.83</td>\n",
       "      <td></td>\n",
       "      <td>-34.92</td>\n",
       "    </tr>\n",
       "    <tr>\n",
       "      <th>4628370</th>\n",
       "      <td>2020-10-22 23:14:00</td>\n",
       "      <td>12988.60</td>\n",
       "      <td></td>\n",
       "      <td>-0.23</td>\n",
       "    </tr>\n",
       "    <tr>\n",
       "      <th>4628371</th>\n",
       "      <td>2020-10-22 23:15:00</td>\n",
       "      <td>12972.97</td>\n",
       "      <td></td>\n",
       "      <td>-15.63</td>\n",
       "    </tr>\n",
       "    <tr>\n",
       "      <th>4628372</th>\n",
       "      <td>2020-10-22 23:16:00</td>\n",
       "      <td>13013.73</td>\n",
       "      <td></td>\n",
       "      <td>40.76</td>\n",
       "    </tr>\n",
       "    <tr>\n",
       "      <th>4628373</th>\n",
       "      <td>2020-10-22 23:17:00</td>\n",
       "      <td>13013.78</td>\n",
       "      <td></td>\n",
       "      <td>0.05</td>\n",
       "    </tr>\n",
       "    <tr>\n",
       "      <th>4628374</th>\n",
       "      <td>2020-10-22 23:18:00</td>\n",
       "      <td>13011.66</td>\n",
       "      <td></td>\n",
       "      <td>-2.12</td>\n",
       "    </tr>\n",
       "    <tr>\n",
       "      <th>4628375</th>\n",
       "      <td>2020-10-22 23:19:00</td>\n",
       "      <td>13006.14</td>\n",
       "      <td></td>\n",
       "      <td>-5.52</td>\n",
       "    </tr>\n",
       "    <tr>\n",
       "      <th>4628376</th>\n",
       "      <td>2020-10-22 23:20:00</td>\n",
       "      <td>12996.70</td>\n",
       "      <td></td>\n",
       "      <td>-9.44</td>\n",
       "    </tr>\n",
       "  </tbody>\n",
       "</table>\n",
       "</div>"
      ],
      "text/plain": [
       "                  Timestamp      Open New  open_diff\n",
       "4628327 2020-10-22 22:31:00  13160.48          -8.02\n",
       "4628328 2020-10-22 22:32:00  13160.66           0.18\n",
       "4628329 2020-10-22 22:33:00  13153.03          -7.63\n",
       "4628330 2020-10-22 22:34:00  13141.60         -11.43\n",
       "4628331 2020-10-22 22:35:00  13157.39          15.79\n",
       "4628332 2020-10-22 22:36:00  13155.77          -1.62\n",
       "4628333 2020-10-22 22:37:00  13157.06           1.29\n",
       "4628334 2020-10-22 22:38:00  13151.91          -5.15\n",
       "4628335 2020-10-22 22:39:00  13140.63         -11.28\n",
       "4628336 2020-10-22 22:40:00  13138.89          -1.74\n",
       "4628337 2020-10-22 22:41:00  13146.93           8.04\n",
       "4628338 2020-10-22 22:42:00  13142.82          -4.11\n",
       "4628339 2020-10-22 22:43:00  13149.70           6.88\n",
       "4628340 2020-10-22 22:44:00  13146.86          -2.84\n",
       "4628341 2020-10-22 22:45:00  13140.33          -6.53\n",
       "4628342 2020-10-22 22:46:00  13148.03           7.70\n",
       "4628343 2020-10-22 22:47:00  13141.92          -6.11\n",
       "4628344 2020-10-22 22:48:00  13146.30           4.38\n",
       "4628345 2020-10-22 22:49:00  13135.16         -11.14\n",
       "4628346 2020-10-22 22:50:00  13133.90          -1.26\n",
       "4628347 2020-10-22 22:51:00  13139.78           5.88\n",
       "4628348 2020-10-22 22:52:00  13136.96          -2.82\n",
       "4628349 2020-10-22 22:53:00  13128.13          -8.83\n",
       "4628350 2020-10-22 22:54:00  13134.61           6.48\n",
       "4628351 2020-10-22 22:55:00  13098.81         -35.80\n",
       "4628352 2020-10-22 22:56:00  13087.27         -11.54\n",
       "4628353 2020-10-22 22:57:00  13049.09         -38.18\n",
       "4628354 2020-10-22 22:58:00  13074.96          25.87\n",
       "4628355 2020-10-22 22:59:00  13035.62         -39.34\n",
       "4628356 2020-10-22 23:00:00  13014.68         -20.94\n",
       "4628357 2020-10-22 23:01:00  13017.68           3.00\n",
       "4628358 2020-10-22 23:02:00  13034.75          17.07\n",
       "4628359 2020-10-22 23:03:00  13045.96          11.21\n",
       "4628360 2020-10-22 23:04:00  13045.84          -0.12\n",
       "4628361 2020-10-22 23:05:00  13038.42          -7.42\n",
       "4628362 2020-10-22 23:06:00  13031.96          -6.46\n",
       "4628363 2020-10-22 23:07:00  13028.45          -3.51\n",
       "4628364 2020-10-22 23:08:00  13016.85         -11.60\n",
       "4628365 2020-10-22 23:09:00  13017.48           0.63\n",
       "4628366 2020-10-22 23:10:00  13037.98          20.50\n",
       "4628367 2020-10-22 23:11:00  13026.48         -11.50\n",
       "4628368 2020-10-22 23:12:00  13023.75          -2.73\n",
       "4628369 2020-10-22 23:13:00  12988.83         -34.92\n",
       "4628370 2020-10-22 23:14:00  12988.60          -0.23\n",
       "4628371 2020-10-22 23:15:00  12972.97         -15.63\n",
       "4628372 2020-10-22 23:16:00  13013.73          40.76\n",
       "4628373 2020-10-22 23:17:00  13013.78           0.05\n",
       "4628374 2020-10-22 23:18:00  13011.66          -2.12\n",
       "4628375 2020-10-22 23:19:00  13006.14          -5.52\n",
       "4628376 2020-10-22 23:20:00  12996.70          -9.44"
      ]
     },
     "execution_count": 15,
     "metadata": {},
     "output_type": "execute_result"
    }
   ],
   "source": [
    "# data_test['new_close'] = data_size['Close'].values\n",
    "data_test.insert(loc=2, column='New', value=['' for i in range(data_test.shape[0])])\n",
    "data_test[550:600]"
   ]
  },
  {
   "cell_type": "code",
   "execution_count": 16,
   "id": "violent-eclipse",
   "metadata": {},
   "outputs": [],
   "source": [
    "# def fill_blanks(row):\n",
    "#     if (isinstance(row['Open'], float)):\n",
    "#         row['New'] = row['Open']\n",
    "#     elif (isinstance(row['Open'], str)):\n",
    "#         row['New'] = row['Previous']\n",
    "#     else:\n",
    "#         row['New'] = ''\n",
    "#     return row"
   ]
  },
  {
   "cell_type": "code",
   "execution_count": 17,
   "id": "partial-coordinate",
   "metadata": {},
   "outputs": [],
   "source": [
    "# data_test = data_test.fillna('')\n",
    "# data_test.head()"
   ]
  },
  {
   "cell_type": "code",
   "execution_count": 18,
   "id": "local-oxygen",
   "metadata": {},
   "outputs": [],
   "source": [
    "# clean_data = data_test.apply(fill_blanks, axis=1)"
   ]
  },
  {
   "cell_type": "code",
   "execution_count": 19,
   "id": "quality-treasure",
   "metadata": {},
   "outputs": [],
   "source": [
    "# clean_data[510:560]"
   ]
  },
  {
   "cell_type": "code",
   "execution_count": 20,
   "id": "pregnant-young",
   "metadata": {},
   "outputs": [],
   "source": [
    "# (clean_data['New'].values == '').sum()"
   ]
  },
  {
   "cell_type": "markdown",
   "id": "revised-transport",
   "metadata": {},
   "source": [
    "## Dumb Baseline Model"
   ]
  },
  {
   "cell_type": "code",
   "execution_count": 47,
   "id": "fallen-birthday",
   "metadata": {},
   "outputs": [
    {
     "data": {
      "text/html": [
       "<div>\n",
       "<style scoped>\n",
       "    .dataframe tbody tr th:only-of-type {\n",
       "        vertical-align: middle;\n",
       "    }\n",
       "\n",
       "    .dataframe tbody tr th {\n",
       "        vertical-align: top;\n",
       "    }\n",
       "\n",
       "    .dataframe thead th {\n",
       "        text-align: right;\n",
       "    }\n",
       "</style>\n",
       "<table border=\"1\" class=\"dataframe\">\n",
       "  <thead>\n",
       "    <tr style=\"text-align: right;\">\n",
       "      <th></th>\n",
       "      <th>Timestamp</th>\n",
       "      <th>Open</th>\n",
       "      <th>open_diff</th>\n",
       "    </tr>\n",
       "  </thead>\n",
       "  <tbody>\n",
       "    <tr>\n",
       "      <th>2798175</th>\n",
       "      <td>2017-04-30 23:59:00</td>\n",
       "      <td>1350.21</td>\n",
       "      <td>1.32</td>\n",
       "    </tr>\n",
       "    <tr>\n",
       "      <th>2798176</th>\n",
       "      <td>2017-05-01 00:00:00</td>\n",
       "      <td>1348.88</td>\n",
       "      <td>-1.33</td>\n",
       "    </tr>\n",
       "    <tr>\n",
       "      <th>2798177</th>\n",
       "      <td>2017-05-01 00:01:00</td>\n",
       "      <td>1352.41</td>\n",
       "      <td>3.53</td>\n",
       "    </tr>\n",
       "    <tr>\n",
       "      <th>2798178</th>\n",
       "      <td>2017-05-01 00:02:00</td>\n",
       "      <td>1349.49</td>\n",
       "      <td>-2.92</td>\n",
       "    </tr>\n",
       "    <tr>\n",
       "      <th>2798179</th>\n",
       "      <td>2017-05-01 00:03:00</td>\n",
       "      <td>1350.11</td>\n",
       "      <td>0.62</td>\n",
       "    </tr>\n",
       "  </tbody>\n",
       "</table>\n",
       "</div>"
      ],
      "text/plain": [
       "                  Timestamp     Open  open_diff\n",
       "2798175 2017-04-30 23:59:00  1350.21       1.32\n",
       "2798176 2017-05-01 00:00:00  1348.88      -1.33\n",
       "2798177 2017-05-01 00:01:00  1352.41       3.53\n",
       "2798178 2017-05-01 00:02:00  1349.49      -2.92\n",
       "2798179 2017-05-01 00:03:00  1350.11       0.62"
      ]
     },
     "execution_count": 47,
     "metadata": {},
     "output_type": "execute_result"
    }
   ],
   "source": [
    "baseline_sample = data_sample[:10000]\n",
    "baseline_sample.head()"
   ]
  },
  {
   "cell_type": "code",
   "execution_count": 48,
   "id": "partial-spirit",
   "metadata": {
    "scrolled": true
   },
   "outputs": [],
   "source": [
    "# baseline = baseline_sample[['Open']]\n",
    "# baseline['Previous'] = baseline['Open'].shift(1)\n",
    "# baseline['outcome'] = baseline['Open']- baseline['Previous']\n",
    "# # baseline.insert(loc=3, column='Coded', value=['' for i in range(baseline.shape[0])])\n",
    "# baseline = baseline.fillna(method='ffill')"
   ]
  },
  {
   "cell_type": "code",
   "execution_count": 52,
   "id": "bigger-joyce",
   "metadata": {},
   "outputs": [
    {
     "name": "stderr",
     "output_type": "stream",
     "text": [
      "<ipython-input-52-17acf7c6ea0c>:2: SettingWithCopyWarning: \n",
      "A value is trying to be set on a copy of a slice from a DataFrame.\n",
      "Try using .loc[row_indexer,col_indexer] = value instead\n",
      "\n",
      "See the caveats in the documentation: https://pandas.pydata.org/pandas-docs/stable/user_guide/indexing.html#returning-a-view-versus-a-copy\n",
      "  baseline_sample['open_diff_coded'] = baseline_sample['open_diff'].map(f)\n"
     ]
    }
   ],
   "source": [
    "f = lambda x: 0 if x <= 0 else 1\n",
    "baseline_sample['open_diff_coded'] = baseline_sample['open_diff'].map(f)"
   ]
  },
  {
   "cell_type": "code",
   "execution_count": 53,
   "id": "affecting-garden",
   "metadata": {},
   "outputs": [
    {
     "data": {
      "text/html": [
       "<div>\n",
       "<style scoped>\n",
       "    .dataframe tbody tr th:only-of-type {\n",
       "        vertical-align: middle;\n",
       "    }\n",
       "\n",
       "    .dataframe tbody tr th {\n",
       "        vertical-align: top;\n",
       "    }\n",
       "\n",
       "    .dataframe thead th {\n",
       "        text-align: right;\n",
       "    }\n",
       "</style>\n",
       "<table border=\"1\" class=\"dataframe\">\n",
       "  <thead>\n",
       "    <tr style=\"text-align: right;\">\n",
       "      <th></th>\n",
       "      <th>open_diff_coded</th>\n",
       "    </tr>\n",
       "  </thead>\n",
       "  <tbody>\n",
       "    <tr>\n",
       "      <th>2798175</th>\n",
       "      <td>1</td>\n",
       "    </tr>\n",
       "    <tr>\n",
       "      <th>2798176</th>\n",
       "      <td>0</td>\n",
       "    </tr>\n",
       "    <tr>\n",
       "      <th>2798177</th>\n",
       "      <td>1</td>\n",
       "    </tr>\n",
       "    <tr>\n",
       "      <th>2798178</th>\n",
       "      <td>0</td>\n",
       "    </tr>\n",
       "    <tr>\n",
       "      <th>2798179</th>\n",
       "      <td>1</td>\n",
       "    </tr>\n",
       "  </tbody>\n",
       "</table>\n",
       "</div>"
      ],
      "text/plain": [
       "         open_diff_coded\n",
       "2798175                1\n",
       "2798176                0\n",
       "2798177                1\n",
       "2798178                0\n",
       "2798179                1"
      ]
     },
     "execution_count": 53,
     "metadata": {},
     "output_type": "execute_result"
    }
   ],
   "source": [
    "base = baseline_sample[['open_diff_coded']]\n",
    "base.head()"
   ]
  },
  {
   "cell_type": "code",
   "execution_count": 54,
   "id": "heavy-marking",
   "metadata": {},
   "outputs": [],
   "source": [
    "train_size = 0.6\n",
    "index = round(train_size*base.shape[0])\n",
    "df_train = base.iloc[:index]\n",
    "df_test = base.iloc[index+1:]"
   ]
  },
  {
   "cell_type": "code",
   "execution_count": 55,
   "id": "warming-publication",
   "metadata": {},
   "outputs": [
    {
     "name": "stdout",
     "output_type": "stream",
     "text": [
      "Accuracy:0.48724362181090547\n"
     ]
    }
   ],
   "source": [
    "y_pred = df_test.shift(1).dropna()\n",
    "y_true = df_test[1:]\n",
    "print(f\"Accuracy:{accuracy_score(y_true, y_pred)}\")"
   ]
  },
  {
   "cell_type": "markdown",
   "id": "aging-banking",
   "metadata": {},
   "source": [
    "## Simple LogReg"
   ]
  },
  {
   "cell_type": "code",
   "execution_count": 27,
   "id": "executed-product",
   "metadata": {},
   "outputs": [
    {
     "data": {
      "text/html": [
       "<div>\n",
       "<style scoped>\n",
       "    .dataframe tbody tr th:only-of-type {\n",
       "        vertical-align: middle;\n",
       "    }\n",
       "\n",
       "    .dataframe tbody tr th {\n",
       "        vertical-align: top;\n",
       "    }\n",
       "\n",
       "    .dataframe thead th {\n",
       "        text-align: right;\n",
       "    }\n",
       "</style>\n",
       "<table border=\"1\" class=\"dataframe\">\n",
       "  <thead>\n",
       "    <tr style=\"text-align: right;\">\n",
       "      <th></th>\n",
       "      <th>Timestamp</th>\n",
       "      <th>Open</th>\n",
       "      <th>open_diff</th>\n",
       "    </tr>\n",
       "  </thead>\n",
       "  <tbody>\n",
       "    <tr>\n",
       "      <th>2798175</th>\n",
       "      <td>2017-04-30 23:59:00</td>\n",
       "      <td>1350.21</td>\n",
       "      <td>1.32</td>\n",
       "    </tr>\n",
       "    <tr>\n",
       "      <th>2798176</th>\n",
       "      <td>2017-05-01 00:00:00</td>\n",
       "      <td>1348.88</td>\n",
       "      <td>-1.33</td>\n",
       "    </tr>\n",
       "    <tr>\n",
       "      <th>2798177</th>\n",
       "      <td>2017-05-01 00:01:00</td>\n",
       "      <td>1352.41</td>\n",
       "      <td>3.53</td>\n",
       "    </tr>\n",
       "    <tr>\n",
       "      <th>2798178</th>\n",
       "      <td>2017-05-01 00:02:00</td>\n",
       "      <td>1349.49</td>\n",
       "      <td>-2.92</td>\n",
       "    </tr>\n",
       "    <tr>\n",
       "      <th>2798179</th>\n",
       "      <td>2017-05-01 00:03:00</td>\n",
       "      <td>1350.11</td>\n",
       "      <td>0.62</td>\n",
       "    </tr>\n",
       "  </tbody>\n",
       "</table>\n",
       "</div>"
      ],
      "text/plain": [
       "                  Timestamp     Open  open_diff\n",
       "2798175 2017-04-30 23:59:00  1350.21       1.32\n",
       "2798176 2017-05-01 00:00:00  1348.88      -1.33\n",
       "2798177 2017-05-01 00:01:00  1352.41       3.53\n",
       "2798178 2017-05-01 00:02:00  1349.49      -2.92\n",
       "2798179 2017-05-01 00:03:00  1350.11       0.62"
      ]
     },
     "execution_count": 27,
     "metadata": {},
     "output_type": "execute_result"
    }
   ],
   "source": [
    "baseline_sample = data_sample[:10000]\n",
    "baseline_sample.head()"
   ]
  },
  {
   "cell_type": "code",
   "execution_count": 28,
   "id": "protecting-string",
   "metadata": {},
   "outputs": [],
   "source": [
    "def input_data(data, sample_size, shift_size, train_size):\n",
    "\n",
    "    data_size = data.shape[0]\n",
    "    sample = data.iloc[(data_size-sample_size):data_size]\n",
    "    sample_pp = sample[['Open', 'Timestamp']].set_index(\"Timestamp\").fillna(method='ffill')\n",
    "\n",
    "\n",
    "    for i in range(1, shift_size+1):\n",
    "        sample_pp[f't - {i}'] = sample_pp['Open'].shift(i)\n",
    "    sample_shifted = sample_pp.dropna() \n",
    "\n",
    "\n",
    "    X = sample_shifted.drop(columns=['Open'])\n",
    "    y = sample_shifted['Open']\n",
    "\n",
    "\n",
    "    X_train = X.iloc[0:train_size]\n",
    "    y_train = y.iloc[0:train_size]\n",
    "    X_test = X.iloc[(train_size+1):(sample_size-shift_size)]\n",
    "    y_test = y.iloc[(train_size+1):(sample_size-shift_size)]\n",
    "    \n",
    "    return X_train, X_test, y_train, y_test"
   ]
  },
  {
   "cell_type": "code",
   "execution_count": 29,
   "id": "charitable-colony",
   "metadata": {},
   "outputs": [],
   "source": [
    "X_train, X_test, y_train, y_test = input_data(baseline_sample, 100, 5, 60)"
   ]
  },
  {
   "cell_type": "code",
   "execution_count": 30,
   "id": "absent-substitute",
   "metadata": {},
   "outputs": [
    {
     "data": {
      "text/plain": [
       "[<matplotlib.lines.Line2D at 0x1295c3d90>]"
      ]
     },
     "execution_count": 30,
     "metadata": {},
     "output_type": "execute_result"
    },
    {
     "data": {
      "image/png": "[encoded data removed]",
      "text/plain": [
       "<Figure size 432x288 with 1 Axes>"
      ]
     },
     "metadata": {
      "needs_background": "light"
     },
     "output_type": "display_data"
    }
   ],
   "source": [
    "plt.plot(y_test)"
   ]
  },
  {
   "cell_type": "code",
   "execution_count": 31,
   "id": "proof-senator",
   "metadata": {},
   "outputs": [
    {
     "data": {
      "text/plain": [
       "1535.62"
      ]
     },
     "execution_count": 31,
     "metadata": {},
     "output_type": "execute_result"
    }
   ],
   "source": [
    "y_train[-1]"
   ]
  },
  {
   "cell_type": "code",
   "execution_count": 32,
   "id": "exposed-companion",
   "metadata": {},
   "outputs": [],
   "source": [
    "y_shift = y_test.shift(1)\n",
    "y_shift[0] = y_train[-1]\n",
    "y_true = y_test- y_shift"
   ]
  },
  {
   "cell_type": "code",
   "execution_count": 33,
   "id": "finite-reverse",
   "metadata": {},
   "outputs": [
    {
     "data": {
      "text/plain": [
       "[<matplotlib.lines.Line2D at 0x1296b8160>]"
      ]
     },
     "execution_count": 33,
     "metadata": {},
     "output_type": "execute_result"
    },
    {
     "data": {
      "image/png": "[encoded data removed]",
      "text/plain": [
       "<Figure size 432x288 with 1 Axes>"
      ]
     },
     "metadata": {
      "needs_background": "light"
     },
     "output_type": "display_data"
    }
   ],
   "source": [
    "plt.plot(y_true)"
   ]
  },
  {
   "cell_type": "code",
   "execution_count": 34,
   "id": "nasty-savage",
   "metadata": {},
   "outputs": [
    {
     "data": {
      "text/plain": [
       "Timestamp\n",
       "2017-05-07 22:05:00    1\n",
       "2017-05-07 22:06:00    0\n",
       "2017-05-07 22:07:00    0\n",
       "2017-05-07 22:08:00    0\n",
       "2017-05-07 22:09:00    1\n",
       "2017-05-07 22:10:00    0\n",
       "2017-05-07 22:11:00    1\n",
       "2017-05-07 22:12:00    0\n",
       "2017-05-07 22:13:00    1\n",
       "2017-05-07 22:14:00    1\n",
       "2017-05-07 22:15:00    1\n",
       "2017-05-07 22:16:00    0\n",
       "2017-05-07 22:17:00    1\n",
       "2017-05-07 22:18:00    0\n",
       "2017-05-07 22:19:00    1\n",
       "2017-05-07 22:20:00    0\n",
       "2017-05-07 22:21:00    1\n",
       "2017-05-07 22:22:00    1\n",
       "2017-05-07 22:23:00    0\n",
       "2017-05-07 22:24:00    1\n",
       "2017-05-07 22:25:00    0\n",
       "2017-05-07 22:26:00    1\n",
       "2017-05-07 22:27:00    0\n",
       "2017-05-07 22:28:00    0\n",
       "2017-05-07 22:29:00    0\n",
       "2017-05-07 22:30:00    0\n",
       "2017-05-07 22:31:00    0\n",
       "2017-05-07 22:32:00    1\n",
       "2017-05-07 22:33:00    1\n",
       "2017-05-07 22:34:00    0\n",
       "2017-05-07 22:35:00    0\n",
       "2017-05-07 22:36:00    1\n",
       "2017-05-07 22:37:00    0\n",
       "2017-05-07 22:38:00    0\n",
       "Name: Open, dtype: int64"
      ]
     },
     "execution_count": 34,
     "metadata": {},
     "output_type": "execute_result"
    }
   ],
   "source": [
    "f = lambda x: 0 if x <= 0 else 1\n",
    "y_pred = y_true.map(f)\n",
    "y_pred "
   ]
  },
  {
   "cell_type": "code",
   "execution_count": 35,
   "id": "exotic-default",
   "metadata": {},
   "outputs": [],
   "source": [
    "def y_test_encoding(y_test, y_train):\n",
    "    y_shift = y_test.shift(1)\n",
    "    y_shift[0] = y_train[-1]\n",
    "    y_true = y_test- y_shift\n",
    "    f = lambda x: 0 if x <= 0 else 1\n",
    "    y_pred = y_true.map(f)\n",
    "    return y_pred"
   ]
  },
  {
   "cell_type": "code",
   "execution_count": 36,
   "id": "quarterly-enforcement",
   "metadata": {},
   "outputs": [],
   "source": [
    "def y_train_encoding(y_train):\n",
    "    y_shift = y_train.shift(1)\n",
    "    y_shift[0] = y_shift[1]\n",
    "    y = y_train- y_shift\n",
    "    f = lambda x: 0 if x <= 0 else 1\n",
    "    y_train_coded = y.map(f)\n",
    "    return y_train_coded"
   ]
  },
  {
   "cell_type": "code",
   "execution_count": 37,
   "id": "specified-artist",
   "metadata": {},
   "outputs": [],
   "source": [
    "y_pred = y_test_encoding(y_test, y_train)\n",
    "y_train_coded = y_train_encoding(y_train)"
   ]
  },
  {
   "cell_type": "code",
   "execution_count": 38,
   "id": "raised-greeting",
   "metadata": {},
   "outputs": [
    {
     "data": {
      "text/plain": [
       "(pandas.core.series.Series, pandas.core.series.Series)"
      ]
     },
     "execution_count": 38,
     "metadata": {},
     "output_type": "execute_result"
    }
   ],
   "source": [
    "type(y_pred), type(y_train_coded)"
   ]
  },
  {
   "cell_type": "code",
   "execution_count": 39,
   "id": "offensive-cylinder",
   "metadata": {},
   "outputs": [],
   "source": [
    "log_reg = LogisticRegression()\n",
    "log_reg = log_reg.fit(X_train, y_train_coded)\n",
    "results = log_reg.predict(X_test)"
   ]
  },
  {
   "cell_type": "code",
   "execution_count": 40,
   "id": "frequent-player",
   "metadata": {},
   "outputs": [
    {
     "data": {
      "text/plain": [
       "0.5882352941176471"
      ]
     },
     "execution_count": 40,
     "metadata": {},
     "output_type": "execute_result"
    }
   ],
   "source": [
    "score = log_reg.score(X_test, y_pred)\n",
    "score"
   ]
  },
  {
   "cell_type": "code",
   "execution_count": 41,
   "id": "partial-blogger",
   "metadata": {},
   "outputs": [
    {
     "name": "stdout",
     "output_type": "stream",
     "text": [
      "Accuracy:0.5882352941176471\n"
     ]
    }
   ],
   "source": [
    "print(f\"Accuracy:{accuracy_score(y_pred, results)}\")"
   ]
  },
  {
   "cell_type": "code",
   "execution_count": null,
   "id": "rational-rings",
   "metadata": {},
   "outputs": [],
   "source": []
  },
  {
   "cell_type": "code",
   "execution_count": null,
   "id": "lightweight-stanford",
   "metadata": {},
   "outputs": [],
   "source": []
  },
  {
   "cell_type": "code",
   "execution_count": null,
   "id": "special-lighter",
   "metadata": {},
   "outputs": [],
   "source": []
  }
 ],
 "metadata": {
  "kernelspec": {
   "display_name": "Python 3",
   "language": "python",
   "name": "python3"
  },
  "language_info": {
   "codemirror_mode": {
    "name": "ipython",
    "version": 3
   },
   "file_extension": ".py",
   "mimetype": "text/x-python",
   "name": "python",
   "nbconvert_exporter": "python",
   "pygments_lexer": "ipython3",
   "version": "3.8.6"
  }
 },
 "nbformat": 4,
 "nbformat_minor": 5
}
