{
 "cells": [
  {
   "cell_type": "code",
   "execution_count": 1,
   "id": "answering-inside",
   "metadata": {
    "ExecuteTime": {
     "end_time": "2021-03-01T10:41:49.354573Z",
     "start_time": "2021-03-01T10:41:49.331890Z"
    }
   },
   "outputs": [],
   "source": [
    "%load_ext autoreload\n",
    "%autoreload 2"
   ]
  },
  {
   "cell_type": "code",
   "execution_count": 2,
   "id": "finished-texas",
   "metadata": {
    "ExecuteTime": {
     "end_time": "2021-03-01T10:41:50.597620Z",
     "start_time": "2021-03-01T10:41:49.560020Z"
    }
   },
   "outputs": [],
   "source": [
    "import matplotlib.pyplot as plt\n",
    "import seaborn as sns\n",
    "import pandas as pd\n",
    "import numpy as np"
   ]
  },
  {
   "cell_type": "code",
   "execution_count": 26,
   "id": "amended-thong",
   "metadata": {
    "ExecuteTime": {
     "end_time": "2021-03-01T15:08:34.345853Z",
     "start_time": "2021-03-01T15:08:10.712090Z"
    }
   },
   "outputs": [],
   "source": [
    "data = pd.read_csv('../../raw_data/bitstampUSD.csv')"
   ]
  },
  {
   "cell_type": "code",
   "execution_count": 28,
   "id": "centered-christian",
   "metadata": {
    "ExecuteTime": {
     "end_time": "2021-03-01T15:08:52.575800Z",
     "start_time": "2021-03-01T15:08:52.540759Z"
    }
   },
   "outputs": [
    {
     "data": {
      "text/html": [
       "<div>\n",
       "<style scoped>\n",
       "    .dataframe tbody tr th:only-of-type {\n",
       "        vertical-align: middle;\n",
       "    }\n",
       "\n",
       "    .dataframe tbody tr th {\n",
       "        vertical-align: top;\n",
       "    }\n",
       "\n",
       "    .dataframe thead th {\n",
       "        text-align: right;\n",
       "    }\n",
       "</style>\n",
       "<table border=\"1\" class=\"dataframe\">\n",
       "  <thead>\n",
       "    <tr style=\"text-align: right;\">\n",
       "      <th></th>\n",
       "      <th>Timestamp</th>\n",
       "      <th>Open</th>\n",
       "      <th>High</th>\n",
       "      <th>Low</th>\n",
       "      <th>Close</th>\n",
       "      <th>Volume_(BTC)</th>\n",
       "      <th>Volume_(Currency)</th>\n",
       "      <th>Weighted_Price</th>\n",
       "    </tr>\n",
       "  </thead>\n",
       "  <tbody>\n",
       "    <tr>\n",
       "      <th>0</th>\n",
       "      <td>1325317920</td>\n",
       "      <td>4.39</td>\n",
       "      <td>4.39</td>\n",
       "      <td>4.39</td>\n",
       "      <td>4.39</td>\n",
       "      <td>0.455581</td>\n",
       "      <td>2.0</td>\n",
       "      <td>4.39</td>\n",
       "    </tr>\n",
       "    <tr>\n",
       "      <th>1</th>\n",
       "      <td>1325317980</td>\n",
       "      <td>NaN</td>\n",
       "      <td>NaN</td>\n",
       "      <td>NaN</td>\n",
       "      <td>NaN</td>\n",
       "      <td>NaN</td>\n",
       "      <td>NaN</td>\n",
       "      <td>NaN</td>\n",
       "    </tr>\n",
       "    <tr>\n",
       "      <th>2</th>\n",
       "      <td>1325318040</td>\n",
       "      <td>NaN</td>\n",
       "      <td>NaN</td>\n",
       "      <td>NaN</td>\n",
       "      <td>NaN</td>\n",
       "      <td>NaN</td>\n",
       "      <td>NaN</td>\n",
       "      <td>NaN</td>\n",
       "    </tr>\n",
       "    <tr>\n",
       "      <th>3</th>\n",
       "      <td>1325318100</td>\n",
       "      <td>NaN</td>\n",
       "      <td>NaN</td>\n",
       "      <td>NaN</td>\n",
       "      <td>NaN</td>\n",
       "      <td>NaN</td>\n",
       "      <td>NaN</td>\n",
       "      <td>NaN</td>\n",
       "    </tr>\n",
       "    <tr>\n",
       "      <th>4</th>\n",
       "      <td>1325318160</td>\n",
       "      <td>NaN</td>\n",
       "      <td>NaN</td>\n",
       "      <td>NaN</td>\n",
       "      <td>NaN</td>\n",
       "      <td>NaN</td>\n",
       "      <td>NaN</td>\n",
       "      <td>NaN</td>\n",
       "    </tr>\n",
       "  </tbody>\n",
       "</table>\n",
       "</div>"
      ],
      "text/plain": [
       "    Timestamp  Open  High   Low  Close  Volume_(BTC)  Volume_(Currency)  \\\n",
       "0  1325317920  4.39  4.39  4.39   4.39      0.455581                2.0   \n",
       "1  1325317980   NaN   NaN   NaN    NaN           NaN                NaN   \n",
       "2  1325318040   NaN   NaN   NaN    NaN           NaN                NaN   \n",
       "3  1325318100   NaN   NaN   NaN    NaN           NaN                NaN   \n",
       "4  1325318160   NaN   NaN   NaN    NaN           NaN                NaN   \n",
       "\n",
       "   Weighted_Price  \n",
       "0            4.39  \n",
       "1             NaN  \n",
       "2             NaN  \n",
       "3             NaN  \n",
       "4             NaN  "
      ]
     },
     "execution_count": 28,
     "metadata": {},
     "output_type": "execute_result"
    }
   ],
   "source": [
    "data.head()"
   ]
  },
  {
   "cell_type": "code",
   "execution_count": 29,
   "id": "overall-viking",
   "metadata": {
    "ExecuteTime": {
     "end_time": "2021-03-01T15:08:53.102623Z",
     "start_time": "2021-03-01T15:08:52.838956Z"
    }
   },
   "outputs": [],
   "source": [
    "data['Timestamp'] = pd.to_datetime(data['Timestamp'], unit='s', origin='unix')"
   ]
  },
  {
   "cell_type": "code",
   "execution_count": 30,
   "id": "respective-means",
   "metadata": {
    "ExecuteTime": {
     "end_time": "2021-03-01T15:08:53.397977Z",
     "start_time": "2021-03-01T15:08:53.347952Z"
    }
   },
   "outputs": [
    {
     "data": {
      "text/html": [
       "<div>\n",
       "<style scoped>\n",
       "    .dataframe tbody tr th:only-of-type {\n",
       "        vertical-align: middle;\n",
       "    }\n",
       "\n",
       "    .dataframe tbody tr th {\n",
       "        vertical-align: top;\n",
       "    }\n",
       "\n",
       "    .dataframe thead th {\n",
       "        text-align: right;\n",
       "    }\n",
       "</style>\n",
       "<table border=\"1\" class=\"dataframe\">\n",
       "  <thead>\n",
       "    <tr style=\"text-align: right;\">\n",
       "      <th></th>\n",
       "      <th>Timestamp</th>\n",
       "      <th>Open</th>\n",
       "      <th>High</th>\n",
       "      <th>Low</th>\n",
       "      <th>Close</th>\n",
       "      <th>Volume_(BTC)</th>\n",
       "      <th>Volume_(Currency)</th>\n",
       "      <th>Weighted_Price</th>\n",
       "    </tr>\n",
       "  </thead>\n",
       "  <tbody>\n",
       "    <tr>\n",
       "      <th>0</th>\n",
       "      <td>2011-12-31 07:52:00</td>\n",
       "      <td>4.39</td>\n",
       "      <td>4.39</td>\n",
       "      <td>4.39</td>\n",
       "      <td>4.39</td>\n",
       "      <td>0.455581</td>\n",
       "      <td>2.0</td>\n",
       "      <td>4.39</td>\n",
       "    </tr>\n",
       "    <tr>\n",
       "      <th>1</th>\n",
       "      <td>2011-12-31 07:53:00</td>\n",
       "      <td>NaN</td>\n",
       "      <td>NaN</td>\n",
       "      <td>NaN</td>\n",
       "      <td>NaN</td>\n",
       "      <td>NaN</td>\n",
       "      <td>NaN</td>\n",
       "      <td>NaN</td>\n",
       "    </tr>\n",
       "    <tr>\n",
       "      <th>2</th>\n",
       "      <td>2011-12-31 07:54:00</td>\n",
       "      <td>NaN</td>\n",
       "      <td>NaN</td>\n",
       "      <td>NaN</td>\n",
       "      <td>NaN</td>\n",
       "      <td>NaN</td>\n",
       "      <td>NaN</td>\n",
       "      <td>NaN</td>\n",
       "    </tr>\n",
       "    <tr>\n",
       "      <th>3</th>\n",
       "      <td>2011-12-31 07:55:00</td>\n",
       "      <td>NaN</td>\n",
       "      <td>NaN</td>\n",
       "      <td>NaN</td>\n",
       "      <td>NaN</td>\n",
       "      <td>NaN</td>\n",
       "      <td>NaN</td>\n",
       "      <td>NaN</td>\n",
       "    </tr>\n",
       "    <tr>\n",
       "      <th>4</th>\n",
       "      <td>2011-12-31 07:56:00</td>\n",
       "      <td>NaN</td>\n",
       "      <td>NaN</td>\n",
       "      <td>NaN</td>\n",
       "      <td>NaN</td>\n",
       "      <td>NaN</td>\n",
       "      <td>NaN</td>\n",
       "      <td>NaN</td>\n",
       "    </tr>\n",
       "  </tbody>\n",
       "</table>\n",
       "</div>"
      ],
      "text/plain": [
       "            Timestamp  Open  High   Low  Close  Volume_(BTC)  \\\n",
       "0 2011-12-31 07:52:00  4.39  4.39  4.39   4.39      0.455581   \n",
       "1 2011-12-31 07:53:00   NaN   NaN   NaN    NaN           NaN   \n",
       "2 2011-12-31 07:54:00   NaN   NaN   NaN    NaN           NaN   \n",
       "3 2011-12-31 07:55:00   NaN   NaN   NaN    NaN           NaN   \n",
       "4 2011-12-31 07:56:00   NaN   NaN   NaN    NaN           NaN   \n",
       "\n",
       "   Volume_(Currency)  Weighted_Price  \n",
       "0                2.0            4.39  \n",
       "1                NaN             NaN  \n",
       "2                NaN             NaN  \n",
       "3                NaN             NaN  \n",
       "4                NaN             NaN  "
      ]
     },
     "execution_count": 30,
     "metadata": {},
     "output_type": "execute_result"
    }
   ],
   "source": [
    "data.head()"
   ]
  },
  {
   "cell_type": "code",
   "execution_count": 31,
   "id": "narrative-point",
   "metadata": {
    "ExecuteTime": {
     "end_time": "2021-03-01T15:08:53.724920Z",
     "start_time": "2021-03-01T15:08:53.657327Z"
    }
   },
   "outputs": [],
   "source": [
    "data = data[4000576:].copy()"
   ]
  },
  {
   "cell_type": "code",
   "execution_count": 32,
   "id": "naked-petersburg",
   "metadata": {
    "ExecuteTime": {
     "end_time": "2021-03-01T15:08:55.415431Z",
     "start_time": "2021-03-01T15:08:55.367570Z"
    }
   },
   "outputs": [],
   "source": [
    "data.fillna(method=\"ffill\", inplace=True)"
   ]
  },
  {
   "cell_type": "code",
   "execution_count": 33,
   "id": "acknowledged-proxy",
   "metadata": {
    "ExecuteTime": {
     "end_time": "2021-03-01T15:08:56.994177Z",
     "start_time": "2021-03-01T15:08:56.762475Z"
    }
   },
   "outputs": [
    {
     "data": {
      "text/plain": [
       "[<matplotlib.lines.Line2D at 0x7f291d91bcd0>]"
      ]
     },
     "execution_count": 33,
     "metadata": {},
     "output_type": "execute_result"
    },
    {
     "data": {
      "image/png": "[encoded data removed]",
      "text/plain": [
       "<Figure size 432x288 with 1 Axes>"
      ]
     },
     "metadata": {
      "needs_background": "light"
     },
     "output_type": "display_data"
    }
   ],
   "source": [
    "plt.plot(data['Open'][:60])\n",
    "plt.plot(data['Close'][:60])"
   ]
  },
  {
   "cell_type": "code",
   "execution_count": 34,
   "id": "prostate-classification",
   "metadata": {
    "ExecuteTime": {
     "end_time": "2021-03-01T15:09:00.173219Z",
     "start_time": "2021-03-01T15:09:00.138599Z"
    }
   },
   "outputs": [
    {
     "data": {
      "text/plain": [
       "10809.5"
      ]
     },
     "execution_count": 34,
     "metadata": {},
     "output_type": "execute_result"
    }
   ],
   "source": [
    "data['Open'][:60].mean().round(1)"
   ]
  },
  {
   "cell_type": "code",
   "execution_count": 35,
   "id": "clean-disney",
   "metadata": {
    "ExecuteTime": {
     "end_time": "2021-03-01T15:09:03.604815Z",
     "start_time": "2021-03-01T15:09:03.539842Z"
    }
   },
   "outputs": [],
   "source": [
    "data2 = data.drop(columns=['High',\n",
    "                           'Low',\n",
    "                           'Close',\n",
    "                           'Volume_(BTC)',\n",
    "                           'Volume_(Currency)',\n",
    "                           'Weighted_Price']).copy() #.set_index(\"Timestamp\")"
   ]
  },
  {
   "cell_type": "code",
   "execution_count": 36,
   "id": "ordinary-validity",
   "metadata": {
    "ExecuteTime": {
     "end_time": "2021-03-01T15:09:04.311526Z",
     "start_time": "2021-03-01T15:09:04.288380Z"
    }
   },
   "outputs": [],
   "source": [
    "data2.reset_index(inplace=True, drop=True)"
   ]
  },
  {
   "cell_type": "code",
   "execution_count": 37,
   "id": "terminal-document",
   "metadata": {
    "ExecuteTime": {
     "end_time": "2021-03-01T15:09:06.477057Z",
     "start_time": "2021-03-01T15:09:06.451280Z"
    }
   },
   "outputs": [],
   "source": [
    "data2 = data2[:-1].copy()"
   ]
  },
  {
   "cell_type": "code",
   "execution_count": 38,
   "id": "decimal-bridal",
   "metadata": {
    "ExecuteTime": {
     "end_time": "2021-03-01T15:09:07.470189Z",
     "start_time": "2021-03-01T15:09:07.430482Z"
    }
   },
   "outputs": [
    {
     "data": {
      "text/html": [
       "<div>\n",
       "<style scoped>\n",
       "    .dataframe tbody tr th:only-of-type {\n",
       "        vertical-align: middle;\n",
       "    }\n",
       "\n",
       "    .dataframe tbody tr th {\n",
       "        vertical-align: top;\n",
       "    }\n",
       "\n",
       "    .dataframe thead th {\n",
       "        text-align: right;\n",
       "    }\n",
       "</style>\n",
       "<table border=\"1\" class=\"dataframe\">\n",
       "  <thead>\n",
       "    <tr style=\"text-align: right;\">\n",
       "      <th></th>\n",
       "      <th>Timestamp</th>\n",
       "      <th>Open</th>\n",
       "    </tr>\n",
       "  </thead>\n",
       "  <tbody>\n",
       "    <tr>\n",
       "      <th>0</th>\n",
       "      <td>2019-08-14 00:00:00</td>\n",
       "      <td>10862.25</td>\n",
       "    </tr>\n",
       "    <tr>\n",
       "      <th>1</th>\n",
       "      <td>2019-08-14 00:01:00</td>\n",
       "      <td>10861.93</td>\n",
       "    </tr>\n",
       "    <tr>\n",
       "      <th>2</th>\n",
       "      <td>2019-08-14 00:02:00</td>\n",
       "      <td>10851.67</td>\n",
       "    </tr>\n",
       "    <tr>\n",
       "      <th>3</th>\n",
       "      <td>2019-08-14 00:03:00</td>\n",
       "      <td>10854.76</td>\n",
       "    </tr>\n",
       "    <tr>\n",
       "      <th>4</th>\n",
       "      <td>2019-08-14 00:04:00</td>\n",
       "      <td>10854.47</td>\n",
       "    </tr>\n",
       "    <tr>\n",
       "      <th>...</th>\n",
       "      <td>...</td>\n",
       "      <td>...</td>\n",
       "    </tr>\n",
       "    <tr>\n",
       "      <th>727195</th>\n",
       "      <td>2020-12-30 23:55:00</td>\n",
       "      <td>28809.07</td>\n",
       "    </tr>\n",
       "    <tr>\n",
       "      <th>727196</th>\n",
       "      <td>2020-12-30 23:56:00</td>\n",
       "      <td>28801.47</td>\n",
       "    </tr>\n",
       "    <tr>\n",
       "      <th>727197</th>\n",
       "      <td>2020-12-30 23:57:00</td>\n",
       "      <td>28829.42</td>\n",
       "    </tr>\n",
       "    <tr>\n",
       "      <th>727198</th>\n",
       "      <td>2020-12-30 23:58:00</td>\n",
       "      <td>28850.49</td>\n",
       "    </tr>\n",
       "    <tr>\n",
       "      <th>727199</th>\n",
       "      <td>2020-12-30 23:59:00</td>\n",
       "      <td>28910.54</td>\n",
       "    </tr>\n",
       "  </tbody>\n",
       "</table>\n",
       "<p>727200 rows × 2 columns</p>\n",
       "</div>"
      ],
      "text/plain": [
       "                 Timestamp      Open\n",
       "0      2019-08-14 00:00:00  10862.25\n",
       "1      2019-08-14 00:01:00  10861.93\n",
       "2      2019-08-14 00:02:00  10851.67\n",
       "3      2019-08-14 00:03:00  10854.76\n",
       "4      2019-08-14 00:04:00  10854.47\n",
       "...                    ...       ...\n",
       "727195 2020-12-30 23:55:00  28809.07\n",
       "727196 2020-12-30 23:56:00  28801.47\n",
       "727197 2020-12-30 23:57:00  28829.42\n",
       "727198 2020-12-30 23:58:00  28850.49\n",
       "727199 2020-12-30 23:59:00  28910.54\n",
       "\n",
       "[727200 rows x 2 columns]"
      ]
     },
     "execution_count": 38,
     "metadata": {},
     "output_type": "execute_result"
    }
   ],
   "source": [
    "data2"
   ]
  },
  {
   "cell_type": "code",
   "execution_count": 40,
   "id": "worthy-constitution",
   "metadata": {
    "ExecuteTime": {
     "end_time": "2021-03-01T15:09:41.465625Z",
     "start_time": "2021-03-01T15:09:41.372406Z"
    }
   },
   "outputs": [],
   "source": [
    "data = data[:-1].copy()"
   ]
  },
  {
   "cell_type": "code",
   "execution_count": 42,
   "id": "strategic-superintendent",
   "metadata": {
    "ExecuteTime": {
     "end_time": "2021-03-01T15:09:53.719642Z",
     "start_time": "2021-03-01T15:09:53.670398Z"
    }
   },
   "outputs": [
    {
     "data": {
      "text/html": [
       "<div>\n",
       "<style scoped>\n",
       "    .dataframe tbody tr th:only-of-type {\n",
       "        vertical-align: middle;\n",
       "    }\n",
       "\n",
       "    .dataframe tbody tr th {\n",
       "        vertical-align: top;\n",
       "    }\n",
       "\n",
       "    .dataframe thead th {\n",
       "        text-align: right;\n",
       "    }\n",
       "</style>\n",
       "<table border=\"1\" class=\"dataframe\">\n",
       "  <thead>\n",
       "    <tr style=\"text-align: right;\">\n",
       "      <th></th>\n",
       "      <th>Timestamp</th>\n",
       "      <th>Open</th>\n",
       "      <th>High</th>\n",
       "      <th>Low</th>\n",
       "      <th>Close</th>\n",
       "      <th>Volume_(BTC)</th>\n",
       "      <th>Volume_(Currency)</th>\n",
       "      <th>Weighted_Price</th>\n",
       "    </tr>\n",
       "  </thead>\n",
       "  <tbody>\n",
       "    <tr>\n",
       "      <th>4000576</th>\n",
       "      <td>2019-08-14 00:00:00</td>\n",
       "      <td>10862.25</td>\n",
       "      <td>10862.25</td>\n",
       "      <td>10862.25</td>\n",
       "      <td>10862.25</td>\n",
       "      <td>0.020363</td>\n",
       "      <td>221.187997</td>\n",
       "      <td>10862.250000</td>\n",
       "    </tr>\n",
       "    <tr>\n",
       "      <th>4000577</th>\n",
       "      <td>2019-08-14 00:01:00</td>\n",
       "      <td>10861.93</td>\n",
       "      <td>10862.15</td>\n",
       "      <td>10842.78</td>\n",
       "      <td>10855.27</td>\n",
       "      <td>3.030780</td>\n",
       "      <td>32911.885943</td>\n",
       "      <td>10859.212261</td>\n",
       "    </tr>\n",
       "    <tr>\n",
       "      <th>4000578</th>\n",
       "      <td>2019-08-14 00:02:00</td>\n",
       "      <td>10851.67</td>\n",
       "      <td>10854.77</td>\n",
       "      <td>10833.10</td>\n",
       "      <td>10854.77</td>\n",
       "      <td>0.614111</td>\n",
       "      <td>6658.078524</td>\n",
       "      <td>10841.815388</td>\n",
       "    </tr>\n",
       "    <tr>\n",
       "      <th>4000579</th>\n",
       "      <td>2019-08-14 00:03:00</td>\n",
       "      <td>10854.76</td>\n",
       "      <td>10854.76</td>\n",
       "      <td>10854.57</td>\n",
       "      <td>10854.57</td>\n",
       "      <td>0.008578</td>\n",
       "      <td>93.108541</td>\n",
       "      <td>10854.746427</td>\n",
       "    </tr>\n",
       "    <tr>\n",
       "      <th>4000580</th>\n",
       "      <td>2019-08-14 00:04:00</td>\n",
       "      <td>10854.47</td>\n",
       "      <td>10854.47</td>\n",
       "      <td>10837.21</td>\n",
       "      <td>10848.13</td>\n",
       "      <td>0.276125</td>\n",
       "      <td>2995.135785</td>\n",
       "      <td>10847.042394</td>\n",
       "    </tr>\n",
       "    <tr>\n",
       "      <th>...</th>\n",
       "      <td>...</td>\n",
       "      <td>...</td>\n",
       "      <td>...</td>\n",
       "      <td>...</td>\n",
       "      <td>...</td>\n",
       "      <td>...</td>\n",
       "      <td>...</td>\n",
       "      <td>...</td>\n",
       "    </tr>\n",
       "    <tr>\n",
       "      <th>4727771</th>\n",
       "      <td>2020-12-30 23:55:00</td>\n",
       "      <td>28809.07</td>\n",
       "      <td>28825.50</td>\n",
       "      <td>28800.01</td>\n",
       "      <td>28810.08</td>\n",
       "      <td>0.087391</td>\n",
       "      <td>2517.799582</td>\n",
       "      <td>28810.597267</td>\n",
       "    </tr>\n",
       "    <tr>\n",
       "      <th>4727772</th>\n",
       "      <td>2020-12-30 23:56:00</td>\n",
       "      <td>28801.47</td>\n",
       "      <td>28829.42</td>\n",
       "      <td>28785.64</td>\n",
       "      <td>28829.42</td>\n",
       "      <td>0.965221</td>\n",
       "      <td>27804.572129</td>\n",
       "      <td>28806.429798</td>\n",
       "    </tr>\n",
       "    <tr>\n",
       "      <th>4727773</th>\n",
       "      <td>2020-12-30 23:57:00</td>\n",
       "      <td>28829.42</td>\n",
       "      <td>28863.90</td>\n",
       "      <td>28829.42</td>\n",
       "      <td>28857.06</td>\n",
       "      <td>2.368831</td>\n",
       "      <td>68332.350629</td>\n",
       "      <td>28846.441863</td>\n",
       "    </tr>\n",
       "    <tr>\n",
       "      <th>4727774</th>\n",
       "      <td>2020-12-30 23:58:00</td>\n",
       "      <td>28850.49</td>\n",
       "      <td>28900.52</td>\n",
       "      <td>28850.49</td>\n",
       "      <td>28882.82</td>\n",
       "      <td>2.466590</td>\n",
       "      <td>71232.784464</td>\n",
       "      <td>28879.056266</td>\n",
       "    </tr>\n",
       "    <tr>\n",
       "      <th>4727775</th>\n",
       "      <td>2020-12-30 23:59:00</td>\n",
       "      <td>28910.54</td>\n",
       "      <td>28911.52</td>\n",
       "      <td>28867.60</td>\n",
       "      <td>28881.30</td>\n",
       "      <td>7.332773</td>\n",
       "      <td>211870.912660</td>\n",
       "      <td>28893.695831</td>\n",
       "    </tr>\n",
       "  </tbody>\n",
       "</table>\n",
       "<p>727200 rows × 8 columns</p>\n",
       "</div>"
      ],
      "text/plain": [
       "                  Timestamp      Open      High       Low     Close  \\\n",
       "4000576 2019-08-14 00:00:00  10862.25  10862.25  10862.25  10862.25   \n",
       "4000577 2019-08-14 00:01:00  10861.93  10862.15  10842.78  10855.27   \n",
       "4000578 2019-08-14 00:02:00  10851.67  10854.77  10833.10  10854.77   \n",
       "4000579 2019-08-14 00:03:00  10854.76  10854.76  10854.57  10854.57   \n",
       "4000580 2019-08-14 00:04:00  10854.47  10854.47  10837.21  10848.13   \n",
       "...                     ...       ...       ...       ...       ...   \n",
       "4727771 2020-12-30 23:55:00  28809.07  28825.50  28800.01  28810.08   \n",
       "4727772 2020-12-30 23:56:00  28801.47  28829.42  28785.64  28829.42   \n",
       "4727773 2020-12-30 23:57:00  28829.42  28863.90  28829.42  28857.06   \n",
       "4727774 2020-12-30 23:58:00  28850.49  28900.52  28850.49  28882.82   \n",
       "4727775 2020-12-30 23:59:00  28910.54  28911.52  28867.60  28881.30   \n",
       "\n",
       "         Volume_(BTC)  Volume_(Currency)  Weighted_Price  \n",
       "4000576      0.020363         221.187997    10862.250000  \n",
       "4000577      3.030780       32911.885943    10859.212261  \n",
       "4000578      0.614111        6658.078524    10841.815388  \n",
       "4000579      0.008578          93.108541    10854.746427  \n",
       "4000580      0.276125        2995.135785    10847.042394  \n",
       "...               ...                ...             ...  \n",
       "4727771      0.087391        2517.799582    28810.597267  \n",
       "4727772      0.965221       27804.572129    28806.429798  \n",
       "4727773      2.368831       68332.350629    28846.441863  \n",
       "4727774      2.466590       71232.784464    28879.056266  \n",
       "4727775      7.332773      211870.912660    28893.695831  \n",
       "\n",
       "[727200 rows x 8 columns]"
      ]
     },
     "execution_count": 42,
     "metadata": {},
     "output_type": "execute_result"
    }
   ],
   "source": [
    "data"
   ]
  },
  {
   "cell_type": "code",
   "execution_count": null,
   "id": "tough-macro",
   "metadata": {},
   "outputs": [],
   "source": []
  },
  {
   "cell_type": "code",
   "execution_count": 43,
   "id": "literary-senate",
   "metadata": {
    "ExecuteTime": {
     "end_time": "2021-03-01T15:09:55.156370Z",
     "start_time": "2021-03-01T15:09:55.081610Z"
    }
   },
   "outputs": [],
   "source": [
    "data2 = data2.groupby(pd.Grouper(key=\"Timestamp\", freq=\"1h\")).mean().round(1).copy()"
   ]
  },
  {
   "cell_type": "code",
   "execution_count": 44,
   "id": "reported-badge",
   "metadata": {
    "ExecuteTime": {
     "end_time": "2021-03-01T15:10:02.223297Z",
     "start_time": "2021-03-01T15:10:02.193745Z"
    }
   },
   "outputs": [],
   "source": [
    "data.reset_index(inplace=True, drop=True)"
   ]
  },
  {
   "cell_type": "code",
   "execution_count": 45,
   "id": "sonic-translator",
   "metadata": {
    "ExecuteTime": {
     "end_time": "2021-03-01T15:10:04.483079Z",
     "start_time": "2021-03-01T15:10:04.449094Z"
    }
   },
   "outputs": [
    {
     "data": {
      "text/html": [
       "<div>\n",
       "<style scoped>\n",
       "    .dataframe tbody tr th:only-of-type {\n",
       "        vertical-align: middle;\n",
       "    }\n",
       "\n",
       "    .dataframe tbody tr th {\n",
       "        vertical-align: top;\n",
       "    }\n",
       "\n",
       "    .dataframe thead th {\n",
       "        text-align: right;\n",
       "    }\n",
       "</style>\n",
       "<table border=\"1\" class=\"dataframe\">\n",
       "  <thead>\n",
       "    <tr style=\"text-align: right;\">\n",
       "      <th></th>\n",
       "      <th>Open</th>\n",
       "    </tr>\n",
       "    <tr>\n",
       "      <th>Timestamp</th>\n",
       "      <th></th>\n",
       "    </tr>\n",
       "  </thead>\n",
       "  <tbody>\n",
       "    <tr>\n",
       "      <th>2019-08-14 00:00:00</th>\n",
       "      <td>10809.5</td>\n",
       "    </tr>\n",
       "    <tr>\n",
       "      <th>2019-08-14 01:00:00</th>\n",
       "      <td>10650.8</td>\n",
       "    </tr>\n",
       "    <tr>\n",
       "      <th>2019-08-14 02:00:00</th>\n",
       "      <td>10582.4</td>\n",
       "    </tr>\n",
       "    <tr>\n",
       "      <th>2019-08-14 03:00:00</th>\n",
       "      <td>10595.8</td>\n",
       "    </tr>\n",
       "    <tr>\n",
       "      <th>2019-08-14 04:00:00</th>\n",
       "      <td>10571.7</td>\n",
       "    </tr>\n",
       "    <tr>\n",
       "      <th>...</th>\n",
       "      <td>...</td>\n",
       "    </tr>\n",
       "    <tr>\n",
       "      <th>2020-12-30 19:00:00</th>\n",
       "      <td>28754.4</td>\n",
       "    </tr>\n",
       "    <tr>\n",
       "      <th>2020-12-30 20:00:00</th>\n",
       "      <td>28804.1</td>\n",
       "    </tr>\n",
       "    <tr>\n",
       "      <th>2020-12-30 21:00:00</th>\n",
       "      <td>28840.5</td>\n",
       "    </tr>\n",
       "    <tr>\n",
       "      <th>2020-12-30 22:00:00</th>\n",
       "      <td>28820.0</td>\n",
       "    </tr>\n",
       "    <tr>\n",
       "      <th>2020-12-30 23:00:00</th>\n",
       "      <td>28810.3</td>\n",
       "    </tr>\n",
       "  </tbody>\n",
       "</table>\n",
       "<p>12120 rows × 1 columns</p>\n",
       "</div>"
      ],
      "text/plain": [
       "                        Open\n",
       "Timestamp                   \n",
       "2019-08-14 00:00:00  10809.5\n",
       "2019-08-14 01:00:00  10650.8\n",
       "2019-08-14 02:00:00  10582.4\n",
       "2019-08-14 03:00:00  10595.8\n",
       "2019-08-14 04:00:00  10571.7\n",
       "...                      ...\n",
       "2020-12-30 19:00:00  28754.4\n",
       "2020-12-30 20:00:00  28804.1\n",
       "2020-12-30 21:00:00  28840.5\n",
       "2020-12-30 22:00:00  28820.0\n",
       "2020-12-30 23:00:00  28810.3\n",
       "\n",
       "[12120 rows x 1 columns]"
      ]
     },
     "execution_count": 45,
     "metadata": {},
     "output_type": "execute_result"
    }
   ],
   "source": [
    "data2"
   ]
  },
  {
   "cell_type": "code",
   "execution_count": 46,
   "id": "interesting-titanium",
   "metadata": {
    "ExecuteTime": {
     "end_time": "2021-03-01T15:10:09.529489Z",
     "start_time": "2021-03-01T15:10:09.505529Z"
    }
   },
   "outputs": [],
   "source": [
    "data.set_index(keys=\"Timestamp\", inplace=True)"
   ]
  },
  {
   "cell_type": "code",
   "execution_count": 47,
   "id": "raised-atlanta",
   "metadata": {
    "ExecuteTime": {
     "end_time": "2021-03-01T15:10:10.924191Z",
     "start_time": "2021-03-01T15:10:10.873786Z"
    }
   },
   "outputs": [
    {
     "data": {
      "text/html": [
       "<div>\n",
       "<style scoped>\n",
       "    .dataframe tbody tr th:only-of-type {\n",
       "        vertical-align: middle;\n",
       "    }\n",
       "\n",
       "    .dataframe tbody tr th {\n",
       "        vertical-align: top;\n",
       "    }\n",
       "\n",
       "    .dataframe thead th {\n",
       "        text-align: right;\n",
       "    }\n",
       "</style>\n",
       "<table border=\"1\" class=\"dataframe\">\n",
       "  <thead>\n",
       "    <tr style=\"text-align: right;\">\n",
       "      <th></th>\n",
       "      <th>Open</th>\n",
       "      <th>High</th>\n",
       "      <th>Low</th>\n",
       "      <th>Close</th>\n",
       "      <th>Volume_(BTC)</th>\n",
       "      <th>Volume_(Currency)</th>\n",
       "      <th>Weighted_Price</th>\n",
       "    </tr>\n",
       "    <tr>\n",
       "      <th>Timestamp</th>\n",
       "      <th></th>\n",
       "      <th></th>\n",
       "      <th></th>\n",
       "      <th></th>\n",
       "      <th></th>\n",
       "      <th></th>\n",
       "      <th></th>\n",
       "    </tr>\n",
       "  </thead>\n",
       "  <tbody>\n",
       "    <tr>\n",
       "      <th>2019-08-14 00:00:00</th>\n",
       "      <td>10862.25</td>\n",
       "      <td>10862.25</td>\n",
       "      <td>10862.25</td>\n",
       "      <td>10862.25</td>\n",
       "      <td>0.020363</td>\n",
       "      <td>221.187997</td>\n",
       "      <td>10862.250000</td>\n",
       "    </tr>\n",
       "    <tr>\n",
       "      <th>2019-08-14 00:01:00</th>\n",
       "      <td>10861.93</td>\n",
       "      <td>10862.15</td>\n",
       "      <td>10842.78</td>\n",
       "      <td>10855.27</td>\n",
       "      <td>3.030780</td>\n",
       "      <td>32911.885943</td>\n",
       "      <td>10859.212261</td>\n",
       "    </tr>\n",
       "    <tr>\n",
       "      <th>2019-08-14 00:02:00</th>\n",
       "      <td>10851.67</td>\n",
       "      <td>10854.77</td>\n",
       "      <td>10833.10</td>\n",
       "      <td>10854.77</td>\n",
       "      <td>0.614111</td>\n",
       "      <td>6658.078524</td>\n",
       "      <td>10841.815388</td>\n",
       "    </tr>\n",
       "    <tr>\n",
       "      <th>2019-08-14 00:03:00</th>\n",
       "      <td>10854.76</td>\n",
       "      <td>10854.76</td>\n",
       "      <td>10854.57</td>\n",
       "      <td>10854.57</td>\n",
       "      <td>0.008578</td>\n",
       "      <td>93.108541</td>\n",
       "      <td>10854.746427</td>\n",
       "    </tr>\n",
       "    <tr>\n",
       "      <th>2019-08-14 00:04:00</th>\n",
       "      <td>10854.47</td>\n",
       "      <td>10854.47</td>\n",
       "      <td>10837.21</td>\n",
       "      <td>10848.13</td>\n",
       "      <td>0.276125</td>\n",
       "      <td>2995.135785</td>\n",
       "      <td>10847.042394</td>\n",
       "    </tr>\n",
       "    <tr>\n",
       "      <th>...</th>\n",
       "      <td>...</td>\n",
       "      <td>...</td>\n",
       "      <td>...</td>\n",
       "      <td>...</td>\n",
       "      <td>...</td>\n",
       "      <td>...</td>\n",
       "      <td>...</td>\n",
       "    </tr>\n",
       "    <tr>\n",
       "      <th>2020-12-30 23:55:00</th>\n",
       "      <td>28809.07</td>\n",
       "      <td>28825.50</td>\n",
       "      <td>28800.01</td>\n",
       "      <td>28810.08</td>\n",
       "      <td>0.087391</td>\n",
       "      <td>2517.799582</td>\n",
       "      <td>28810.597267</td>\n",
       "    </tr>\n",
       "    <tr>\n",
       "      <th>2020-12-30 23:56:00</th>\n",
       "      <td>28801.47</td>\n",
       "      <td>28829.42</td>\n",
       "      <td>28785.64</td>\n",
       "      <td>28829.42</td>\n",
       "      <td>0.965221</td>\n",
       "      <td>27804.572129</td>\n",
       "      <td>28806.429798</td>\n",
       "    </tr>\n",
       "    <tr>\n",
       "      <th>2020-12-30 23:57:00</th>\n",
       "      <td>28829.42</td>\n",
       "      <td>28863.90</td>\n",
       "      <td>28829.42</td>\n",
       "      <td>28857.06</td>\n",
       "      <td>2.368831</td>\n",
       "      <td>68332.350629</td>\n",
       "      <td>28846.441863</td>\n",
       "    </tr>\n",
       "    <tr>\n",
       "      <th>2020-12-30 23:58:00</th>\n",
       "      <td>28850.49</td>\n",
       "      <td>28900.52</td>\n",
       "      <td>28850.49</td>\n",
       "      <td>28882.82</td>\n",
       "      <td>2.466590</td>\n",
       "      <td>71232.784464</td>\n",
       "      <td>28879.056266</td>\n",
       "    </tr>\n",
       "    <tr>\n",
       "      <th>2020-12-30 23:59:00</th>\n",
       "      <td>28910.54</td>\n",
       "      <td>28911.52</td>\n",
       "      <td>28867.60</td>\n",
       "      <td>28881.30</td>\n",
       "      <td>7.332773</td>\n",
       "      <td>211870.912660</td>\n",
       "      <td>28893.695831</td>\n",
       "    </tr>\n",
       "  </tbody>\n",
       "</table>\n",
       "<p>727200 rows × 7 columns</p>\n",
       "</div>"
      ],
      "text/plain": [
       "                         Open      High       Low     Close  Volume_(BTC)  \\\n",
       "Timestamp                                                                   \n",
       "2019-08-14 00:00:00  10862.25  10862.25  10862.25  10862.25      0.020363   \n",
       "2019-08-14 00:01:00  10861.93  10862.15  10842.78  10855.27      3.030780   \n",
       "2019-08-14 00:02:00  10851.67  10854.77  10833.10  10854.77      0.614111   \n",
       "2019-08-14 00:03:00  10854.76  10854.76  10854.57  10854.57      0.008578   \n",
       "2019-08-14 00:04:00  10854.47  10854.47  10837.21  10848.13      0.276125   \n",
       "...                       ...       ...       ...       ...           ...   \n",
       "2020-12-30 23:55:00  28809.07  28825.50  28800.01  28810.08      0.087391   \n",
       "2020-12-30 23:56:00  28801.47  28829.42  28785.64  28829.42      0.965221   \n",
       "2020-12-30 23:57:00  28829.42  28863.90  28829.42  28857.06      2.368831   \n",
       "2020-12-30 23:58:00  28850.49  28900.52  28850.49  28882.82      2.466590   \n",
       "2020-12-30 23:59:00  28910.54  28911.52  28867.60  28881.30      7.332773   \n",
       "\n",
       "                     Volume_(Currency)  Weighted_Price  \n",
       "Timestamp                                               \n",
       "2019-08-14 00:00:00         221.187997    10862.250000  \n",
       "2019-08-14 00:01:00       32911.885943    10859.212261  \n",
       "2019-08-14 00:02:00        6658.078524    10841.815388  \n",
       "2019-08-14 00:03:00          93.108541    10854.746427  \n",
       "2019-08-14 00:04:00        2995.135785    10847.042394  \n",
       "...                                ...             ...  \n",
       "2020-12-30 23:55:00        2517.799582    28810.597267  \n",
       "2020-12-30 23:56:00       27804.572129    28806.429798  \n",
       "2020-12-30 23:57:00       68332.350629    28846.441863  \n",
       "2020-12-30 23:58:00       71232.784464    28879.056266  \n",
       "2020-12-30 23:59:00      211870.912660    28893.695831  \n",
       "\n",
       "[727200 rows x 7 columns]"
      ]
     },
     "execution_count": 47,
     "metadata": {},
     "output_type": "execute_result"
    }
   ],
   "source": [
    "data"
   ]
  },
  {
   "cell_type": "code",
   "execution_count": 59,
   "id": "dated-quarter",
   "metadata": {
    "ExecuteTime": {
     "end_time": "2021-03-01T15:15:00.803731Z",
     "start_time": "2021-03-01T15:15:00.771621Z"
    }
   },
   "outputs": [
    {
     "data": {
      "text/plain": [
       "Open                 10108.830000\n",
       "High                 10128.100000\n",
       "Low                  10107.280000\n",
       "Close                10120.910000\n",
       "Volume_(BTC)             1.276112\n",
       "Volume_(Currency)    12908.241656\n",
       "Weighted_Price       10115.287161\n",
       "Name: 2019-08-18 04:00:00, dtype: float64"
      ]
     },
     "execution_count": 59,
     "metadata": {},
     "output_type": "execute_result"
    }
   ],
   "source": [
    "data.iloc[6000]"
   ]
  },
  {
   "cell_type": "code",
   "execution_count": 53,
   "id": "frequent-winning",
   "metadata": {
    "ExecuteTime": {
     "end_time": "2021-03-01T15:12:27.320503Z",
     "start_time": "2021-03-01T15:12:27.011672Z"
    }
   },
   "outputs": [
    {
     "data": {
      "image/png": "[encoded data removed]",
      "text/plain": [
       "<Figure size 1440x504 with 1 Axes>"
      ]
     },
     "metadata": {
      "needs_background": "light"
     },
     "output_type": "display_data"
    }
   ],
   "source": [
    "plt.figure(figsize=(20,7))\n",
    "plt.plot(data2['Open'][:100])\n",
    "plt.plot(data['Open'][:6000]);"
   ]
  },
  {
   "cell_type": "code",
   "execution_count": 51,
   "id": "absolute-optics",
   "metadata": {
    "ExecuteTime": {
     "end_time": "2021-03-01T15:12:00.083901Z",
     "start_time": "2021-03-01T15:11:59.171758Z"
    }
   },
   "outputs": [
    {
     "data": {
      "text/plain": [
       "[<matplotlib.lines.Line2D at 0x7f290b22ee50>]"
      ]
     },
     "execution_count": 51,
     "metadata": {},
     "output_type": "execute_result"
    },
    {
     "data": {
      "image/png": "[encoded data removed]",
      "text/plain": [
       "<Figure size 1440x504 with 1 Axes>"
      ]
     },
     "metadata": {
      "needs_background": "light"
     },
     "output_type": "display_data"
    }
   ],
   "source": [
    "plt.figure(figsize=(20,7))\n",
    "plt.plot(data['Open'])"
   ]
  },
  {
   "cell_type": "code",
   "execution_count": 52,
   "id": "accredited-nebraska",
   "metadata": {
    "ExecuteTime": {
     "end_time": "2021-03-01T15:12:00.731838Z",
     "start_time": "2021-03-01T15:12:00.312278Z"
    }
   },
   "outputs": [
    {
     "data": {
      "text/plain": [
       "[<matplotlib.lines.Line2D at 0x7f290b267e20>]"
      ]
     },
     "execution_count": 52,
     "metadata": {},
     "output_type": "execute_result"
    },
    {
     "data": {
      "image/png": "[encoded data removed]",
      "text/plain": [
       "<Figure size 1440x504 with 1 Axes>"
      ]
     },
     "metadata": {
      "needs_background": "light"
     },
     "output_type": "display_data"
    }
   ],
   "source": [
    "plt.figure(figsize=(20,7))\n",
    "plt.plot(data2['Open'])"
   ]
  },
  {
   "cell_type": "code",
   "execution_count": null,
   "id": "solved-judge",
   "metadata": {},
   "outputs": [],
   "source": []
  },
  {
   "cell_type": "code",
   "execution_count": null,
   "id": "differential-procurement",
   "metadata": {},
   "outputs": [],
   "source": []
  }
 ],
 "metadata": {
  "kernelspec": {
   "display_name": "Python 3",
   "language": "python",
   "name": "python3"
  },
  "language_info": {
   "codemirror_mode": {
    "name": "ipython",
    "version": 3
   },
   "file_extension": ".py",
   "mimetype": "text/x-python",
   "name": "python",
   "nbconvert_exporter": "python",
   "pygments_lexer": "ipython3",
   "version": "3.8.6"
  },
  "toc": {
   "base_numbering": 1,
   "nav_menu": {},
   "number_sections": true,
   "sideBar": true,
   "skip_h1_title": false,
   "title_cell": "Table of Contents",
   "title_sidebar": "Contents",
   "toc_cell": false,
   "toc_position": {},
   "toc_section_display": true,
   "toc_window_display": false
  },
  "varInspector": {
   "cols": {
    "lenName": 16,
    "lenType": 16,
    "lenVar": 40
   },
   "kernels_config": {
    "python": {
     "delete_cmd_postfix": "",
     "delete_cmd_prefix": "del ",
     "library": "var_list.py",
     "varRefreshCmd": "print(var_dic_list())"
    },
    "r": {
     "delete_cmd_postfix": ") ",
     "delete_cmd_prefix": "rm(",
     "library": "var_list.r",
     "varRefreshCmd": "cat(var_dic_list()) "
    }
   },
   "types_to_exclude": [
    "module",
    "function",
    "builtin_function_or_method",
    "instance",
    "_Feature"
   ],
   "window_display": false
  }
 },
 "nbformat": 4,
 "nbformat_minor": 5
}
