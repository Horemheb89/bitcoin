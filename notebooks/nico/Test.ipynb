{
 "cells": [
  {
   "cell_type": "code",
   "execution_count": 1,
   "id": "protective-sequence",
   "metadata": {
    "ExecuteTime": {
     "end_time": "2021-03-03T14:19:30.861981Z",
     "start_time": "2021-03-03T14:19:30.842635Z"
    },
    "id": "protective-sequence"
   },
   "outputs": [],
   "source": [
    "%load_ext autoreload\n",
    "%autoreload 2"
   ]
  },
  {
   "cell_type": "code",
   "execution_count": 2,
   "id": "naughty-representative",
   "metadata": {
    "ExecuteTime": {
     "end_time": "2021-03-03T14:19:32.538025Z",
     "start_time": "2021-03-03T14:19:31.151581Z"
    },
    "id": "naughty-representative"
   },
   "outputs": [],
   "source": [
    "import matplotlib.pyplot as plt\n",
    "import seaborn as sns\n",
    "import pandas as pd\n",
    "import numpy as np"
   ]
  },
  {
   "cell_type": "code",
   "execution_count": null,
   "id": "_XRZRFrfS-Ps",
   "metadata": {
    "colab": {
     "base_uri": "https://localhost:8080/"
    },
    "id": "_XRZRFrfS-Ps",
    "outputId": "c15f96c1-01e5-45c2-a4ea-73629298e0e7"
   },
   "outputs": [],
   "source": [
    "from google.colab import drive\n",
    "drive.mount('/content/drive/')"
   ]
  },
  {
   "cell_type": "code",
   "execution_count": null,
   "id": "CSbBE7d_S9cL",
   "metadata": {
    "id": "CSbBE7d_S9cL"
   },
   "outputs": [],
   "source": [
    "data = pd.read_csv('/content/drive/MyDrive/bitstampUSD.csv')"
   ]
  },
  {
   "cell_type": "code",
   "execution_count": null,
   "id": "metropolitan-amsterdam",
   "metadata": {
    "ExecuteTime": {
     "end_time": "2021-03-03T13:58:04.694250Z",
     "start_time": "2021-03-03T13:57:56.985923Z"
    }
   },
   "outputs": [],
   "source": [
    "data = pd.read_csv('../../raw_data/bitstampUSD.csv')"
   ]
  },
  {
   "cell_type": "code",
   "execution_count": null,
   "id": "nonprofit-integral",
   "metadata": {
    "ExecuteTime": {
     "end_time": "2021-03-03T13:58:04.759521Z",
     "start_time": "2021-03-03T13:58:04.732443Z"
    },
    "colab": {
     "base_uri": "https://localhost:8080/",
     "height": 195
    },
    "id": "nonprofit-integral",
    "outputId": "5ccb87c0-d93a-4acf-8179-39f7e09ce875"
   },
   "outputs": [],
   "source": [
    "data.head()"
   ]
  },
  {
   "cell_type": "code",
   "execution_count": null,
   "id": "honest-cliff",
   "metadata": {
    "ExecuteTime": {
     "end_time": "2021-03-03T13:58:05.175548Z",
     "start_time": "2021-03-03T13:58:04.790501Z"
    }
   },
   "outputs": [],
   "source": [
    "from BitcoinPrediction.preprocessing import preprocessing_data, features_target\n",
    "from BitcoinPrediction.utils import select_date"
   ]
  },
  {
   "cell_type": "code",
   "execution_count": null,
   "id": "demanding-stroke",
   "metadata": {
    "ExecuteTime": {
     "end_time": "2021-03-03T13:58:05.272979Z",
     "start_time": "2021-03-03T13:58:05.207048Z"
    }
   },
   "outputs": [],
   "source": [
    "data = data[2798176:4727776].copy()"
   ]
  },
  {
   "cell_type": "code",
   "execution_count": null,
   "id": "temporal-queensland",
   "metadata": {
    "ExecuteTime": {
     "end_time": "2021-03-03T13:58:06.203737Z",
     "start_time": "2021-03-03T13:58:06.117810Z"
    }
   },
   "outputs": [],
   "source": [
    "data = select_date(data, date_start=None, date_end=None)"
   ]
  },
  {
   "cell_type": "code",
   "execution_count": null,
   "id": "regulated-cornell",
   "metadata": {
    "ExecuteTime": {
     "end_time": "2021-03-03T13:58:07.516175Z",
     "start_time": "2021-03-03T13:58:07.487173Z"
    }
   },
   "outputs": [],
   "source": [
    "data"
   ]
  },
  {
   "cell_type": "code",
   "execution_count": 3,
   "id": "homeless-davis",
   "metadata": {
    "ExecuteTime": {
     "end_time": "2021-03-03T14:19:39.763151Z",
     "start_time": "2021-03-03T14:19:39.657427Z"
    }
   },
   "outputs": [],
   "source": [
    "mlflow_results = pd.read_csv('../../raw_data/runs.csv')"
   ]
  },
  {
   "cell_type": "code",
   "execution_count": 51,
   "id": "miniature-canyon",
   "metadata": {
    "ExecuteTime": {
     "end_time": "2021-03-03T15:51:24.951471Z",
     "start_time": "2021-03-03T15:51:24.833958Z"
    }
   },
   "outputs": [
    {
     "data": {
      "text/html": [
       "<div>\n",
       "<style scoped>\n",
       "    .dataframe tbody tr th:only-of-type {\n",
       "        vertical-align: middle;\n",
       "    }\n",
       "\n",
       "    .dataframe tbody tr th {\n",
       "        vertical-align: top;\n",
       "    }\n",
       "\n",
       "    .dataframe thead th {\n",
       "        text-align: right;\n",
       "    }\n",
       "</style>\n",
       "<table border=\"1\" class=\"dataframe\">\n",
       "  <thead>\n",
       "    <tr style=\"text-align: right;\">\n",
       "      <th></th>\n",
       "      <th>Run ID</th>\n",
       "      <th>Name</th>\n",
       "      <th>Source Type</th>\n",
       "      <th>Source Name</th>\n",
       "      <th>User</th>\n",
       "      <th>Status</th>\n",
       "      <th>a</th>\n",
       "      <th>b</th>\n",
       "      <th>buddy_name</th>\n",
       "      <th>date_end</th>\n",
       "      <th>...</th>\n",
       "      <th>coef_feature 94</th>\n",
       "      <th>coef_feature 95</th>\n",
       "      <th>coef_feature 96</th>\n",
       "      <th>coef_feature 97</th>\n",
       "      <th>coef_feature 98</th>\n",
       "      <th>coef_feature 99</th>\n",
       "      <th>mean_score</th>\n",
       "      <th>score_max</th>\n",
       "      <th>score_min</th>\n",
       "      <th>std</th>\n",
       "    </tr>\n",
       "  </thead>\n",
       "  <tbody>\n",
       "    <tr>\n",
       "      <th>0</th>\n",
       "      <td>77e348fac18549399d4716d43449e986</td>\n",
       "      <td>NaN</td>\n",
       "      <td>NaN</td>\n",
       "      <td>NaN</td>\n",
       "      <td>unknown</td>\n",
       "      <td>RUNNING</td>\n",
       "      <td>NaN</td>\n",
       "      <td>NaN</td>\n",
       "      <td>NaN</td>\n",
       "      <td>NaN</td>\n",
       "      <td>...</td>\n",
       "      <td>NaN</td>\n",
       "      <td>NaN</td>\n",
       "      <td>NaN</td>\n",
       "      <td>NaN</td>\n",
       "      <td>NaN</td>\n",
       "      <td>NaN</td>\n",
       "      <td>NaN</td>\n",
       "      <td>NaN</td>\n",
       "      <td>NaN</td>\n",
       "      <td>NaN</td>\n",
       "    </tr>\n",
       "    <tr>\n",
       "      <th>1</th>\n",
       "      <td>09e9fb659ee24c42b45b6d59e72c6561</td>\n",
       "      <td>NaN</td>\n",
       "      <td>NaN</td>\n",
       "      <td>NaN</td>\n",
       "      <td>unknown</td>\n",
       "      <td>RUNNING</td>\n",
       "      <td>NaN</td>\n",
       "      <td>NaN</td>\n",
       "      <td>{'Amelie'}</td>\n",
       "      <td>2020</td>\n",
       "      <td>...</td>\n",
       "      <td>NaN</td>\n",
       "      <td>NaN</td>\n",
       "      <td>NaN</td>\n",
       "      <td>NaN</td>\n",
       "      <td>NaN</td>\n",
       "      <td>NaN</td>\n",
       "      <td>0.53</td>\n",
       "      <td>0.81</td>\n",
       "      <td>0.44</td>\n",
       "      <td>0.04</td>\n",
       "    </tr>\n",
       "    <tr>\n",
       "      <th>2</th>\n",
       "      <td>43f8cc8432fe4e7c847bae14999cd56c</td>\n",
       "      <td>NaN</td>\n",
       "      <td>NaN</td>\n",
       "      <td>NaN</td>\n",
       "      <td>unknown</td>\n",
       "      <td>RUNNING</td>\n",
       "      <td>NaN</td>\n",
       "      <td>NaN</td>\n",
       "      <td>{'Nicolas'}</td>\n",
       "      <td>2020</td>\n",
       "      <td>...</td>\n",
       "      <td>NaN</td>\n",
       "      <td>NaN</td>\n",
       "      <td>NaN</td>\n",
       "      <td>NaN</td>\n",
       "      <td>NaN</td>\n",
       "      <td>NaN</td>\n",
       "      <td>0.53</td>\n",
       "      <td>0.55</td>\n",
       "      <td>0.51</td>\n",
       "      <td>0.01</td>\n",
       "    </tr>\n",
       "    <tr>\n",
       "      <th>3</th>\n",
       "      <td>cfdea7e137cf46dcbbc8ff0a7b8e789b</td>\n",
       "      <td>NaN</td>\n",
       "      <td>NaN</td>\n",
       "      <td>NaN</td>\n",
       "      <td>unknown</td>\n",
       "      <td>RUNNING</td>\n",
       "      <td>NaN</td>\n",
       "      <td>NaN</td>\n",
       "      <td>{'Nicolas'}</td>\n",
       "      <td>2020</td>\n",
       "      <td>...</td>\n",
       "      <td>NaN</td>\n",
       "      <td>NaN</td>\n",
       "      <td>NaN</td>\n",
       "      <td>NaN</td>\n",
       "      <td>NaN</td>\n",
       "      <td>NaN</td>\n",
       "      <td>0.53</td>\n",
       "      <td>0.55</td>\n",
       "      <td>0.50</td>\n",
       "      <td>0.01</td>\n",
       "    </tr>\n",
       "    <tr>\n",
       "      <th>4</th>\n",
       "      <td>5bf0502fb1114413bbf553babcf40fc2</td>\n",
       "      <td>NaN</td>\n",
       "      <td>NaN</td>\n",
       "      <td>NaN</td>\n",
       "      <td>unknown</td>\n",
       "      <td>RUNNING</td>\n",
       "      <td>NaN</td>\n",
       "      <td>NaN</td>\n",
       "      <td>{'Caroline'}</td>\n",
       "      <td>2020</td>\n",
       "      <td>...</td>\n",
       "      <td>-0.0004</td>\n",
       "      <td>0.0001</td>\n",
       "      <td>0.0002</td>\n",
       "      <td>-0.0002</td>\n",
       "      <td>0.0001</td>\n",
       "      <td>0.0</td>\n",
       "      <td>0.51</td>\n",
       "      <td>0.56</td>\n",
       "      <td>NaN</td>\n",
       "      <td>0.02</td>\n",
       "    </tr>\n",
       "    <tr>\n",
       "      <th>...</th>\n",
       "      <td>...</td>\n",
       "      <td>...</td>\n",
       "      <td>...</td>\n",
       "      <td>...</td>\n",
       "      <td>...</td>\n",
       "      <td>...</td>\n",
       "      <td>...</td>\n",
       "      <td>...</td>\n",
       "      <td>...</td>\n",
       "      <td>...</td>\n",
       "      <td>...</td>\n",
       "      <td>...</td>\n",
       "      <td>...</td>\n",
       "      <td>...</td>\n",
       "      <td>...</td>\n",
       "      <td>...</td>\n",
       "      <td>...</td>\n",
       "      <td>...</td>\n",
       "      <td>...</td>\n",
       "      <td>...</td>\n",
       "      <td>...</td>\n",
       "    </tr>\n",
       "    <tr>\n",
       "      <th>95</th>\n",
       "      <td>a2166898071f4f4488209e943e940b0e</td>\n",
       "      <td>NaN</td>\n",
       "      <td>NaN</td>\n",
       "      <td>NaN</td>\n",
       "      <td>unknown</td>\n",
       "      <td>RUNNING</td>\n",
       "      <td>NaN</td>\n",
       "      <td>NaN</td>\n",
       "      <td>NaN</td>\n",
       "      <td>2020-10-6</td>\n",
       "      <td>...</td>\n",
       "      <td>NaN</td>\n",
       "      <td>NaN</td>\n",
       "      <td>NaN</td>\n",
       "      <td>NaN</td>\n",
       "      <td>NaN</td>\n",
       "      <td>NaN</td>\n",
       "      <td>0.53</td>\n",
       "      <td>0.60</td>\n",
       "      <td>0.44</td>\n",
       "      <td>0.04</td>\n",
       "    </tr>\n",
       "    <tr>\n",
       "      <th>96</th>\n",
       "      <td>9cde955e6bb644d38d21992c66d2405a</td>\n",
       "      <td>NaN</td>\n",
       "      <td>NaN</td>\n",
       "      <td>NaN</td>\n",
       "      <td>unknown</td>\n",
       "      <td>RUNNING</td>\n",
       "      <td>NaN</td>\n",
       "      <td>NaN</td>\n",
       "      <td>NaN</td>\n",
       "      <td>2020-10-6</td>\n",
       "      <td>...</td>\n",
       "      <td>NaN</td>\n",
       "      <td>NaN</td>\n",
       "      <td>NaN</td>\n",
       "      <td>NaN</td>\n",
       "      <td>NaN</td>\n",
       "      <td>NaN</td>\n",
       "      <td>0.54</td>\n",
       "      <td>0.60</td>\n",
       "      <td>0.44</td>\n",
       "      <td>0.04</td>\n",
       "    </tr>\n",
       "    <tr>\n",
       "      <th>97</th>\n",
       "      <td>9818d31b4afb464fb8f6cbd1efb78b36</td>\n",
       "      <td>NaN</td>\n",
       "      <td>NaN</td>\n",
       "      <td>NaN</td>\n",
       "      <td>unknown</td>\n",
       "      <td>RUNNING</td>\n",
       "      <td>NaN</td>\n",
       "      <td>NaN</td>\n",
       "      <td>NaN</td>\n",
       "      <td>2020-10-6</td>\n",
       "      <td>...</td>\n",
       "      <td>NaN</td>\n",
       "      <td>NaN</td>\n",
       "      <td>NaN</td>\n",
       "      <td>NaN</td>\n",
       "      <td>NaN</td>\n",
       "      <td>NaN</td>\n",
       "      <td>0.53</td>\n",
       "      <td>0.65</td>\n",
       "      <td>0.42</td>\n",
       "      <td>0.05</td>\n",
       "    </tr>\n",
       "    <tr>\n",
       "      <th>98</th>\n",
       "      <td>11fbfc68dc804fe8bf2424f7a655e092</td>\n",
       "      <td>NaN</td>\n",
       "      <td>NaN</td>\n",
       "      <td>NaN</td>\n",
       "      <td>unknown</td>\n",
       "      <td>RUNNING</td>\n",
       "      <td>NaN</td>\n",
       "      <td>NaN</td>\n",
       "      <td>NaN</td>\n",
       "      <td>2020-10-6</td>\n",
       "      <td>...</td>\n",
       "      <td>NaN</td>\n",
       "      <td>NaN</td>\n",
       "      <td>NaN</td>\n",
       "      <td>NaN</td>\n",
       "      <td>NaN</td>\n",
       "      <td>NaN</td>\n",
       "      <td>0.54</td>\n",
       "      <td>0.63</td>\n",
       "      <td>0.48</td>\n",
       "      <td>0.04</td>\n",
       "    </tr>\n",
       "    <tr>\n",
       "      <th>99</th>\n",
       "      <td>bde23c686ec4467eb10fb4f33bf6d9c3</td>\n",
       "      <td>NaN</td>\n",
       "      <td>NaN</td>\n",
       "      <td>NaN</td>\n",
       "      <td>unknown</td>\n",
       "      <td>RUNNING</td>\n",
       "      <td>NaN</td>\n",
       "      <td>NaN</td>\n",
       "      <td>NaN</td>\n",
       "      <td>2020-10-6</td>\n",
       "      <td>...</td>\n",
       "      <td>NaN</td>\n",
       "      <td>NaN</td>\n",
       "      <td>NaN</td>\n",
       "      <td>NaN</td>\n",
       "      <td>NaN</td>\n",
       "      <td>NaN</td>\n",
       "      <td>0.52</td>\n",
       "      <td>0.57</td>\n",
       "      <td>0.46</td>\n",
       "      <td>0.03</td>\n",
       "    </tr>\n",
       "  </tbody>\n",
       "</table>\n",
       "<p>100 rows × 740 columns</p>\n",
       "</div>"
      ],
      "text/plain": [
       "                              Run ID  Name  Source Type  Source Name     User  \\\n",
       "0   77e348fac18549399d4716d43449e986   NaN          NaN          NaN  unknown   \n",
       "1   09e9fb659ee24c42b45b6d59e72c6561   NaN          NaN          NaN  unknown   \n",
       "2   43f8cc8432fe4e7c847bae14999cd56c   NaN          NaN          NaN  unknown   \n",
       "3   cfdea7e137cf46dcbbc8ff0a7b8e789b   NaN          NaN          NaN  unknown   \n",
       "4   5bf0502fb1114413bbf553babcf40fc2   NaN          NaN          NaN  unknown   \n",
       "..                               ...   ...          ...          ...      ...   \n",
       "95  a2166898071f4f4488209e943e940b0e   NaN          NaN          NaN  unknown   \n",
       "96  9cde955e6bb644d38d21992c66d2405a   NaN          NaN          NaN  unknown   \n",
       "97  9818d31b4afb464fb8f6cbd1efb78b36   NaN          NaN          NaN  unknown   \n",
       "98  11fbfc68dc804fe8bf2424f7a655e092   NaN          NaN          NaN  unknown   \n",
       "99  bde23c686ec4467eb10fb4f33bf6d9c3   NaN          NaN          NaN  unknown   \n",
       "\n",
       "     Status   a   b    buddy_name   date_end  ... coef_feature 94  \\\n",
       "0   RUNNING NaN NaN           NaN        NaN  ...             NaN   \n",
       "1   RUNNING NaN NaN    {'Amelie'}       2020  ...             NaN   \n",
       "2   RUNNING NaN NaN   {'Nicolas'}       2020  ...             NaN   \n",
       "3   RUNNING NaN NaN   {'Nicolas'}       2020  ...             NaN   \n",
       "4   RUNNING NaN NaN  {'Caroline'}       2020  ...         -0.0004   \n",
       "..      ...  ..  ..           ...        ...  ...             ...   \n",
       "95  RUNNING NaN NaN           NaN  2020-10-6  ...             NaN   \n",
       "96  RUNNING NaN NaN           NaN  2020-10-6  ...             NaN   \n",
       "97  RUNNING NaN NaN           NaN  2020-10-6  ...             NaN   \n",
       "98  RUNNING NaN NaN           NaN  2020-10-6  ...             NaN   \n",
       "99  RUNNING NaN NaN           NaN  2020-10-6  ...             NaN   \n",
       "\n",
       "    coef_feature 95  coef_feature 96 coef_feature 97  coef_feature 98  \\\n",
       "0               NaN              NaN             NaN              NaN   \n",
       "1               NaN              NaN             NaN              NaN   \n",
       "2               NaN              NaN             NaN              NaN   \n",
       "3               NaN              NaN             NaN              NaN   \n",
       "4            0.0001           0.0002         -0.0002           0.0001   \n",
       "..              ...              ...             ...              ...   \n",
       "95              NaN              NaN             NaN              NaN   \n",
       "96              NaN              NaN             NaN              NaN   \n",
       "97              NaN              NaN             NaN              NaN   \n",
       "98              NaN              NaN             NaN              NaN   \n",
       "99              NaN              NaN             NaN              NaN   \n",
       "\n",
       "    coef_feature 99  mean_score  score_max  score_min   std  \n",
       "0               NaN         NaN        NaN        NaN   NaN  \n",
       "1               NaN        0.53       0.81       0.44  0.04  \n",
       "2               NaN        0.53       0.55       0.51  0.01  \n",
       "3               NaN        0.53       0.55       0.50  0.01  \n",
       "4               0.0        0.51       0.56        NaN  0.02  \n",
       "..              ...         ...        ...        ...   ...  \n",
       "95              NaN        0.53       0.60       0.44  0.04  \n",
       "96              NaN        0.54       0.60       0.44  0.04  \n",
       "97              NaN        0.53       0.65       0.42  0.05  \n",
       "98              NaN        0.54       0.63       0.48  0.04  \n",
       "99              NaN        0.52       0.57       0.46  0.03  \n",
       "\n",
       "[100 rows x 740 columns]"
      ]
     },
     "execution_count": 51,
     "metadata": {},
     "output_type": "execute_result"
    }
   ],
   "source": [
    "mlflow_results"
   ]
  },
  {
   "cell_type": "code",
   "execution_count": 4,
   "id": "parallel-satellite",
   "metadata": {
    "ExecuteTime": {
     "end_time": "2021-03-03T14:19:40.689040Z",
     "start_time": "2021-03-03T14:19:40.671727Z"
    }
   },
   "outputs": [],
   "source": [
    "mes_resultats = mlflow_results[mlflow_results['buddy_name'] == \"{'Nicolas'}\"].copy()"
   ]
  },
  {
   "cell_type": "code",
   "execution_count": 5,
   "id": "hawaiian-technology",
   "metadata": {
    "ExecuteTime": {
     "end_time": "2021-03-03T14:19:42.325215Z",
     "start_time": "2021-03-03T14:19:42.308642Z"
    }
   },
   "outputs": [],
   "source": [
    "mes_resultats.drop(columns=['Run ID', 'Name', 'Source Type', 'Source Name', 'User', 'Status', 'a', 'b'], inplace=True)"
   ]
  },
  {
   "cell_type": "code",
   "execution_count": null,
   "id": "hollow-companion",
   "metadata": {
    "ExecuteTime": {
     "end_time": "2021-03-03T14:06:16.055411Z",
     "start_time": "2021-03-03T14:06:16.032009Z"
    }
   },
   "outputs": [],
   "source": [
    "mes_resultats.drop(columns=['coef_feature 94', 'coef_feature 95', 'coef_feature 96', 'coef_feature 97', 'coef_feature 98', 'coef_feature 99'], inplace=True)"
   ]
  },
  {
   "cell_type": "code",
   "execution_count": 6,
   "id": "familiar-spider",
   "metadata": {
    "ExecuteTime": {
     "end_time": "2021-03-03T14:22:34.755151Z",
     "start_time": "2021-03-03T14:22:34.321593Z"
    }
   },
   "outputs": [],
   "source": [
    "for i in range(60, 720):\n",
    "    mes_resultats.drop(columns=f'coef_feature {i}', inplace=True)"
   ]
  },
  {
   "cell_type": "code",
   "execution_count": null,
   "id": "superior-patient",
   "metadata": {
    "ExecuteTime": {
     "end_time": "2021-03-03T14:11:06.774155Z",
     "start_time": "2021-03-03T14:11:06.735679Z"
    }
   },
   "outputs": [],
   "source": [
    "mes_resultats[['sample_size', 'mean_score', 'score_max', 'score_min', 'std']]"
   ]
  },
  {
   "cell_type": "code",
   "execution_count": 11,
   "id": "silver-switch",
   "metadata": {
    "ExecuteTime": {
     "end_time": "2021-03-03T14:24:40.134347Z",
     "start_time": "2021-03-03T14:24:39.950206Z"
    }
   },
   "outputs": [
    {
     "data": {
      "image/png": "[encoded data removed]",
      "text/plain": [
       "<Figure size 432x288 with 1 Axes>"
      ]
     },
     "metadata": {
      "needs_background": "light"
     },
     "output_type": "display_data"
    }
   ],
   "source": [
    "plt.plot(mes_resultats['sample_size'], mes_resultats['std']);\n",
    "# plt.xscale('log');"
   ]
  },
  {
   "cell_type": "code",
   "execution_count": 17,
   "id": "compound-particular",
   "metadata": {
    "ExecuteTime": {
     "end_time": "2021-03-03T14:28:57.034622Z",
     "start_time": "2021-03-03T14:28:57.017442Z"
    }
   },
   "outputs": [],
   "source": [
    "mes_resultats.reset_index(drop=True, inplace=True)"
   ]
  },
  {
   "cell_type": "code",
   "execution_count": 21,
   "id": "innocent-manual",
   "metadata": {
    "ExecuteTime": {
     "end_time": "2021-03-03T14:31:24.933039Z",
     "start_time": "2021-03-03T14:31:24.880299Z"
    }
   },
   "outputs": [
    {
     "data": {
      "text/html": [
       "<div>\n",
       "<style scoped>\n",
       "    .dataframe tbody tr th:only-of-type {\n",
       "        vertical-align: middle;\n",
       "    }\n",
       "\n",
       "    .dataframe tbody tr th {\n",
       "        vertical-align: top;\n",
       "    }\n",
       "\n",
       "    .dataframe thead th {\n",
       "        text-align: right;\n",
       "    }\n",
       "</style>\n",
       "<table border=\"1\" class=\"dataframe\">\n",
       "  <thead>\n",
       "    <tr style=\"text-align: right;\">\n",
       "      <th></th>\n",
       "      <th>buddy_name</th>\n",
       "      <th>date_end</th>\n",
       "      <th>date_start</th>\n",
       "      <th>features_size</th>\n",
       "      <th>h</th>\n",
       "      <th>model_init</th>\n",
       "      <th>sample_size</th>\n",
       "      <th>train_fraction</th>\n",
       "      <th>coef_feature 0</th>\n",
       "      <th>coef_feature 1</th>\n",
       "      <th>...</th>\n",
       "      <th>coef_feature 58</th>\n",
       "      <th>coef_feature 59</th>\n",
       "      <th>coef_feature 6</th>\n",
       "      <th>coef_feature 7</th>\n",
       "      <th>coef_feature 8</th>\n",
       "      <th>coef_feature 9</th>\n",
       "      <th>mean_score</th>\n",
       "      <th>score_max</th>\n",
       "      <th>score_min</th>\n",
       "      <th>std</th>\n",
       "    </tr>\n",
       "  </thead>\n",
       "  <tbody>\n",
       "    <tr>\n",
       "      <th>0</th>\n",
       "      <td>{'Nicolas'}</td>\n",
       "      <td>2020</td>\n",
       "      <td>2020</td>\n",
       "      <td>60.0</td>\n",
       "      <td>10.0</td>\n",
       "      <td>RidgeClassifier(alpha=1.0, class_weight=None, ...</td>\n",
       "      <td>129600.0</td>\n",
       "      <td>0.7</td>\n",
       "      <td>-0.0055</td>\n",
       "      <td>0.0029</td>\n",
       "      <td>...</td>\n",
       "      <td>-0.0002</td>\n",
       "      <td>0.0007</td>\n",
       "      <td>0.0004</td>\n",
       "      <td>0.0000</td>\n",
       "      <td>0.0001</td>\n",
       "      <td>0.0002</td>\n",
       "      <td>0.53</td>\n",
       "      <td>0.55</td>\n",
       "      <td>0.51</td>\n",
       "      <td>0.01</td>\n",
       "    </tr>\n",
       "    <tr>\n",
       "      <th>1</th>\n",
       "      <td>{'Nicolas'}</td>\n",
       "      <td>2020</td>\n",
       "      <td>2020</td>\n",
       "      <td>60.0</td>\n",
       "      <td>10.0</td>\n",
       "      <td>RidgeClassifier(alpha=1.0, class_weight=None, ...</td>\n",
       "      <td>86400.0</td>\n",
       "      <td>0.7</td>\n",
       "      <td>-0.0056</td>\n",
       "      <td>0.0031</td>\n",
       "      <td>...</td>\n",
       "      <td>-0.0002</td>\n",
       "      <td>0.0006</td>\n",
       "      <td>0.0004</td>\n",
       "      <td>-0.0001</td>\n",
       "      <td>0.0001</td>\n",
       "      <td>0.0001</td>\n",
       "      <td>0.53</td>\n",
       "      <td>0.55</td>\n",
       "      <td>0.50</td>\n",
       "      <td>0.01</td>\n",
       "    </tr>\n",
       "    <tr>\n",
       "      <th>2</th>\n",
       "      <td>{'Nicolas'}</td>\n",
       "      <td>2020</td>\n",
       "      <td>2020</td>\n",
       "      <td>60.0</td>\n",
       "      <td>10.0</td>\n",
       "      <td>RidgeClassifier(alpha=1.0, class_weight=None, ...</td>\n",
       "      <td>43200.0</td>\n",
       "      <td>0.7</td>\n",
       "      <td>-0.0070</td>\n",
       "      <td>0.0038</td>\n",
       "      <td>...</td>\n",
       "      <td>-0.0002</td>\n",
       "      <td>0.0005</td>\n",
       "      <td>0.0004</td>\n",
       "      <td>0.0000</td>\n",
       "      <td>0.0001</td>\n",
       "      <td>0.0001</td>\n",
       "      <td>0.53</td>\n",
       "      <td>0.56</td>\n",
       "      <td>0.50</td>\n",
       "      <td>0.01</td>\n",
       "    </tr>\n",
       "    <tr>\n",
       "      <th>3</th>\n",
       "      <td>{'Nicolas'}</td>\n",
       "      <td>2020</td>\n",
       "      <td>2020</td>\n",
       "      <td>60.0</td>\n",
       "      <td>10.0</td>\n",
       "      <td>RidgeClassifier(alpha=1.0, class_weight=None, ...</td>\n",
       "      <td>21600.0</td>\n",
       "      <td>0.7</td>\n",
       "      <td>-0.0075</td>\n",
       "      <td>0.0041</td>\n",
       "      <td>...</td>\n",
       "      <td>-0.0002</td>\n",
       "      <td>0.0005</td>\n",
       "      <td>0.0004</td>\n",
       "      <td>0.0000</td>\n",
       "      <td>0.0002</td>\n",
       "      <td>0.0001</td>\n",
       "      <td>0.53</td>\n",
       "      <td>0.57</td>\n",
       "      <td>0.48</td>\n",
       "      <td>0.02</td>\n",
       "    </tr>\n",
       "    <tr>\n",
       "      <th>4</th>\n",
       "      <td>{'Nicolas'}</td>\n",
       "      <td>2020</td>\n",
       "      <td>2020</td>\n",
       "      <td>60.0</td>\n",
       "      <td>10.0</td>\n",
       "      <td>RidgeClassifier(alpha=1.0, class_weight=None, ...</td>\n",
       "      <td>14400.0</td>\n",
       "      <td>0.7</td>\n",
       "      <td>-0.0079</td>\n",
       "      <td>0.0043</td>\n",
       "      <td>...</td>\n",
       "      <td>-0.0002</td>\n",
       "      <td>0.0004</td>\n",
       "      <td>0.0005</td>\n",
       "      <td>-0.0001</td>\n",
       "      <td>0.0002</td>\n",
       "      <td>0.0001</td>\n",
       "      <td>0.53</td>\n",
       "      <td>0.58</td>\n",
       "      <td>0.46</td>\n",
       "      <td>0.02</td>\n",
       "    </tr>\n",
       "    <tr>\n",
       "      <th>5</th>\n",
       "      <td>{'Nicolas'}</td>\n",
       "      <td>2020</td>\n",
       "      <td>2020</td>\n",
       "      <td>60.0</td>\n",
       "      <td>10.0</td>\n",
       "      <td>RidgeClassifier(alpha=1.0, class_weight=None, ...</td>\n",
       "      <td>10080.0</td>\n",
       "      <td>0.7</td>\n",
       "      <td>-0.0083</td>\n",
       "      <td>0.0044</td>\n",
       "      <td>...</td>\n",
       "      <td>-0.0001</td>\n",
       "      <td>0.0004</td>\n",
       "      <td>0.0005</td>\n",
       "      <td>-0.0001</td>\n",
       "      <td>0.0002</td>\n",
       "      <td>0.0001</td>\n",
       "      <td>0.53</td>\n",
       "      <td>0.58</td>\n",
       "      <td>0.46</td>\n",
       "      <td>0.02</td>\n",
       "    </tr>\n",
       "    <tr>\n",
       "      <th>6</th>\n",
       "      <td>{'Nicolas'}</td>\n",
       "      <td>2020</td>\n",
       "      <td>2020</td>\n",
       "      <td>60.0</td>\n",
       "      <td>10.0</td>\n",
       "      <td>RidgeClassifier(alpha=1.0, class_weight=None, ...</td>\n",
       "      <td>1440.0</td>\n",
       "      <td>0.7</td>\n",
       "      <td>-0.0112</td>\n",
       "      <td>0.0048</td>\n",
       "      <td>...</td>\n",
       "      <td>0.0001</td>\n",
       "      <td>0.0001</td>\n",
       "      <td>0.0004</td>\n",
       "      <td>-0.0001</td>\n",
       "      <td>0.0002</td>\n",
       "      <td>0.0000</td>\n",
       "      <td>0.52</td>\n",
       "      <td>0.67</td>\n",
       "      <td>0.22</td>\n",
       "      <td>0.05</td>\n",
       "    </tr>\n",
       "  </tbody>\n",
       "</table>\n",
       "<p>7 rows × 72 columns</p>\n",
       "</div>"
      ],
      "text/plain": [
       "    buddy_name date_end date_start  features_size     h  \\\n",
       "0  {'Nicolas'}     2020       2020           60.0  10.0   \n",
       "1  {'Nicolas'}     2020       2020           60.0  10.0   \n",
       "2  {'Nicolas'}     2020       2020           60.0  10.0   \n",
       "3  {'Nicolas'}     2020       2020           60.0  10.0   \n",
       "4  {'Nicolas'}     2020       2020           60.0  10.0   \n",
       "5  {'Nicolas'}     2020       2020           60.0  10.0   \n",
       "6  {'Nicolas'}     2020       2020           60.0  10.0   \n",
       "\n",
       "                                          model_init  sample_size  \\\n",
       "0  RidgeClassifier(alpha=1.0, class_weight=None, ...     129600.0   \n",
       "1  RidgeClassifier(alpha=1.0, class_weight=None, ...      86400.0   \n",
       "2  RidgeClassifier(alpha=1.0, class_weight=None, ...      43200.0   \n",
       "3  RidgeClassifier(alpha=1.0, class_weight=None, ...      21600.0   \n",
       "4  RidgeClassifier(alpha=1.0, class_weight=None, ...      14400.0   \n",
       "5  RidgeClassifier(alpha=1.0, class_weight=None, ...      10080.0   \n",
       "6  RidgeClassifier(alpha=1.0, class_weight=None, ...       1440.0   \n",
       "\n",
       "   train_fraction  coef_feature 0  coef_feature 1  ...  coef_feature 58  \\\n",
       "0             0.7         -0.0055          0.0029  ...          -0.0002   \n",
       "1             0.7         -0.0056          0.0031  ...          -0.0002   \n",
       "2             0.7         -0.0070          0.0038  ...          -0.0002   \n",
       "3             0.7         -0.0075          0.0041  ...          -0.0002   \n",
       "4             0.7         -0.0079          0.0043  ...          -0.0002   \n",
       "5             0.7         -0.0083          0.0044  ...          -0.0001   \n",
       "6             0.7         -0.0112          0.0048  ...           0.0001   \n",
       "\n",
       "   coef_feature 59  coef_feature 6  coef_feature 7  coef_feature 8  \\\n",
       "0           0.0007          0.0004          0.0000          0.0001   \n",
       "1           0.0006          0.0004         -0.0001          0.0001   \n",
       "2           0.0005          0.0004          0.0000          0.0001   \n",
       "3           0.0005          0.0004          0.0000          0.0002   \n",
       "4           0.0004          0.0005         -0.0001          0.0002   \n",
       "5           0.0004          0.0005         -0.0001          0.0002   \n",
       "6           0.0001          0.0004         -0.0001          0.0002   \n",
       "\n",
       "   coef_feature 9  mean_score  score_max  score_min   std  \n",
       "0          0.0002        0.53       0.55       0.51  0.01  \n",
       "1          0.0001        0.53       0.55       0.50  0.01  \n",
       "2          0.0001        0.53       0.56       0.50  0.01  \n",
       "3          0.0001        0.53       0.57       0.48  0.02  \n",
       "4          0.0001        0.53       0.58       0.46  0.02  \n",
       "5          0.0001        0.53       0.58       0.46  0.02  \n",
       "6          0.0000        0.52       0.67       0.22  0.05  \n",
       "\n",
       "[7 rows x 72 columns]"
      ]
     },
     "execution_count": 21,
     "metadata": {},
     "output_type": "execute_result"
    }
   ],
   "source": [
    "mes_resultats"
   ]
  },
  {
   "cell_type": "code",
   "execution_count": 20,
   "id": "italian-conditioning",
   "metadata": {
    "ExecuteTime": {
     "end_time": "2021-03-03T14:29:23.945806Z",
     "start_time": "2021-03-03T14:29:23.911821Z"
    },
    "scrolled": true
   },
   "outputs": [
    {
     "name": "stdout",
     "output_type": "stream",
     "text": [
      "-0.0056\n",
      "0.0031\n",
      "0.0005\n",
      "0.0001\n",
      "0.0\n",
      "0.0004\n",
      "0.0004\n",
      "-0.0001\n",
      "0.0001\n",
      "0.0001\n",
      "-0.0001\n",
      "-0.0001\n",
      "-0.0001\n",
      "-0.0003\n",
      "0.0\n",
      "0.0\n",
      "-0.0001\n",
      "0.0001\n",
      "0.0\n",
      "-0.0002\n",
      "0.0002\n",
      "0.0001\n",
      "0.0001\n",
      "-0.0001\n",
      "0.0\n",
      "0.0001\n",
      "0.0002\n",
      "0.0002\n",
      "0.0\n",
      "0.0\n",
      "-0.0001\n",
      "-0.0001\n",
      "0.0003\n",
      "-0.0001\n",
      "0.0001\n",
      "0.0002\n",
      "0.0\n",
      "0.0001\n",
      "0.0\n",
      "0.0003\n",
      "-0.0001\n",
      "0.0\n",
      "-0.0002\n",
      "0.0001\n",
      "-0.0001\n",
      "0.0\n",
      "0.0001\n",
      "0.0\n",
      "-0.0001\n",
      "0.0002\n",
      "0.0001\n",
      "0.0001\n",
      "0.0\n",
      "-0.0001\n",
      "0.0002\n",
      "-0.0001\n",
      "-0.0003\n",
      "0.0\n",
      "-0.0002\n",
      "0.0006\n"
     ]
    }
   ],
   "source": [
    "for i in range(60):\n",
    "    print(mes_resultats[f'coef_feature {i}'][1])"
   ]
  },
  {
   "cell_type": "code",
   "execution_count": 22,
   "id": "empirical-nitrogen",
   "metadata": {
    "ExecuteTime": {
     "end_time": "2021-03-03T14:32:48.842744Z",
     "start_time": "2021-03-03T14:32:48.823348Z"
    }
   },
   "outputs": [],
   "source": [
    "test_heatmap = mes_resultats.drop(columns=['buddy_name', 'date_end', 'date_start', 'features_size', 'h', 'model_init', 'sample_size', 'train_fraction']).copy()"
   ]
  },
  {
   "cell_type": "code",
   "execution_count": 25,
   "id": "angry-stuff",
   "metadata": {
    "ExecuteTime": {
     "end_time": "2021-03-03T14:43:33.590697Z",
     "start_time": "2021-03-03T14:43:33.570545Z"
    }
   },
   "outputs": [],
   "source": [
    "test_heatmap.drop(columns=['mean_score', 'score_max', 'score_min', 'std'], inplace=True)"
   ]
  },
  {
   "cell_type": "code",
   "execution_count": 35,
   "id": "different-tattoo",
   "metadata": {
    "ExecuteTime": {
     "end_time": "2021-03-03T14:54:30.818928Z",
     "start_time": "2021-03-03T14:54:30.767134Z"
    }
   },
   "outputs": [
    {
     "data": {
      "text/html": [
       "<div>\n",
       "<style scoped>\n",
       "    .dataframe tbody tr th:only-of-type {\n",
       "        vertical-align: middle;\n",
       "    }\n",
       "\n",
       "    .dataframe tbody tr th {\n",
       "        vertical-align: top;\n",
       "    }\n",
       "\n",
       "    .dataframe thead th {\n",
       "        text-align: right;\n",
       "    }\n",
       "</style>\n",
       "<table border=\"1\" class=\"dataframe\">\n",
       "  <thead>\n",
       "    <tr style=\"text-align: right;\">\n",
       "      <th></th>\n",
       "      <th>coef_feature 0</th>\n",
       "      <th>coef_feature 1</th>\n",
       "      <th>coef_feature 10</th>\n",
       "      <th>coef_feature 11</th>\n",
       "      <th>coef_feature 12</th>\n",
       "      <th>coef_feature 13</th>\n",
       "      <th>coef_feature 14</th>\n",
       "      <th>coef_feature 15</th>\n",
       "      <th>coef_feature 16</th>\n",
       "      <th>coef_feature 17</th>\n",
       "      <th>...</th>\n",
       "      <th>coef_feature 54</th>\n",
       "      <th>coef_feature 55</th>\n",
       "      <th>coef_feature 56</th>\n",
       "      <th>coef_feature 57</th>\n",
       "      <th>coef_feature 58</th>\n",
       "      <th>coef_feature 59</th>\n",
       "      <th>coef_feature 6</th>\n",
       "      <th>coef_feature 7</th>\n",
       "      <th>coef_feature 8</th>\n",
       "      <th>coef_feature 9</th>\n",
       "    </tr>\n",
       "  </thead>\n",
       "  <tbody>\n",
       "    <tr>\n",
       "      <th>0</th>\n",
       "      <td>-0.0055</td>\n",
       "      <td>0.0029</td>\n",
       "      <td>0.0000</td>\n",
       "      <td>-0.0001</td>\n",
       "      <td>-0.0001</td>\n",
       "      <td>-0.0003</td>\n",
       "      <td>0.0000</td>\n",
       "      <td>-0.0001</td>\n",
       "      <td>-0.0001</td>\n",
       "      <td>0.0000</td>\n",
       "      <td>...</td>\n",
       "      <td>0.0001</td>\n",
       "      <td>-0.0001</td>\n",
       "      <td>-0.0003</td>\n",
       "      <td>0.0000</td>\n",
       "      <td>-0.0002</td>\n",
       "      <td>0.0007</td>\n",
       "      <td>0.0004</td>\n",
       "      <td>0.0000</td>\n",
       "      <td>0.0001</td>\n",
       "      <td>0.0002</td>\n",
       "    </tr>\n",
       "    <tr>\n",
       "      <th>1</th>\n",
       "      <td>-0.0056</td>\n",
       "      <td>0.0031</td>\n",
       "      <td>-0.0001</td>\n",
       "      <td>-0.0001</td>\n",
       "      <td>-0.0001</td>\n",
       "      <td>-0.0003</td>\n",
       "      <td>0.0000</td>\n",
       "      <td>0.0000</td>\n",
       "      <td>-0.0001</td>\n",
       "      <td>0.0001</td>\n",
       "      <td>...</td>\n",
       "      <td>0.0002</td>\n",
       "      <td>-0.0001</td>\n",
       "      <td>-0.0003</td>\n",
       "      <td>0.0000</td>\n",
       "      <td>-0.0002</td>\n",
       "      <td>0.0006</td>\n",
       "      <td>0.0004</td>\n",
       "      <td>-0.0001</td>\n",
       "      <td>0.0001</td>\n",
       "      <td>0.0001</td>\n",
       "    </tr>\n",
       "    <tr>\n",
       "      <th>2</th>\n",
       "      <td>-0.0070</td>\n",
       "      <td>0.0038</td>\n",
       "      <td>0.0001</td>\n",
       "      <td>-0.0001</td>\n",
       "      <td>-0.0001</td>\n",
       "      <td>-0.0004</td>\n",
       "      <td>0.0002</td>\n",
       "      <td>-0.0002</td>\n",
       "      <td>-0.0001</td>\n",
       "      <td>0.0001</td>\n",
       "      <td>...</td>\n",
       "      <td>0.0000</td>\n",
       "      <td>-0.0001</td>\n",
       "      <td>-0.0002</td>\n",
       "      <td>-0.0001</td>\n",
       "      <td>-0.0002</td>\n",
       "      <td>0.0005</td>\n",
       "      <td>0.0004</td>\n",
       "      <td>0.0000</td>\n",
       "      <td>0.0001</td>\n",
       "      <td>0.0001</td>\n",
       "    </tr>\n",
       "    <tr>\n",
       "      <th>3</th>\n",
       "      <td>-0.0075</td>\n",
       "      <td>0.0041</td>\n",
       "      <td>0.0000</td>\n",
       "      <td>-0.0001</td>\n",
       "      <td>-0.0001</td>\n",
       "      <td>-0.0004</td>\n",
       "      <td>0.0001</td>\n",
       "      <td>-0.0002</td>\n",
       "      <td>-0.0001</td>\n",
       "      <td>0.0001</td>\n",
       "      <td>...</td>\n",
       "      <td>0.0001</td>\n",
       "      <td>0.0000</td>\n",
       "      <td>-0.0003</td>\n",
       "      <td>0.0000</td>\n",
       "      <td>-0.0002</td>\n",
       "      <td>0.0005</td>\n",
       "      <td>0.0004</td>\n",
       "      <td>0.0000</td>\n",
       "      <td>0.0002</td>\n",
       "      <td>0.0001</td>\n",
       "    </tr>\n",
       "    <tr>\n",
       "      <th>4</th>\n",
       "      <td>-0.0079</td>\n",
       "      <td>0.0043</td>\n",
       "      <td>0.0001</td>\n",
       "      <td>-0.0002</td>\n",
       "      <td>-0.0001</td>\n",
       "      <td>-0.0003</td>\n",
       "      <td>0.0001</td>\n",
       "      <td>-0.0002</td>\n",
       "      <td>-0.0001</td>\n",
       "      <td>0.0001</td>\n",
       "      <td>...</td>\n",
       "      <td>0.0001</td>\n",
       "      <td>0.0000</td>\n",
       "      <td>-0.0003</td>\n",
       "      <td>0.0000</td>\n",
       "      <td>-0.0002</td>\n",
       "      <td>0.0004</td>\n",
       "      <td>0.0005</td>\n",
       "      <td>-0.0001</td>\n",
       "      <td>0.0002</td>\n",
       "      <td>0.0001</td>\n",
       "    </tr>\n",
       "    <tr>\n",
       "      <th>5</th>\n",
       "      <td>-0.0083</td>\n",
       "      <td>0.0044</td>\n",
       "      <td>0.0001</td>\n",
       "      <td>-0.0002</td>\n",
       "      <td>0.0000</td>\n",
       "      <td>-0.0004</td>\n",
       "      <td>0.0001</td>\n",
       "      <td>-0.0002</td>\n",
       "      <td>-0.0001</td>\n",
       "      <td>0.0002</td>\n",
       "      <td>...</td>\n",
       "      <td>0.0000</td>\n",
       "      <td>-0.0001</td>\n",
       "      <td>-0.0002</td>\n",
       "      <td>0.0000</td>\n",
       "      <td>-0.0001</td>\n",
       "      <td>0.0004</td>\n",
       "      <td>0.0005</td>\n",
       "      <td>-0.0001</td>\n",
       "      <td>0.0002</td>\n",
       "      <td>0.0001</td>\n",
       "    </tr>\n",
       "    <tr>\n",
       "      <th>6</th>\n",
       "      <td>-0.0112</td>\n",
       "      <td>0.0048</td>\n",
       "      <td>0.0000</td>\n",
       "      <td>-0.0003</td>\n",
       "      <td>-0.0002</td>\n",
       "      <td>-0.0005</td>\n",
       "      <td>0.0001</td>\n",
       "      <td>-0.0003</td>\n",
       "      <td>-0.0001</td>\n",
       "      <td>0.0002</td>\n",
       "      <td>...</td>\n",
       "      <td>0.0001</td>\n",
       "      <td>0.0000</td>\n",
       "      <td>-0.0002</td>\n",
       "      <td>0.0000</td>\n",
       "      <td>0.0001</td>\n",
       "      <td>0.0001</td>\n",
       "      <td>0.0004</td>\n",
       "      <td>-0.0001</td>\n",
       "      <td>0.0002</td>\n",
       "      <td>0.0000</td>\n",
       "    </tr>\n",
       "  </tbody>\n",
       "</table>\n",
       "<p>7 rows × 60 columns</p>\n",
       "</div>"
      ],
      "text/plain": [
       "   coef_feature 0  coef_feature 1  coef_feature 10  coef_feature 11  \\\n",
       "0         -0.0055          0.0029           0.0000          -0.0001   \n",
       "1         -0.0056          0.0031          -0.0001          -0.0001   \n",
       "2         -0.0070          0.0038           0.0001          -0.0001   \n",
       "3         -0.0075          0.0041           0.0000          -0.0001   \n",
       "4         -0.0079          0.0043           0.0001          -0.0002   \n",
       "5         -0.0083          0.0044           0.0001          -0.0002   \n",
       "6         -0.0112          0.0048           0.0000          -0.0003   \n",
       "\n",
       "   coef_feature 12  coef_feature 13  coef_feature 14  coef_feature 15  \\\n",
       "0          -0.0001          -0.0003           0.0000          -0.0001   \n",
       "1          -0.0001          -0.0003           0.0000           0.0000   \n",
       "2          -0.0001          -0.0004           0.0002          -0.0002   \n",
       "3          -0.0001          -0.0004           0.0001          -0.0002   \n",
       "4          -0.0001          -0.0003           0.0001          -0.0002   \n",
       "5           0.0000          -0.0004           0.0001          -0.0002   \n",
       "6          -0.0002          -0.0005           0.0001          -0.0003   \n",
       "\n",
       "   coef_feature 16  coef_feature 17  ...  coef_feature 54  coef_feature 55  \\\n",
       "0          -0.0001           0.0000  ...           0.0001          -0.0001   \n",
       "1          -0.0001           0.0001  ...           0.0002          -0.0001   \n",
       "2          -0.0001           0.0001  ...           0.0000          -0.0001   \n",
       "3          -0.0001           0.0001  ...           0.0001           0.0000   \n",
       "4          -0.0001           0.0001  ...           0.0001           0.0000   \n",
       "5          -0.0001           0.0002  ...           0.0000          -0.0001   \n",
       "6          -0.0001           0.0002  ...           0.0001           0.0000   \n",
       "\n",
       "   coef_feature 56  coef_feature 57  coef_feature 58  coef_feature 59  \\\n",
       "0          -0.0003           0.0000          -0.0002           0.0007   \n",
       "1          -0.0003           0.0000          -0.0002           0.0006   \n",
       "2          -0.0002          -0.0001          -0.0002           0.0005   \n",
       "3          -0.0003           0.0000          -0.0002           0.0005   \n",
       "4          -0.0003           0.0000          -0.0002           0.0004   \n",
       "5          -0.0002           0.0000          -0.0001           0.0004   \n",
       "6          -0.0002           0.0000           0.0001           0.0001   \n",
       "\n",
       "   coef_feature 6  coef_feature 7  coef_feature 8  coef_feature 9  \n",
       "0          0.0004          0.0000          0.0001          0.0002  \n",
       "1          0.0004         -0.0001          0.0001          0.0001  \n",
       "2          0.0004          0.0000          0.0001          0.0001  \n",
       "3          0.0004          0.0000          0.0002          0.0001  \n",
       "4          0.0005         -0.0001          0.0002          0.0001  \n",
       "5          0.0005         -0.0001          0.0002          0.0001  \n",
       "6          0.0004         -0.0001          0.0002          0.0000  \n",
       "\n",
       "[7 rows x 60 columns]"
      ]
     },
     "execution_count": 35,
     "metadata": {},
     "output_type": "execute_result"
    }
   ],
   "source": [
    "test_heatmap"
   ]
  },
  {
   "cell_type": "code",
   "execution_count": 36,
   "id": "solved-plaza",
   "metadata": {
    "ExecuteTime": {
     "end_time": "2021-03-03T14:54:40.794835Z",
     "start_time": "2021-03-03T14:54:40.778289Z"
    }
   },
   "outputs": [],
   "source": [
    "weights = []\n",
    "for i in range(60):\n",
    "    score = test_heatmap[f'coef_feature {i}'][0]\n",
    "    weights.append(score)"
   ]
  },
  {
   "cell_type": "code",
   "execution_count": 38,
   "id": "incorporated-subject",
   "metadata": {
    "ExecuteTime": {
     "end_time": "2021-03-03T14:55:09.839991Z",
     "start_time": "2021-03-03T14:55:09.688572Z"
    }
   },
   "outputs": [
    {
     "data": {
      "text/plain": [
       "[<matplotlib.lines.Line2D at 0x7fc88720af10>]"
      ]
     },
     "execution_count": 38,
     "metadata": {},
     "output_type": "execute_result"
    },
    {
     "data": {
      "image/png": "[encoded data removed]",
      "text/plain": [
       "<Figure size 432x288 with 1 Axes>"
      ]
     },
     "metadata": {
      "needs_background": "light"
     },
     "output_type": "display_data"
    }
   ],
   "source": [
    "plt.plot(weights)"
   ]
  },
  {
   "cell_type": "code",
   "execution_count": 39,
   "id": "compound-fusion",
   "metadata": {
    "ExecuteTime": {
     "end_time": "2021-03-03T14:56:53.912047Z",
     "start_time": "2021-03-03T14:56:53.894577Z"
    }
   },
   "outputs": [],
   "source": [
    "import seaborn as sns"
   ]
  },
  {
   "cell_type": "code",
   "execution_count": 45,
   "id": "comparative-taiwan",
   "metadata": {
    "ExecuteTime": {
     "end_time": "2021-03-03T14:58:09.384488Z",
     "start_time": "2021-03-03T14:58:09.367661Z"
    }
   },
   "outputs": [
    {
     "data": {
      "text/plain": [
       "(60, 1)"
      ]
     },
     "execution_count": 45,
     "metadata": {},
     "output_type": "execute_result"
    }
   ],
   "source": [
    "np.array(weights).reshape(60,1).shape"
   ]
  },
  {
   "cell_type": "code",
   "execution_count": 50,
   "id": "golden-printing",
   "metadata": {
    "ExecuteTime": {
     "end_time": "2021-03-03T15:25:29.568895Z",
     "start_time": "2021-03-03T15:25:26.255449Z"
    }
   },
   "outputs": [
    {
     "data": {
      "text/plain": [
       "<AxesSubplot:>"
      ]
     },
     "execution_count": 50,
     "metadata": {},
     "output_type": "execute_result"
    },
    {
     "data": {
      "image/png": "[encoded data removed]",
      "text/plain": [
       "<Figure size 1440x504 with 2 Axes>"
      ]
     },
     "metadata": {
      "needs_background": "light"
     },
     "output_type": "display_data"
    }
   ],
   "source": [
    "plt.figure(figsize=(20,7))\n",
    "sns.heatmap(np.array(weights[2:]).reshape(1,58))"
   ]
  }
 ],
 "metadata": {
  "colab": {
   "name": "Test.ipynb",
   "provenance": []
  },
  "kernelspec": {
   "display_name": "Python 3",
   "language": "python",
   "name": "python3"
  },
  "language_info": {
   "codemirror_mode": {
    "name": "ipython",
    "version": 3
   },
   "file_extension": ".py",
   "mimetype": "text/x-python",
   "name": "python",
   "nbconvert_exporter": "python",
   "pygments_lexer": "ipython3",
   "version": "3.8.6"
  },
  "toc": {
   "base_numbering": 1,
   "nav_menu": {},
   "number_sections": true,
   "sideBar": true,
   "skip_h1_title": false,
   "title_cell": "Table of Contents",
   "title_sidebar": "Contents",
   "toc_cell": false,
   "toc_position": {},
   "toc_section_display": true,
   "toc_window_display": false
  },
  "varInspector": {
   "cols": {
    "lenName": 16,
    "lenType": 16,
    "lenVar": 40
   },
   "kernels_config": {
    "python": {
     "delete_cmd_postfix": "",
     "delete_cmd_prefix": "del ",
     "library": "var_list.py",
     "varRefreshCmd": "print(var_dic_list())"
    },
    "r": {
     "delete_cmd_postfix": ") ",
     "delete_cmd_prefix": "rm(",
     "library": "var_list.r",
     "varRefreshCmd": "cat(var_dic_list()) "
    }
   },
   "types_to_exclude": [
    "module",
    "function",
    "builtin_function_or_method",
    "instance",
    "_Feature"
   ],
   "window_display": true
  }
 },
 "nbformat": 4,
 "nbformat_minor": 5
}
