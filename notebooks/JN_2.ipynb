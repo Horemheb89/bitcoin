{
 "cells": [
  {
   "cell_type": "code",
   "execution_count": 3,
   "id": "biological-allergy",
   "metadata": {},
   "outputs": [
    {
     "name": "stdout",
     "output_type": "stream",
     "text": [
      "The autoreload extension is already loaded. To reload it, use:\n",
      "  %reload_ext autoreload\n"
     ]
    }
   ],
   "source": [
    "%load_ext autoreload\n",
    "%autoreload 2"
   ]
  },
  {
   "cell_type": "code",
   "execution_count": 4,
   "id": "statutory-current",
   "metadata": {},
   "outputs": [],
   "source": [
    "from BitcoinPrediction.data import get_data, preprocessing_data\n",
    "from BitcoinPrediction.train_test_split import input_data\n",
    "from sklearn.linear_model import LogisticRegression\n",
    "from sklearn.pipeline import Pipeline"
   ]
  },
  {
   "cell_type": "code",
   "execution_count": 5,
   "id": "stretch-cabin",
   "metadata": {},
   "outputs": [
    {
     "data": {
      "text/html": [
       "<div>\n",
       "<style scoped>\n",
       "    .dataframe tbody tr th:only-of-type {\n",
       "        vertical-align: middle;\n",
       "    }\n",
       "\n",
       "    .dataframe tbody tr th {\n",
       "        vertical-align: top;\n",
       "    }\n",
       "\n",
       "    .dataframe thead th {\n",
       "        text-align: right;\n",
       "    }\n",
       "</style>\n",
       "<table border=\"1\" class=\"dataframe\">\n",
       "  <thead>\n",
       "    <tr style=\"text-align: right;\">\n",
       "      <th></th>\n",
       "      <th>Open</th>\n",
       "    </tr>\n",
       "    <tr>\n",
       "      <th>Timestamp</th>\n",
       "      <th></th>\n",
       "    </tr>\n",
       "  </thead>\n",
       "  <tbody>\n",
       "    <tr>\n",
       "      <th>2020-12-30 23:55:00</th>\n",
       "      <td>28809.07</td>\n",
       "    </tr>\n",
       "    <tr>\n",
       "      <th>2020-12-30 23:56:00</th>\n",
       "      <td>28801.47</td>\n",
       "    </tr>\n",
       "    <tr>\n",
       "      <th>2020-12-30 23:57:00</th>\n",
       "      <td>28829.42</td>\n",
       "    </tr>\n",
       "    <tr>\n",
       "      <th>2020-12-30 23:58:00</th>\n",
       "      <td>28850.49</td>\n",
       "    </tr>\n",
       "    <tr>\n",
       "      <th>2020-12-30 23:59:00</th>\n",
       "      <td>28910.54</td>\n",
       "    </tr>\n",
       "  </tbody>\n",
       "</table>\n",
       "</div>"
      ],
      "text/plain": [
       "                         Open\n",
       "Timestamp                    \n",
       "2020-12-30 23:55:00  28809.07\n",
       "2020-12-30 23:56:00  28801.47\n",
       "2020-12-30 23:57:00  28829.42\n",
       "2020-12-30 23:58:00  28850.49\n",
       "2020-12-30 23:59:00  28910.54"
      ]
     },
     "execution_count": 5,
     "metadata": {},
     "output_type": "execute_result"
    }
   ],
   "source": [
    "data = get_data()\n",
    "data.tail()"
   ]
  },
  {
   "cell_type": "code",
   "execution_count": 6,
   "id": "guided-boston",
   "metadata": {},
   "outputs": [
    {
     "name": "stderr",
     "output_type": "stream",
     "text": [
      "/home/anneconstance/.pyenv/versions/3.8.6/envs/lewagon/lib/python3.8/site-packages/pandas/core/series.py:963: SettingWithCopyWarning: \n",
      "A value is trying to be set on a copy of a slice from a DataFrame\n",
      "\n",
      "See the caveats in the documentation: https://pandas.pydata.org/pandas-docs/stable/user_guide/indexing.html#returning-a-view-versus-a-copy\n",
      "  self._where(~key, value, inplace=True)\n",
      "/home/anneconstance/.pyenv/versions/3.8.6/envs/lewagon/lib/python3.8/site-packages/pandas/core/series.py:963: SettingWithCopyWarning: \n",
      "A value is trying to be set on a copy of a slice from a DataFrame\n",
      "\n",
      "See the caveats in the documentation: https://pandas.pydata.org/pandas-docs/stable/user_guide/indexing.html#returning-a-view-versus-a-copy\n",
      "  self._where(~key, value, inplace=True)\n"
     ]
    }
   ],
   "source": [
    "X_train, X_test, y_train, y_test = input_data(data, 1000, 5, 700, h=2, w=0)"
   ]
  },
  {
   "cell_type": "code",
   "execution_count": 9,
   "id": "incredible-complement",
   "metadata": {},
   "outputs": [
    {
     "ename": "NameError",
     "evalue": "name 'data_shifted' is not defined",
     "output_type": "error",
     "traceback": [
      "\u001b[0;31m---------------------------------------------------------------------------\u001b[0m",
      "\u001b[0;31mNameError\u001b[0m                                 Traceback (most recent call last)",
      "\u001b[0;32m<ipython-input-9-044e6774bf58>\u001b[0m in \u001b[0;36m<module>\u001b[0;34m\u001b[0m\n\u001b[0;32m----> 1\u001b[0;31m \u001b[0mdata_shifted\u001b[0m\u001b[0;34m.\u001b[0m\u001b[0mtail\u001b[0m\u001b[0;34m(\u001b[0m\u001b[0;34m)\u001b[0m\u001b[0;34m\u001b[0m\u001b[0;34m\u001b[0m\u001b[0m\n\u001b[0m",
      "\u001b[0;31mNameError\u001b[0m: name 'data_shifted' is not defined"
     ]
    }
   ],
   "source": [
    "data_shifted.tail()"
   ]
  },
  {
   "cell_type": "code",
   "execution_count": 7,
   "id": "impossible-government",
   "metadata": {},
   "outputs": [
    {
     "data": {
      "text/plain": [
       "((700, 8), (294, 8), (700, 8), (294, 8))"
      ]
     },
     "execution_count": 7,
     "metadata": {},
     "output_type": "execute_result"
    }
   ],
   "source": [
    "X_train.shape, X_test.shape, y_train.shape, y_test.shape"
   ]
  },
  {
   "cell_type": "code",
   "execution_count": 8,
   "id": "ancient-youth",
   "metadata": {},
   "outputs": [
    {
     "data": {
      "text/html": [
       "<div>\n",
       "<style scoped>\n",
       "    .dataframe tbody tr th:only-of-type {\n",
       "        vertical-align: middle;\n",
       "    }\n",
       "\n",
       "    .dataframe tbody tr th {\n",
       "        vertical-align: top;\n",
       "    }\n",
       "\n",
       "    .dataframe thead th {\n",
       "        text-align: right;\n",
       "    }\n",
       "</style>\n",
       "<table border=\"1\" class=\"dataframe\">\n",
       "  <thead>\n",
       "    <tr style=\"text-align: right;\">\n",
       "      <th></th>\n",
       "      <th>Open</th>\n",
       "      <th>diff_Open</th>\n",
       "      <th>t+2</th>\n",
       "      <th>t-0</th>\n",
       "      <th>t-1</th>\n",
       "      <th>t-2</th>\n",
       "      <th>t-3</th>\n",
       "      <th>t-4</th>\n",
       "    </tr>\n",
       "    <tr>\n",
       "      <th>Timestamp</th>\n",
       "      <th></th>\n",
       "      <th></th>\n",
       "      <th></th>\n",
       "      <th></th>\n",
       "      <th></th>\n",
       "      <th></th>\n",
       "      <th></th>\n",
       "      <th></th>\n",
       "    </tr>\n",
       "  </thead>\n",
       "  <tbody>\n",
       "    <tr>\n",
       "      <th>2020-12-30 07:18:00</th>\n",
       "      <td>28373.01</td>\n",
       "      <td>43.51</td>\n",
       "      <td>0.0</td>\n",
       "      <td>28373.01</td>\n",
       "      <td>28380.52</td>\n",
       "      <td>28329.50</td>\n",
       "      <td>28411.70</td>\n",
       "      <td>28441.52</td>\n",
       "    </tr>\n",
       "    <tr>\n",
       "      <th>2020-12-30 07:19:00</th>\n",
       "      <td>28362.40</td>\n",
       "      <td>-18.12</td>\n",
       "      <td>0.0</td>\n",
       "      <td>28362.40</td>\n",
       "      <td>28373.01</td>\n",
       "      <td>28380.52</td>\n",
       "      <td>28329.50</td>\n",
       "      <td>28411.70</td>\n",
       "    </tr>\n",
       "    <tr>\n",
       "      <th>2020-12-30 07:20:00</th>\n",
       "      <td>28364.30</td>\n",
       "      <td>-8.71</td>\n",
       "      <td>0.0</td>\n",
       "      <td>28364.30</td>\n",
       "      <td>28362.40</td>\n",
       "      <td>28373.01</td>\n",
       "      <td>28380.52</td>\n",
       "      <td>28329.50</td>\n",
       "    </tr>\n",
       "    <tr>\n",
       "      <th>2020-12-30 07:21:00</th>\n",
       "      <td>28361.15</td>\n",
       "      <td>-1.25</td>\n",
       "      <td>0.0</td>\n",
       "      <td>28361.15</td>\n",
       "      <td>28364.30</td>\n",
       "      <td>28362.40</td>\n",
       "      <td>28373.01</td>\n",
       "      <td>28380.52</td>\n",
       "    </tr>\n",
       "    <tr>\n",
       "      <th>2020-12-30 07:22:00</th>\n",
       "      <td>28352.65</td>\n",
       "      <td>-11.65</td>\n",
       "      <td>1.0</td>\n",
       "      <td>28352.65</td>\n",
       "      <td>28361.15</td>\n",
       "      <td>28364.30</td>\n",
       "      <td>28362.40</td>\n",
       "      <td>28373.01</td>\n",
       "    </tr>\n",
       "    <tr>\n",
       "      <th>...</th>\n",
       "      <td>...</td>\n",
       "      <td>...</td>\n",
       "      <td>...</td>\n",
       "      <td>...</td>\n",
       "      <td>...</td>\n",
       "      <td>...</td>\n",
       "      <td>...</td>\n",
       "      <td>...</td>\n",
       "    </tr>\n",
       "    <tr>\n",
       "      <th>2020-12-30 18:53:00</th>\n",
       "      <td>28440.63</td>\n",
       "      <td>-67.89</td>\n",
       "      <td>1.0</td>\n",
       "      <td>28440.63</td>\n",
       "      <td>28494.35</td>\n",
       "      <td>28508.52</td>\n",
       "      <td>28512.01</td>\n",
       "      <td>28484.08</td>\n",
       "    </tr>\n",
       "    <tr>\n",
       "      <th>2020-12-30 18:54:00</th>\n",
       "      <td>28463.87</td>\n",
       "      <td>-30.48</td>\n",
       "      <td>1.0</td>\n",
       "      <td>28463.87</td>\n",
       "      <td>28440.63</td>\n",
       "      <td>28494.35</td>\n",
       "      <td>28508.52</td>\n",
       "      <td>28512.01</td>\n",
       "    </tr>\n",
       "    <tr>\n",
       "      <th>2020-12-30 18:55:00</th>\n",
       "      <td>28518.47</td>\n",
       "      <td>77.84</td>\n",
       "      <td>0.0</td>\n",
       "      <td>28518.47</td>\n",
       "      <td>28463.87</td>\n",
       "      <td>28440.63</td>\n",
       "      <td>28494.35</td>\n",
       "      <td>28508.52</td>\n",
       "    </tr>\n",
       "    <tr>\n",
       "      <th>2020-12-30 18:56:00</th>\n",
       "      <td>28511.13</td>\n",
       "      <td>47.26</td>\n",
       "      <td>0.0</td>\n",
       "      <td>28511.13</td>\n",
       "      <td>28518.47</td>\n",
       "      <td>28463.87</td>\n",
       "      <td>28440.63</td>\n",
       "      <td>28494.35</td>\n",
       "    </tr>\n",
       "    <tr>\n",
       "      <th>2020-12-30 18:57:00</th>\n",
       "      <td>28509.74</td>\n",
       "      <td>-8.73</td>\n",
       "      <td>0.0</td>\n",
       "      <td>28509.74</td>\n",
       "      <td>28511.13</td>\n",
       "      <td>28518.47</td>\n",
       "      <td>28463.87</td>\n",
       "      <td>28440.63</td>\n",
       "    </tr>\n",
       "  </tbody>\n",
       "</table>\n",
       "<p>700 rows × 8 columns</p>\n",
       "</div>"
      ],
      "text/plain": [
       "                         Open  diff_Open  t+2       t-0       t-1       t-2  \\\n",
       "Timestamp                                                                     \n",
       "2020-12-30 07:18:00  28373.01      43.51  0.0  28373.01  28380.52  28329.50   \n",
       "2020-12-30 07:19:00  28362.40     -18.12  0.0  28362.40  28373.01  28380.52   \n",
       "2020-12-30 07:20:00  28364.30      -8.71  0.0  28364.30  28362.40  28373.01   \n",
       "2020-12-30 07:21:00  28361.15      -1.25  0.0  28361.15  28364.30  28362.40   \n",
       "2020-12-30 07:22:00  28352.65     -11.65  1.0  28352.65  28361.15  28364.30   \n",
       "...                       ...        ...  ...       ...       ...       ...   \n",
       "2020-12-30 18:53:00  28440.63     -67.89  1.0  28440.63  28494.35  28508.52   \n",
       "2020-12-30 18:54:00  28463.87     -30.48  1.0  28463.87  28440.63  28494.35   \n",
       "2020-12-30 18:55:00  28518.47      77.84  0.0  28518.47  28463.87  28440.63   \n",
       "2020-12-30 18:56:00  28511.13      47.26  0.0  28511.13  28518.47  28463.87   \n",
       "2020-12-30 18:57:00  28509.74      -8.73  0.0  28509.74  28511.13  28518.47   \n",
       "\n",
       "                          t-3       t-4  \n",
       "Timestamp                                \n",
       "2020-12-30 07:18:00  28411.70  28441.52  \n",
       "2020-12-30 07:19:00  28329.50  28411.70  \n",
       "2020-12-30 07:20:00  28380.52  28329.50  \n",
       "2020-12-30 07:21:00  28373.01  28380.52  \n",
       "2020-12-30 07:22:00  28362.40  28373.01  \n",
       "...                       ...       ...  \n",
       "2020-12-30 18:53:00  28512.01  28484.08  \n",
       "2020-12-30 18:54:00  28508.52  28512.01  \n",
       "2020-12-30 18:55:00  28494.35  28508.52  \n",
       "2020-12-30 18:56:00  28440.63  28494.35  \n",
       "2020-12-30 18:57:00  28463.87  28440.63  \n",
       "\n",
       "[700 rows x 8 columns]"
      ]
     },
     "execution_count": 8,
     "metadata": {},
     "output_type": "execute_result"
    }
   ],
   "source": [
    "X_train"
   ]
  },
  {
   "cell_type": "code",
   "execution_count": null,
   "id": "certified-gossip",
   "metadata": {},
   "outputs": [],
   "source": [
    " X_test"
   ]
  },
  {
   "cell_type": "code",
   "execution_count": null,
   "id": "virgin-marina",
   "metadata": {},
   "outputs": [],
   "source": []
  },
  {
   "cell_type": "code",
   "execution_count": null,
   "id": "another-spanish",
   "metadata": {},
   "outputs": [],
   "source": [
    "    X, y, data_shifted = preprocessing_data(data, shift_size, h)\n",
    "    \n",
    "    data_size = data_shifted.shape[0]\n",
    "    sample_X = data_shifted.iloc[(data_size-sample_size-w):data_size-w]\n",
    "    sample_y = data_shifted.iloc[(data_size-sample_size-w):data_size-w]\n",
    "\n",
    "    X_train = sample_X.iloc[0:train_size]\n",
    "    y_train = sample_y.iloc[0:train_size] \n",
    "    \n",
    "    X_test = sample_X.iloc[(train_size+h-1):(sample_size-shift_size)]\n",
    "    y_test = sample_y.iloc[(train_size+h-1):(sample_size-shift_size)] "
   ]
  }
 ],
 "metadata": {
  "kernelspec": {
   "display_name": "Python 3",
   "language": "python",
   "name": "python3"
  },
  "language_info": {
   "codemirror_mode": {
    "name": "ipython",
    "version": 3
   },
   "file_extension": ".py",
   "mimetype": "text/x-python",
   "name": "python",
   "nbconvert_exporter": "python",
   "pygments_lexer": "ipython3",
   "version": "3.8.6"
  },
  "toc": {
   "base_numbering": 1,
   "nav_menu": {},
   "number_sections": true,
   "sideBar": true,
   "skip_h1_title": false,
   "title_cell": "Table of Contents",
   "title_sidebar": "Contents",
   "toc_cell": false,
   "toc_position": {},
   "toc_section_display": true,
   "toc_window_display": false
  },
  "varInspector": {
   "cols": {
    "lenName": 16,
    "lenType": 16,
    "lenVar": 40
   },
   "kernels_config": {
    "python": {
     "delete_cmd_postfix": "",
     "delete_cmd_prefix": "del ",
     "library": "var_list.py",
     "varRefreshCmd": "print(var_dic_list())"
    },
    "r": {
     "delete_cmd_postfix": ") ",
     "delete_cmd_prefix": "rm(",
     "library": "var_list.r",
     "varRefreshCmd": "cat(var_dic_list()) "
    }
   },
   "types_to_exclude": [
    "module",
    "function",
    "builtin_function_or_method",
    "instance",
    "_Feature"
   ],
   "window_display": false
  }
 },
 "nbformat": 4,
 "nbformat_minor": 5
}
