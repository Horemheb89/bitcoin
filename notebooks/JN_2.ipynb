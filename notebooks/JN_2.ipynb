{
 "cells": [
  {
   "cell_type": "code",
   "execution_count": 1,
   "id": "biological-allergy",
   "metadata": {},
   "outputs": [],
   "source": [
    "%load_ext autoreload\n",
    "%autoreload 2"
   ]
  },
  {
   "cell_type": "code",
   "execution_count": 8,
   "id": "statutory-current",
   "metadata": {},
   "outputs": [],
   "source": [
    "from BitcoinPrediction.data import get_data, clean_data\n",
    "from BitcoinPrediction.train_test_split import train_test_split\n",
    "from sklearn.linear_model import LogisticRegression\n",
    "from sklearn.pipeline import Pipeline"
   ]
  },
  {
   "cell_type": "code",
   "execution_count": null,
   "id": "stretch-cabin",
   "metadata": {},
   "outputs": [],
   "source": [
    "data = get_data()\n",
    "data = clean_data(data)\n",
    "data.shape"
   ]
  },
  {
   "cell_type": "code",
   "execution_count": null,
   "id": "three-plasma",
   "metadata": {},
   "outputs": [],
   "source": [
    "data.head()"
   ]
  },
  {
   "cell_type": "code",
   "execution_count": 7,
   "id": "removable-conflict",
   "metadata": {},
   "outputs": [
    {
     "data": {
      "text/html": [
       "<div>\n",
       "<style scoped>\n",
       "    .dataframe tbody tr th:only-of-type {\n",
       "        vertical-align: middle;\n",
       "    }\n",
       "\n",
       "    .dataframe tbody tr th {\n",
       "        vertical-align: top;\n",
       "    }\n",
       "\n",
       "    .dataframe thead th {\n",
       "        text-align: right;\n",
       "    }\n",
       "</style>\n",
       "<table border=\"1\" class=\"dataframe\">\n",
       "  <thead>\n",
       "    <tr style=\"text-align: right;\">\n",
       "      <th></th>\n",
       "      <th>Timestamp</th>\n",
       "      <th>Open</th>\n",
       "    </tr>\n",
       "  </thead>\n",
       "  <tbody>\n",
       "    <tr>\n",
       "      <th>2798176</th>\n",
       "      <td>2017-05-01 00:00:00</td>\n",
       "      <td>1348.88</td>\n",
       "    </tr>\n",
       "    <tr>\n",
       "      <th>2798177</th>\n",
       "      <td>2017-05-01 00:01:00</td>\n",
       "      <td>1352.41</td>\n",
       "    </tr>\n",
       "    <tr>\n",
       "      <th>2798178</th>\n",
       "      <td>2017-05-01 00:02:00</td>\n",
       "      <td>1349.49</td>\n",
       "    </tr>\n",
       "    <tr>\n",
       "      <th>2798179</th>\n",
       "      <td>2017-05-01 00:03:00</td>\n",
       "      <td>1350.11</td>\n",
       "    </tr>\n",
       "    <tr>\n",
       "      <th>2798180</th>\n",
       "      <td>2017-05-01 00:04:00</td>\n",
       "      <td>1351.25</td>\n",
       "    </tr>\n",
       "    <tr>\n",
       "      <th>...</th>\n",
       "      <td>...</td>\n",
       "      <td>...</td>\n",
       "    </tr>\n",
       "    <tr>\n",
       "      <th>4727771</th>\n",
       "      <td>2020-12-30 23:55:00</td>\n",
       "      <td>28809.07</td>\n",
       "    </tr>\n",
       "    <tr>\n",
       "      <th>4727772</th>\n",
       "      <td>2020-12-30 23:56:00</td>\n",
       "      <td>28801.47</td>\n",
       "    </tr>\n",
       "    <tr>\n",
       "      <th>4727773</th>\n",
       "      <td>2020-12-30 23:57:00</td>\n",
       "      <td>28829.42</td>\n",
       "    </tr>\n",
       "    <tr>\n",
       "      <th>4727774</th>\n",
       "      <td>2020-12-30 23:58:00</td>\n",
       "      <td>28850.49</td>\n",
       "    </tr>\n",
       "    <tr>\n",
       "      <th>4727775</th>\n",
       "      <td>2020-12-30 23:59:00</td>\n",
       "      <td>28910.54</td>\n",
       "    </tr>\n",
       "  </tbody>\n",
       "</table>\n",
       "<p>1929600 rows × 2 columns</p>\n",
       "</div>"
      ],
      "text/plain": [
       "                  Timestamp      Open\n",
       "2798176 2017-05-01 00:00:00   1348.88\n",
       "2798177 2017-05-01 00:01:00   1352.41\n",
       "2798178 2017-05-01 00:02:00   1349.49\n",
       "2798179 2017-05-01 00:03:00   1350.11\n",
       "2798180 2017-05-01 00:04:00   1351.25\n",
       "...                     ...       ...\n",
       "4727771 2020-12-30 23:55:00  28809.07\n",
       "4727772 2020-12-30 23:56:00  28801.47\n",
       "4727773 2020-12-30 23:57:00  28829.42\n",
       "4727774 2020-12-30 23:58:00  28850.49\n",
       "4727775 2020-12-30 23:59:00  28910.54\n",
       "\n",
       "[1929600 rows x 2 columns]"
      ]
     },
     "execution_count": 7,
     "metadata": {},
     "output_type": "execute_result"
    }
   ],
   "source": []
  },
  {
   "cell_type": "code",
   "execution_count": 6,
   "id": "continental-figure",
   "metadata": {},
   "outputs": [
    {
     "ename": "NameError",
     "evalue": "name 'X' is not defined",
     "output_type": "error",
     "traceback": [
      "\u001b[0;31m---------------------------------------------------------------------------\u001b[0m",
      "\u001b[0;31mNameError\u001b[0m                                 Traceback (most recent call last)",
      "\u001b[0;32m<ipython-input-6-462c3120ceb9>\u001b[0m in \u001b[0;36m<module>\u001b[0;34m\u001b[0m\n\u001b[0;32m----> 1\u001b[0;31m \u001b[0mX_train\u001b[0m\u001b[0;34m,\u001b[0m \u001b[0mX_test\u001b[0m\u001b[0;34m,\u001b[0m \u001b[0my_train\u001b[0m\u001b[0;34m,\u001b[0m \u001b[0my_test\u001b[0m \u001b[0;34m=\u001b[0m \u001b[0mtrain_test_split\u001b[0m\u001b[0;34m(\u001b[0m\u001b[0mX\u001b[0m\u001b[0;34m,\u001b[0m \u001b[0my\u001b[0m\u001b[0;34m)\u001b[0m\u001b[0;34m\u001b[0m\u001b[0;34m\u001b[0m\u001b[0m\n\u001b[0m",
      "\u001b[0;31mNameError\u001b[0m: name 'X' is not defined"
     ]
    }
   ],
   "source": [
    "X_train, X_test, y_train, y_test = train_test_split(X, y)"
   ]
  },
  {
   "cell_type": "code",
   "execution_count": null,
   "id": "polished-charge",
   "metadata": {},
   "outputs": [],
   "source": []
  }
 ],
 "metadata": {
  "kernelspec": {
   "display_name": "Python 3",
   "language": "python",
   "name": "python3"
  },
  "language_info": {
   "codemirror_mode": {
    "name": "ipython",
    "version": 3
   },
   "file_extension": ".py",
   "mimetype": "text/x-python",
   "name": "python",
   "nbconvert_exporter": "python",
   "pygments_lexer": "ipython3",
   "version": "3.8.6"
  },
  "toc": {
   "base_numbering": 1,
   "nav_menu": {},
   "number_sections": true,
   "sideBar": true,
   "skip_h1_title": false,
   "title_cell": "Table of Contents",
   "title_sidebar": "Contents",
   "toc_cell": false,
   "toc_position": {},
   "toc_section_display": true,
   "toc_window_display": false
  },
  "varInspector": {
   "cols": {
    "lenName": 16,
    "lenType": 16,
    "lenVar": 40
   },
   "kernels_config": {
    "python": {
     "delete_cmd_postfix": "",
     "delete_cmd_prefix": "del ",
     "library": "var_list.py",
     "varRefreshCmd": "print(var_dic_list())"
    },
    "r": {
     "delete_cmd_postfix": ") ",
     "delete_cmd_prefix": "rm(",
     "library": "var_list.r",
     "varRefreshCmd": "cat(var_dic_list()) "
    }
   },
   "types_to_exclude": [
    "module",
    "function",
    "builtin_function_or_method",
    "instance",
    "_Feature"
   ],
   "window_display": false
  }
 },
 "nbformat": 4,
 "nbformat_minor": 5
}
