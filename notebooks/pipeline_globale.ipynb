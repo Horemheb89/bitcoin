{
 "cells": [
  {
   "cell_type": "code",
   "execution_count": 1,
   "id": "technological-assurance",
   "metadata": {
    "ExecuteTime": {
     "end_time": "2021-03-02T11:34:44.339374Z",
     "start_time": "2021-03-02T11:34:44.294856Z"
    }
   },
   "outputs": [],
   "source": [
    "%load_ext autoreload\n",
    "%autoreload 2"
   ]
  },
  {
   "cell_type": "code",
   "execution_count": 2,
   "id": "automotive-counter",
   "metadata": {
    "ExecuteTime": {
     "end_time": "2021-03-02T11:34:49.906155Z",
     "start_time": "2021-03-02T11:34:44.405514Z"
    }
   },
   "outputs": [],
   "source": [
    "import pandas as pd\n",
    "from BitcoinPrediction.models import cross_val\n",
    "from BitcoinPrediction.data import get_data\n",
    "from sklearn.linear_model import RidgeClassifier"
   ]
  },
  {
   "cell_type": "code",
   "execution_count": 3,
   "id": "environmental-tradition",
   "metadata": {
    "ExecuteTime": {
     "end_time": "2021-03-02T11:35:35.213150Z",
     "start_time": "2021-03-02T11:34:49.999114Z"
    }
   },
   "outputs": [],
   "source": [
    "data = get_data()"
   ]
  },
  {
   "cell_type": "code",
   "execution_count": 5,
   "id": "brilliant-maldives",
   "metadata": {
    "ExecuteTime": {
     "end_time": "2021-03-02T11:37:15.477593Z",
     "start_time": "2021-03-02T11:37:13.169794Z"
    }
   },
   "outputs": [],
   "source": [
    "score = cross_val(data,\n",
    "          model_init=RidgeClassifier(),\n",
    "          sample_size=1000,\n",
    "          train_fraction=0.7,\n",
    "          features_size=60,\n",
    "          h=1,\n",
    "          date_start=\"2020-10-1\",\n",
    "          date_end=\"2020-10-6\")"
   ]
  },
  {
   "cell_type": "code",
   "execution_count": 6,
   "id": "residential-relaxation",
   "metadata": {
    "ExecuteTime": {
     "end_time": "2021-03-02T11:37:18.740839Z",
     "start_time": "2021-03-02T11:37:18.644356Z"
    }
   },
   "outputs": [
    {
     "data": {
      "text/plain": [
       "{'mean_score': 0.54,\n",
       " 'std': 0.04,\n",
       " 'score_min': 0.44,\n",
       " 'score_max': 0.6,\n",
       " 'n_fold': 26}"
      ]
     },
     "execution_count": 6,
     "metadata": {},
     "output_type": "execute_result"
    }
   ],
   "source": [
    "score"
   ]
  },
  {
   "cell_type": "code",
   "execution_count": 15,
   "id": "distant-rabbit",
   "metadata": {
    "ExecuteTime": {
     "end_time": "2021-03-02T10:16:41.408307Z",
     "start_time": "2021-03-02T10:16:41.372350Z"
    }
   },
   "outputs": [
    {
     "data": {
      "text/plain": [
       "(0.54, 0.04, 0.44, 0.6)"
      ]
     },
     "execution_count": 15,
     "metadata": {},
     "output_type": "execute_result"
    }
   ],
   "source": [
    "score['mean_score'], score['std'], score['score_min'], score['score_max']"
   ]
  },
  {
   "cell_type": "code",
   "execution_count": 17,
   "id": "nasty-vegetable",
   "metadata": {
    "ExecuteTime": {
     "end_time": "2021-03-02T10:21:15.847740Z",
     "start_time": "2021-03-02T10:19:06.265896Z"
    }
   },
   "outputs": [
    {
     "name": "stdout",
     "output_type": "stream",
     "text": [
      "\n",
      "experiment #1:\n",
      "{'model_init': RidgeClassifier(), 'sample_size': 1000, 'train_fraction': 0.5, 'features_size': 5, 'h': 1, 'date_start': '2020-10-1', 'date_end': '2020-10-6'}\n",
      "\n",
      "experiment #2:\n",
      "{'model_init': RidgeClassifier(), 'sample_size': 1000, 'train_fraction': 0.5, 'features_size': 5, 'h': 5, 'date_start': '2020-10-1', 'date_end': '2020-10-6'}\n",
      "\n",
      "experiment #3:\n",
      "{'model_init': RidgeClassifier(), 'sample_size': 1000, 'train_fraction': 0.5, 'features_size': 60, 'h': 1, 'date_start': '2020-10-1', 'date_end': '2020-10-6'}\n",
      "\n",
      "experiment #4:\n",
      "{'model_init': RidgeClassifier(), 'sample_size': 1000, 'train_fraction': 0.5, 'features_size': 60, 'h': 5, 'date_start': '2020-10-1', 'date_end': '2020-10-6'}\n",
      "\n",
      "experiment #5:\n",
      "{'model_init': RidgeClassifier(), 'sample_size': 1000, 'train_fraction': 0.7, 'features_size': 5, 'h': 1, 'date_start': '2020-10-1', 'date_end': '2020-10-6'}\n",
      "\n",
      "experiment #6:\n",
      "{'model_init': RidgeClassifier(), 'sample_size': 1000, 'train_fraction': 0.7, 'features_size': 5, 'h': 5, 'date_start': '2020-10-1', 'date_end': '2020-10-6'}\n",
      "\n",
      "experiment #7:\n",
      "{'model_init': RidgeClassifier(), 'sample_size': 1000, 'train_fraction': 0.7, 'features_size': 60, 'h': 1, 'date_start': '2020-10-1', 'date_end': '2020-10-6'}\n",
      "\n",
      "experiment #8:\n",
      "{'model_init': RidgeClassifier(), 'sample_size': 1000, 'train_fraction': 0.7, 'features_size': 60, 'h': 5, 'date_start': '2020-10-1', 'date_end': '2020-10-6'}\n",
      "\n",
      "experiment #9:\n",
      "{'model_init': RidgeClassifier(), 'sample_size': 2000, 'train_fraction': 0.5, 'features_size': 5, 'h': 1, 'date_start': '2020-10-1', 'date_end': '2020-10-6'}\n",
      "\n",
      "experiment #10:\n",
      "{'model_init': RidgeClassifier(), 'sample_size': 2000, 'train_fraction': 0.5, 'features_size': 5, 'h': 5, 'date_start': '2020-10-1', 'date_end': '2020-10-6'}\n",
      "\n",
      "experiment #11:\n",
      "{'model_init': RidgeClassifier(), 'sample_size': 2000, 'train_fraction': 0.5, 'features_size': 60, 'h': 1, 'date_start': '2020-10-1', 'date_end': '2020-10-6'}\n",
      "\n",
      "experiment #12:\n",
      "{'model_init': RidgeClassifier(), 'sample_size': 2000, 'train_fraction': 0.5, 'features_size': 60, 'h': 5, 'date_start': '2020-10-1', 'date_end': '2020-10-6'}\n",
      "\n",
      "experiment #13:\n",
      "{'model_init': RidgeClassifier(), 'sample_size': 2000, 'train_fraction': 0.7, 'features_size': 5, 'h': 1, 'date_start': '2020-10-1', 'date_end': '2020-10-6'}\n",
      "\n",
      "experiment #14:\n",
      "{'model_init': RidgeClassifier(), 'sample_size': 2000, 'train_fraction': 0.7, 'features_size': 5, 'h': 5, 'date_start': '2020-10-1', 'date_end': '2020-10-6'}\n",
      "\n",
      "experiment #15:\n",
      "{'model_init': RidgeClassifier(), 'sample_size': 2000, 'train_fraction': 0.7, 'features_size': 60, 'h': 1, 'date_start': '2020-10-1', 'date_end': '2020-10-6'}\n",
      "\n",
      "experiment #16:\n",
      "{'model_init': RidgeClassifier(), 'sample_size': 2000, 'train_fraction': 0.7, 'features_size': 60, 'h': 5, 'date_start': '2020-10-1', 'date_end': '2020-10-6'}\n",
      "\n",
      "experiment #17:\n",
      "{'model_init': RidgeClassifier(), 'sample_size': 3000, 'train_fraction': 0.5, 'features_size': 5, 'h': 1, 'date_start': '2020-10-1', 'date_end': '2020-10-6'}\n",
      "\n",
      "experiment #18:\n",
      "{'model_init': RidgeClassifier(), 'sample_size': 3000, 'train_fraction': 0.5, 'features_size': 5, 'h': 5, 'date_start': '2020-10-1', 'date_end': '2020-10-6'}\n",
      "\n",
      "experiment #19:\n",
      "{'model_init': RidgeClassifier(), 'sample_size': 3000, 'train_fraction': 0.5, 'features_size': 60, 'h': 1, 'date_start': '2020-10-1', 'date_end': '2020-10-6'}\n",
      "\n",
      "experiment #20:\n",
      "{'model_init': RidgeClassifier(), 'sample_size': 3000, 'train_fraction': 0.5, 'features_size': 60, 'h': 5, 'date_start': '2020-10-1', 'date_end': '2020-10-6'}\n",
      "\n",
      "experiment #21:\n",
      "{'model_init': RidgeClassifier(), 'sample_size': 3000, 'train_fraction': 0.7, 'features_size': 5, 'h': 1, 'date_start': '2020-10-1', 'date_end': '2020-10-6'}\n",
      "\n",
      "experiment #22:\n",
      "{'model_init': RidgeClassifier(), 'sample_size': 3000, 'train_fraction': 0.7, 'features_size': 5, 'h': 5, 'date_start': '2020-10-1', 'date_end': '2020-10-6'}\n",
      "\n",
      "experiment #23:\n",
      "{'model_init': RidgeClassifier(), 'sample_size': 3000, 'train_fraction': 0.7, 'features_size': 60, 'h': 1, 'date_start': '2020-10-1', 'date_end': '2020-10-6'}\n",
      "\n",
      "experiment #24:\n",
      "{'model_init': RidgeClassifier(), 'sample_size': 3000, 'train_fraction': 0.7, 'features_size': 60, 'h': 5, 'date_start': '2020-10-1', 'date_end': '2020-10-6'}\n"
     ]
    }
   ],
   "source": [
    "from BitcoinPrediction.trainer import Trainer\n",
    "\n",
    "trainer_params = dict(\n",
    "    model_init=[RidgeClassifier()],\n",
    "    sample_size=[1_000, 2000, 3000],\n",
    "    train_fraction=[0.5, 0.7],\n",
    "    features_size=[5, 60],\n",
    "    h=[1, 5],\n",
    "    date_start=[\"2020-10-1\"],\n",
    "    date_end=[\"2020-10-6\"],\n",
    ")\n",
    "\n",
    "trainer = Trainer()\n",
    "models = trainer.train(trainer_params)\n",
    "models"
   ]
  },
  {
   "cell_type": "code",
   "execution_count": null,
   "id": "innovative-honduras",
   "metadata": {},
   "outputs": [],
   "source": []
  },
  {
   "cell_type": "code",
   "execution_count": null,
   "id": "tired-canadian",
   "metadata": {},
   "outputs": [],
   "source": []
  },
  {
   "cell_type": "code",
   "execution_count": null,
   "id": "front-spirit",
   "metadata": {},
   "outputs": [],
   "source": []
  }
 ],
 "metadata": {
  "kernelspec": {
   "display_name": "Python 3",
   "language": "python",
   "name": "python3"
  },
  "language_info": {
   "codemirror_mode": {
    "name": "ipython",
    "version": 3
   },
   "file_extension": ".py",
   "mimetype": "text/x-python",
   "name": "python",
   "nbconvert_exporter": "python",
   "pygments_lexer": "ipython3",
   "version": "3.8.6"
  },
  "toc": {
   "base_numbering": 1,
   "nav_menu": {},
   "number_sections": true,
   "sideBar": true,
   "skip_h1_title": false,
   "title_cell": "Table of Contents",
   "title_sidebar": "Contents",
   "toc_cell": false,
   "toc_position": {},
   "toc_section_display": true,
   "toc_window_display": false
  },
  "varInspector": {
   "cols": {
    "lenName": 16,
    "lenType": 16,
    "lenVar": 40
   },
   "kernels_config": {
    "python": {
     "delete_cmd_postfix": "",
     "delete_cmd_prefix": "del ",
     "library": "var_list.py",
     "varRefreshCmd": "print(var_dic_list())"
    },
    "r": {
     "delete_cmd_postfix": ") ",
     "delete_cmd_prefix": "rm(",
     "library": "var_list.r",
     "varRefreshCmd": "cat(var_dic_list()) "
    }
   },
   "position": {
    "height": "144.4px",
    "left": "1173px",
    "right": "20px",
    "top": "87px",
    "width": "350px"
   },
   "types_to_exclude": [
    "module",
    "function",
    "builtin_function_or_method",
    "instance",
    "_Feature"
   ],
   "window_display": true
  }
 },
 "nbformat": 4,
 "nbformat_minor": 5
}
