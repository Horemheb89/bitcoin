{
 "cells": [
  {
   "cell_type": "code",
   "execution_count": 48,
   "id": "technological-assurance",
   "metadata": {
    "ExecuteTime": {
     "end_time": "2021-03-02T11:34:44.339374Z",
     "start_time": "2021-03-02T11:34:44.294856Z"
    }
   },
   "outputs": [
    {
     "name": "stdout",
     "output_type": "stream",
     "text": [
      "The autoreload extension is already loaded. To reload it, use:\n",
      "  %reload_ext autoreload\n"
     ]
    }
   ],
   "source": [
    "%load_ext autoreload\n",
    "%autoreload 2"
   ]
  },
  {
   "cell_type": "code",
   "execution_count": 58,
   "id": "automotive-counter",
   "metadata": {
    "ExecuteTime": {
     "end_time": "2021-03-02T11:34:49.906155Z",
     "start_time": "2021-03-02T11:34:44.405514Z"
    }
   },
   "outputs": [],
   "source": [
    "import pandas as pd\n",
    "from BitcoinPrediction.models import cross_val\n",
    "from BitcoinPrediction.data import get_data\n",
    "from sklearn.linear_model import RidgeClassifier\n",
    "from sklearn.svm import SVC"
   ]
  },
  {
   "cell_type": "code",
   "execution_count": 51,
   "id": "environmental-tradition",
   "metadata": {
    "ExecuteTime": {
     "end_time": "2021-03-02T11:35:35.213150Z",
     "start_time": "2021-03-02T11:34:49.999114Z"
    }
   },
   "outputs": [],
   "source": [
    "data = get_data()"
   ]
  },
  {
   "cell_type": "code",
   "execution_count": 52,
   "id": "brilliant-maldives",
   "metadata": {
    "ExecuteTime": {
     "end_time": "2021-03-02T11:37:15.477593Z",
     "start_time": "2021-03-02T11:37:13.169794Z"
    }
   },
   "outputs": [],
   "source": [
    "results, parameters = cross_val(data,\n",
    "          model_init=RidgeClassifier(),\n",
    "          sample_size=1440,\n",
    "          train_fraction=0.7,\n",
    "          features_size=60,\n",
    "          h=10,\n",
    "          date_start=\"2020\",\n",
    "          date_end=\"2020\")"
   ]
  },
  {
   "cell_type": "code",
   "execution_count": 53,
   "id": "residential-relaxation",
   "metadata": {
    "ExecuteTime": {
     "end_time": "2021-03-02T11:37:18.740839Z",
     "start_time": "2021-03-02T11:37:18.644356Z"
    }
   },
   "outputs": [
    {
     "data": {
      "text/plain": [
       "{'mean_score': 0.52,\n",
       " 'std': 0.05,\n",
       " 'score_min': 0.23,\n",
       " 'score_max': 0.67,\n",
       " 'n_fold': 1211}"
      ]
     },
     "execution_count": 53,
     "metadata": {},
     "output_type": "execute_result"
    }
   ],
   "source": [
    "results"
   ]
  },
  {
   "cell_type": "code",
   "execution_count": 55,
   "id": "thick-tunisia",
   "metadata": {},
   "outputs": [
    {
     "data": {
      "text/plain": [
       "array([[-0.0112,  0.0048,  0.0014,  0.    ,  0.0002,  0.0005,  0.0004,\n",
       "        -0.0001,  0.0002,  0.    ,  0.    , -0.0004, -0.0002, -0.0004,\n",
       "         0.0001, -0.0003, -0.0001,  0.0002, -0.    , -0.0002,  0.0002,\n",
       "         0.0002,  0.0002,  0.    ,  0.0001,  0.    ,  0.0002,  0.0001,\n",
       "         0.0002, -0.0001, -0.0001, -0.0001,  0.0002, -0.    ,  0.    ,\n",
       "         0.0004,  0.    ,  0.0001,  0.0001,  0.0003, -0.0001,  0.0002,\n",
       "        -0.0001,  0.    ,  0.0001,  0.    ,  0.0002, -0.    , -0.0001,\n",
       "         0.0001,  0.0003, -0.    ,  0.0001, -0.0003,  0.0001, -0.    ,\n",
       "        -0.0003,  0.0001,  0.0001,  0.0001]])"
      ]
     },
     "execution_count": 55,
     "metadata": {},
     "output_type": "execute_result"
    }
   ],
   "source": [
    "parameters"
   ]
  },
  {
   "cell_type": "code",
   "execution_count": null,
   "id": "nasty-vegetable",
   "metadata": {
    "ExecuteTime": {
     "end_time": "2021-03-02T10:21:15.847740Z",
     "start_time": "2021-03-02T10:19:06.265896Z"
    }
   },
   "outputs": [
    {
     "name": "stdout",
     "output_type": "stream",
     "text": [
      "\n",
      "experiment #1:\n",
      "{'model_init': SVC(C=1.0, break_ties=False, cache_size=200, class_weight=None, coef0=0.0,\n",
      "    decision_function_shape='ovr', degree=3, gamma='scale', kernel='linear',\n",
      "    max_iter=-1, probability=False, random_state=None, shrinking=True,\n",
      "    tol=0.001, verbose=False), 'sample_size': 1440, 'train_fraction': 0.7, 'features_size': 60, 'h': 10, 'date_start': '2020', 'date_end': '2020'}\n"
     ]
    }
   ],
   "source": [
    "from BitcoinPrediction.trainer import Trainer\n",
    "\n",
    "trainer_params = dict(\n",
    "    model_init=[SVC(kernel='linear')],\n",
    "    sample_size=[1440, 10080, 14400, 21600, 43200, 86400, 129600],\n",
    "    train_fraction=[0.7],\n",
    "    features_size=[60],\n",
    "    h=[10],\n",
    "    date_start=[\"2020\"],\n",
    "    date_end=[\"2020\"],\n",
    ")\n",
    "\n",
    "trainer = Trainer()\n",
    "models = trainer.train(trainer_params)\n",
    "models"
   ]
  },
  {
   "cell_type": "code",
   "execution_count": null,
   "id": "blocked-accused",
   "metadata": {},
   "outputs": [],
   "source": []
  }
 ],
 "metadata": {
  "kernelspec": {
   "display_name": "Python 3",
   "language": "python",
   "name": "python3"
  },
  "language_info": {
   "codemirror_mode": {
    "name": "ipython",
    "version": 3
   },
   "file_extension": ".py",
   "mimetype": "text/x-python",
   "name": "python",
   "nbconvert_exporter": "python",
   "pygments_lexer": "ipython3",
   "version": "3.8.6"
  },
  "toc": {
   "base_numbering": 1,
   "nav_menu": {},
   "number_sections": true,
   "sideBar": true,
   "skip_h1_title": false,
   "title_cell": "Table of Contents",
   "title_sidebar": "Contents",
   "toc_cell": false,
   "toc_position": {},
   "toc_section_display": true,
   "toc_window_display": false
  },
  "varInspector": {
   "cols": {
    "lenName": 16,
    "lenType": 16,
    "lenVar": 40
   },
   "kernels_config": {
    "python": {
     "delete_cmd_postfix": "",
     "delete_cmd_prefix": "del ",
     "library": "var_list.py",
     "varRefreshCmd": "print(var_dic_list())"
    },
    "r": {
     "delete_cmd_postfix": ") ",
     "delete_cmd_prefix": "rm(",
     "library": "var_list.r",
     "varRefreshCmd": "cat(var_dic_list()) "
    }
   },
   "position": {
    "height": "144.4px",
    "left": "1173px",
    "right": "20px",
    "top": "87px",
    "width": "350px"
   },
   "types_to_exclude": [
    "module",
    "function",
    "builtin_function_or_method",
    "instance",
    "_Feature"
   ],
   "window_display": true
  }
 },
 "nbformat": 4,
 "nbformat_minor": 5
}
