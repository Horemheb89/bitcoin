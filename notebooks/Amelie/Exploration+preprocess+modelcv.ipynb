{
 "cells": [
  {
   "cell_type": "markdown",
   "id": "amateur-metallic",
   "metadata": {},
   "source": [
    "# Import libraries "
   ]
  },
  {
   "cell_type": "code",
   "execution_count": 10,
   "id": "molecular-strip",
   "metadata": {},
   "outputs": [],
   "source": [
    "import pandas as pd\n",
    "import numpy as np\n",
    "import seaborn as sns"
   ]
  },
  {
   "cell_type": "code",
   "execution_count": 11,
   "id": "proud-frame",
   "metadata": {},
   "outputs": [],
   "source": [
    "import matplotlib.pyplot as plt\n",
    "import seaborn as sns\n",
    "import pandas as pd\n",
    "import numpy as np\n",
    "from sklearn.model_selection import train_test_split\n",
    "from sklearn.metrics import r2_score, accuracy_score\n",
    "from sklearn.preprocessing import LabelBinarizer\n",
    "from sklearn.linear_model import LogisticRegression, RidgeClassifier\n",
    "from sklearn.model_selection import cross_val_score, cross_validate\n",
    "from sklearn.ensemble import RandomForestClassifier\n",
    "import statistics as stats"
   ]
  },
  {
   "cell_type": "code",
   "execution_count": 12,
   "id": "challenging-flavor",
   "metadata": {},
   "outputs": [],
   "source": [
    "import math"
   ]
  },
  {
   "cell_type": "markdown",
   "id": "micro-insurance",
   "metadata": {},
   "source": [
    "# Import data"
   ]
  },
  {
   "cell_type": "code",
   "execution_count": null,
   "id": "unsigned-headquarters",
   "metadata": {},
   "outputs": [],
   "source": [
    "data = pd.read_csv('../../raw_data/bitstampUSD.csv')"
   ]
  },
  {
   "cell_type": "code",
   "execution_count": 163,
   "id": "automatic-hardwood",
   "metadata": {},
   "outputs": [
    {
     "data": {
      "text/html": [
       "<div>\n",
       "<style scoped>\n",
       "    .dataframe tbody tr th:only-of-type {\n",
       "        vertical-align: middle;\n",
       "    }\n",
       "\n",
       "    .dataframe tbody tr th {\n",
       "        vertical-align: top;\n",
       "    }\n",
       "\n",
       "    .dataframe thead th {\n",
       "        text-align: right;\n",
       "    }\n",
       "</style>\n",
       "<table border=\"1\" class=\"dataframe\">\n",
       "  <thead>\n",
       "    <tr style=\"text-align: right;\">\n",
       "      <th></th>\n",
       "      <th>Timestamp</th>\n",
       "      <th>Open</th>\n",
       "      <th>High</th>\n",
       "      <th>Low</th>\n",
       "      <th>Close</th>\n",
       "      <th>Volume_(BTC)</th>\n",
       "      <th>Volume_(Currency)</th>\n",
       "      <th>Weighted_Price</th>\n",
       "    </tr>\n",
       "  </thead>\n",
       "  <tbody>\n",
       "    <tr>\n",
       "      <th>2798176</th>\n",
       "      <td>2017-05-01 00:00:00</td>\n",
       "      <td>1348.88</td>\n",
       "      <td>1354.80</td>\n",
       "      <td>1348.88</td>\n",
       "      <td>1354.80</td>\n",
       "      <td>3.087374</td>\n",
       "      <td>4173.722673</td>\n",
       "      <td>1351.868203</td>\n",
       "    </tr>\n",
       "    <tr>\n",
       "      <th>2798177</th>\n",
       "      <td>2017-05-01 00:01:00</td>\n",
       "      <td>1352.41</td>\n",
       "      <td>1352.41</td>\n",
       "      <td>1352.41</td>\n",
       "      <td>1352.41</td>\n",
       "      <td>0.261954</td>\n",
       "      <td>354.269412</td>\n",
       "      <td>1352.410000</td>\n",
       "    </tr>\n",
       "    <tr>\n",
       "      <th>2798178</th>\n",
       "      <td>2017-05-01 00:02:00</td>\n",
       "      <td>1349.49</td>\n",
       "      <td>1354.86</td>\n",
       "      <td>1349.49</td>\n",
       "      <td>1354.86</td>\n",
       "      <td>0.096311</td>\n",
       "      <td>130.384815</td>\n",
       "      <td>1353.783259</td>\n",
       "    </tr>\n",
       "    <tr>\n",
       "      <th>2798179</th>\n",
       "      <td>2017-05-01 00:03:00</td>\n",
       "      <td>1350.11</td>\n",
       "      <td>1351.25</td>\n",
       "      <td>1350.11</td>\n",
       "      <td>1351.25</td>\n",
       "      <td>0.260284</td>\n",
       "      <td>351.553973</td>\n",
       "      <td>1350.655803</td>\n",
       "    </tr>\n",
       "    <tr>\n",
       "      <th>2798180</th>\n",
       "      <td>2017-05-01 00:04:00</td>\n",
       "      <td>1351.25</td>\n",
       "      <td>1351.25</td>\n",
       "      <td>1349.52</td>\n",
       "      <td>1349.52</td>\n",
       "      <td>1.089116</td>\n",
       "      <td>1470.056120</td>\n",
       "      <td>1349.769693</td>\n",
       "    </tr>\n",
       "    <tr>\n",
       "      <th>...</th>\n",
       "      <td>...</td>\n",
       "      <td>...</td>\n",
       "      <td>...</td>\n",
       "      <td>...</td>\n",
       "      <td>...</td>\n",
       "      <td>...</td>\n",
       "      <td>...</td>\n",
       "      <td>...</td>\n",
       "    </tr>\n",
       "    <tr>\n",
       "      <th>4727771</th>\n",
       "      <td>2020-12-30 23:55:00</td>\n",
       "      <td>28809.07</td>\n",
       "      <td>28825.50</td>\n",
       "      <td>28800.01</td>\n",
       "      <td>28810.08</td>\n",
       "      <td>0.087391</td>\n",
       "      <td>2517.799582</td>\n",
       "      <td>28810.597267</td>\n",
       "    </tr>\n",
       "    <tr>\n",
       "      <th>4727772</th>\n",
       "      <td>2020-12-30 23:56:00</td>\n",
       "      <td>28801.47</td>\n",
       "      <td>28829.42</td>\n",
       "      <td>28785.64</td>\n",
       "      <td>28829.42</td>\n",
       "      <td>0.965221</td>\n",
       "      <td>27804.572129</td>\n",
       "      <td>28806.429798</td>\n",
       "    </tr>\n",
       "    <tr>\n",
       "      <th>4727773</th>\n",
       "      <td>2020-12-30 23:57:00</td>\n",
       "      <td>28829.42</td>\n",
       "      <td>28863.90</td>\n",
       "      <td>28829.42</td>\n",
       "      <td>28857.06</td>\n",
       "      <td>2.368831</td>\n",
       "      <td>68332.350629</td>\n",
       "      <td>28846.441863</td>\n",
       "    </tr>\n",
       "    <tr>\n",
       "      <th>4727774</th>\n",
       "      <td>2020-12-30 23:58:00</td>\n",
       "      <td>28850.49</td>\n",
       "      <td>28900.52</td>\n",
       "      <td>28850.49</td>\n",
       "      <td>28882.82</td>\n",
       "      <td>2.466590</td>\n",
       "      <td>71232.784464</td>\n",
       "      <td>28879.056266</td>\n",
       "    </tr>\n",
       "    <tr>\n",
       "      <th>4727775</th>\n",
       "      <td>2020-12-30 23:59:00</td>\n",
       "      <td>28910.54</td>\n",
       "      <td>28911.52</td>\n",
       "      <td>28867.60</td>\n",
       "      <td>28881.30</td>\n",
       "      <td>7.332773</td>\n",
       "      <td>211870.912660</td>\n",
       "      <td>28893.695831</td>\n",
       "    </tr>\n",
       "  </tbody>\n",
       "</table>\n",
       "<p>1929600 rows × 8 columns</p>\n",
       "</div>"
      ],
      "text/plain": [
       "                  Timestamp      Open      High       Low     Close  \\\n",
       "2798176 2017-05-01 00:00:00   1348.88   1354.80   1348.88   1354.80   \n",
       "2798177 2017-05-01 00:01:00   1352.41   1352.41   1352.41   1352.41   \n",
       "2798178 2017-05-01 00:02:00   1349.49   1354.86   1349.49   1354.86   \n",
       "2798179 2017-05-01 00:03:00   1350.11   1351.25   1350.11   1351.25   \n",
       "2798180 2017-05-01 00:04:00   1351.25   1351.25   1349.52   1349.52   \n",
       "...                     ...       ...       ...       ...       ...   \n",
       "4727771 2020-12-30 23:55:00  28809.07  28825.50  28800.01  28810.08   \n",
       "4727772 2020-12-30 23:56:00  28801.47  28829.42  28785.64  28829.42   \n",
       "4727773 2020-12-30 23:57:00  28829.42  28863.90  28829.42  28857.06   \n",
       "4727774 2020-12-30 23:58:00  28850.49  28900.52  28850.49  28882.82   \n",
       "4727775 2020-12-30 23:59:00  28910.54  28911.52  28867.60  28881.30   \n",
       "\n",
       "         Volume_(BTC)  Volume_(Currency)  Weighted_Price  \n",
       "2798176      3.087374        4173.722673     1351.868203  \n",
       "2798177      0.261954         354.269412     1352.410000  \n",
       "2798178      0.096311         130.384815     1353.783259  \n",
       "2798179      0.260284         351.553973     1350.655803  \n",
       "2798180      1.089116        1470.056120     1349.769693  \n",
       "...               ...                ...             ...  \n",
       "4727771      0.087391        2517.799582    28810.597267  \n",
       "4727772      0.965221       27804.572129    28806.429798  \n",
       "4727773      2.368831       68332.350629    28846.441863  \n",
       "4727774      2.466590       71232.784464    28879.056266  \n",
       "4727775      7.332773      211870.912660    28893.695831  \n",
       "\n",
       "[1929600 rows x 8 columns]"
      ]
     },
     "execution_count": 163,
     "metadata": {},
     "output_type": "execute_result"
    }
   ],
   "source": [
    "data"
   ]
  },
  {
   "cell_type": "markdown",
   "id": "coupled-gibraltar",
   "metadata": {},
   "source": [
    "# Nan's exploration"
   ]
  },
  {
   "cell_type": "code",
   "execution_count": 5,
   "id": "suffering-holiday",
   "metadata": {},
   "outputs": [
    {
     "data": {
      "text/plain": [
       "<AxesSubplot:>"
      ]
     },
     "execution_count": 5,
     "metadata": {},
     "output_type": "execute_result"
    },
    {
     "data": {
      "image/png": "[encoded data removed]",
      "text/plain": [
       "<Figure size 432x288 with 1 Axes>"
      ]
     },
     "metadata": {
      "needs_background": "light"
     },
     "output_type": "display_data"
    }
   ],
   "source": [
    "sns.heatmap(data.isnull(), cbar=False)"
   ]
  },
  {
   "cell_type": "markdown",
   "id": "related-agent",
   "metadata": {},
   "source": [
    "To be continued !"
   ]
  },
  {
   "cell_type": "markdown",
   "id": "painful-drilling",
   "metadata": {},
   "source": [
    "# Preprocessing, input data, Model, Cross Val"
   ]
  },
  {
   "cell_type": "code",
   "execution_count": 1,
   "id": "earned-society",
   "metadata": {},
   "outputs": [],
   "source": [
    "def get_data():\n",
    "    \"\"\"method to get the training data (or a portion of it) from google cloud bucket\"\"\"\n",
    "    # client = storage.Client()\n",
    "    # data = pd.read_csv(f\"gs://{BUCKET_NAME}/{BUCKET_TRAIN_DATA_PATH}\")\n",
    "    data = pd.read_csv('../../raw_data/bitstampUSD.csv')\n",
    "    # data = pd.read_csv('gs://bitcoin-prediction-01/data/bitstampUSD.csv')\n",
    "    data = data[2798176:4727776].copy()\n",
    "    return data\n"
   ]
  },
  {
   "cell_type": "code",
   "execution_count": 2,
   "id": "middle-drama",
   "metadata": {},
   "outputs": [],
   "source": [
    "def select_date(data, date_start, date_end):\n",
    "    \n",
    "    if date_start != None:\n",
    "        if date_end != None:\n",
    "            data = data[date_start:date_end].copy()\n",
    "    else:\n",
    "        data = data.copy()\n",
    "        \n",
    "    return data"
   ]
  },
  {
   "cell_type": "code",
   "execution_count": 3,
   "id": "pressing-crisis",
   "metadata": {},
   "outputs": [],
   "source": [
    "# select_data(data, \"2020-8-1\", \"2020-10-2\") "
   ]
  },
  {
   "cell_type": "code",
   "execution_count": 4,
   "id": "smart-mixture",
   "metadata": {},
   "outputs": [],
   "source": [
    "def preprocessing_data(data, features_size, h):\n",
    "        \n",
    "    data_pp = data.copy()\n",
    "    data_pp['diff_Open'] = data_pp['Open'].diff(h)\n",
    "    data_pp['diff_Open'] = data_pp['diff_Open'].dropna()\n",
    "    data_pp[f\"t+{h}\"] = data_pp['diff_Open'].shift(-h)\n",
    "    \n",
    "    for i in range(0, features_size):\n",
    "        data_pp[f't-{i}'] = data_pp['Open'].shift(i)\n",
    "    data_shifted = data_pp.dropna()\n",
    "    \n",
    "    return data_shifted"
   ]
  },
  {
   "cell_type": "code",
   "execution_count": 5,
   "id": "decreased-fancy",
   "metadata": {},
   "outputs": [],
   "source": [
    "# preprocessing_data(data, 50, 2)"
   ]
  },
  {
   "cell_type": "code",
   "execution_count": 6,
   "id": "floral-kruger",
   "metadata": {},
   "outputs": [],
   "source": [
    "def features_target(data_shifted, h):\n",
    "    \n",
    "    X = data_shifted.drop(columns=['Open', 'diff_Open', f\"t+{h}\"])\n",
    "    y = data_shifted[f\"t+{h}\"].copy()\n",
    "    y[y > 0] = 1\n",
    "    y[y <= 0] = 0\n",
    "    \n",
    "    data_size = data_shifted.shape[0]\n",
    "    \n",
    "    return X, y, data_size"
   ]
  },
  {
   "cell_type": "code",
   "execution_count": 7,
   "id": "greater-discussion",
   "metadata": {},
   "outputs": [],
   "source": [
    "def input_data(X, y, sample_size, train_fraction, features_size, data_size, train_size, test_size, h=1, w=0):    \n",
    " \n",
    "\n",
    "    sample_X = X.iloc[data_size-(test_size * w + sample_size) : data_size - (test_size * w)]\n",
    "    sample_y = y.iloc[data_size-(test_size * w + sample_size) : data_size - (test_size * w)]\n",
    "    \n",
    "    X_train = sample_X.iloc[0:train_size]\n",
    "    y_train = sample_y.iloc[0:train_size]\n",
    "    X_test = sample_X.iloc[(train_size+h-1):(sample_size)]\n",
    "    y_test = sample_y.iloc[(train_size+h-1):(sample_size)]\n",
    "    \n",
    "    return X_train, X_test, y_train, y_test"
   ]
  },
  {
   "cell_type": "code",
   "execution_count": 37,
   "id": "nervous-yacht",
   "metadata": {},
   "outputs": [],
   "source": [
    "def predict_score(model_init, X_train, X_test, y_train, y_test):\n",
    "    model = model_init\n",
    "    model = model.fit(X_train, y_train)\n",
    "    results = model.predict(X_test)\n",
    "    score = model.score(X_test, y_test) \n",
    "    \n",
    "    return score"
   ]
  },
  {
   "cell_type": "code",
   "execution_count": 27,
   "id": "varied-prime",
   "metadata": {},
   "outputs": [],
   "source": [
    "def cross_val(model_init=RidgeClassifier(), sample_size=1000, train_fraction=0.7, features_size=60, h=1, date_start=None, date_end=None):\n",
    "    \n",
    "    data = get_data()\n",
    "    data = select_date(data, date_start, date_end)\n",
    "    data_shifted = preprocessing_data(data, features_size, h)\n",
    "    X, y, data_size = features_target(data_shifted, h)\n",
    "    train_size = int(train_fraction*sample_size)\n",
    "    test_size = sample_size - train_size\n",
    "    \n",
    "    \n",
    "    r = math.floor((data_size-train_size)/test_size)\n",
    "    intervals = range(0, r)\n",
    "    reversed_intervals = reversed(intervals)\n",
    "    results = []\n",
    "    \n",
    "    for i in reversed_intervals:\n",
    "        X_train, X_test, y_train, y_test = input_data(X, y, sample_size, train_fraction, features_size, data_size, train_size, test_size, h, w=i)\n",
    "        score = predict_score(model_init, X_train, X_test, y_train, y_test)\n",
    "        results.append(score)\n",
    "        \n",
    "    return dict({'mean_score':round(stats.mean(results),2), 'std':round(stats.stdev(results),2) , 'score_min':round(min(results),2), 'score_max':round(max(results),2)})\n",
    "    "
   ]
  },
  {
   "cell_type": "code",
   "execution_count": 26,
   "id": "attempted-heating",
   "metadata": {},
   "outputs": [
    {
     "data": {
      "text/plain": [
       "{'mean_score': 0.7427853999482268,\n",
       " 'std': 0.05,\n",
       " 'score_min': 0.47333333333333333,\n",
       " 'score_max': 0.9}"
      ]
     },
     "execution_count": 26,
     "metadata": {},
     "output_type": "execute_result"
    }
   ],
   "source": [
    "cross_val(model_init=RidgeClassifier(), sample_size=1000, train_fraction=0.7, features_size=60, h=1, date_start=None, date_end=None)"
   ]
  },
  {
   "cell_type": "code",
   "execution_count": 28,
   "id": "undefined-hands",
   "metadata": {},
   "outputs": [
    {
     "data": {
      "text/plain": [
       "{'mean_score': 0.74, 'std': 0.05, 'score_min': 0.47, 'score_max': 0.9}"
      ]
     },
     "execution_count": 28,
     "metadata": {},
     "output_type": "execute_result"
    }
   ],
   "source": [
    "cross_val(model_init=RidgeClassifier(), sample_size=1000, train_fraction=0.7, features_size=60, h=1, date_start=None, date_end=None)"
   ]
  },
  {
   "cell_type": "code",
   "execution_count": 29,
   "id": "political-minute",
   "metadata": {},
   "outputs": [
    {
     "data": {
      "text/plain": [
       "{'mean_score': 0.52, 'std': 0.1, 'score_min': 0.18, 'score_max': 0.86}"
      ]
     },
     "execution_count": 29,
     "metadata": {},
     "output_type": "execute_result"
    }
   ],
   "source": [
    "cross_val(model_init=RidgeClassifier(), sample_size=1000, train_fraction=0.7, features_size=60, h=30, date_start=None, date_end=None)"
   ]
  },
  {
   "cell_type": "code",
   "execution_count": 30,
   "id": "waiting-flexibility",
   "metadata": {},
   "outputs": [
    {
     "data": {
      "text/plain": [
       "{'mean_score': 0.55, 'std': 0.05, 'score_min': 0.33, 'score_max': 0.7}"
      ]
     },
     "execution_count": 30,
     "metadata": {},
     "output_type": "execute_result"
    }
   ],
   "source": [
    "cross_val(model_init=RidgeClassifier(), sample_size=1440, train_fraction=0.7, features_size=60, h=10, date_start=None, date_end=None)"
   ]
  },
  {
   "cell_type": "code",
   "execution_count": 31,
   "id": "black-mason",
   "metadata": {},
   "outputs": [
    {
     "data": {
      "text/plain": [
       "{'mean_score': 0.59, 'std': 0.04, 'score_min': 0.41, 'score_max': 0.7}"
      ]
     },
     "execution_count": 31,
     "metadata": {},
     "output_type": "execute_result"
    }
   ],
   "source": [
    "cross_val(model_init=RidgeClassifier(), sample_size=1440, train_fraction=0.7, features_size=60, h=5, date_start=None, date_end=None)"
   ]
  },
  {
   "cell_type": "code",
   "execution_count": 32,
   "id": "baking-tuner",
   "metadata": {},
   "outputs": [
    {
     "data": {
      "text/plain": [
       "{'mean_score': 0.67, 'std': 0.04, 'score_min': 0.47, 'score_max': 0.78}"
      ]
     },
     "execution_count": 32,
     "metadata": {},
     "output_type": "execute_result"
    }
   ],
   "source": [
    "cross_val(model_init=RidgeClassifier(), sample_size=1440, train_fraction=0.7, features_size=60, h=2, date_start=None, date_end=None)"
   ]
  },
  {
   "cell_type": "code",
   "execution_count": 159,
   "id": "former-supplier",
   "metadata": {},
   "outputs": [],
   "source": [
    "from tensorflow.keras.models import Sequential\n",
    "from tensorflow.keras import layers"
   ]
  },
  {
   "cell_type": "code",
   "execution_count": null,
   "id": "utility-fiber",
   "metadata": {},
   "outputs": [],
   "source": [
    "model = Sequential()\n",
    "model.add(layers.SimpleRNN(units=1, activation='tanh')) # we'll look at units number later\n",
    "model.add(layers.Dense(1, activation=\"relu\"))\n",
    "\n",
    "# The compilation\n",
    "model.compile(loss='mse', \n",
    "              optimizer='rmsprop')\n",
    "\n",
    "# The fit\n",
    "model.fit(X, y,\n",
    "         batch_size=16,\n",
    "         epochs=10, verbose=0)\n",
    "\n",
    "# The prediction\n",
    "model.predict(X)"
   ]
  },
  {
   "cell_type": "code",
   "execution_count": null,
   "id": "floral-payroll",
   "metadata": {},
   "outputs": [],
   "source": [
    "model = Sequential()\n",
    "model.add(LSTM(10, activation='tanh'))\n",
    "model.add(Dense(1, activation='sigmoid'))\n",
    "model.compile(loss='binary_crossentropy', optimizer='adam', metrics=['accuracy'])\n",
    "model.fit(X_train, y_train, validation_data=(X_test, y_test), epochs=3, batch_size=64)"
   ]
  },
  {
   "cell_type": "code",
   "execution_count": null,
   "id": "raising-intellectual",
   "metadata": {},
   "outputs": [],
   "source": [
    "# Final evaluation of the model\n",
    "scores = model.evaluate(X_test, y_test, verbose=0)"
   ]
  },
  {
   "cell_type": "code",
   "execution_count": 35,
   "id": "sophisticated-edgar",
   "metadata": {},
   "outputs": [],
   "source": [
    "from keras.models import Sequential\n",
    "from keras.layers import Dense\n",
    "from keras.wrappers.scikit_learn import KerasClassifier\n",
    "from sklearn.model_selection import StratifiedKFold\n",
    "from sklearn.model_selection import cross_val_score\n",
    "import numpy\n",
    " \n",
    "# Function to create model, required for KerasClassifier\n",
    "def create_model():\n",
    " # create model\n",
    "    model = Sequential()\n",
    "    model.add(Dense(10, activation='relu'))\n",
    "    model.add(Dense(1, activation='sigmoid'))\n",
    "     # Compile model\n",
    "    model.compile(loss='binary_crossentropy', optimizer='adam', metrics=['accuracy'])\n",
    "    \n",
    "    return model\n",
    "\n",
    "# create model\n",
    "modeldeep = KerasClassifier(build_fn=create_model)"
   ]
  },
  {
   "cell_type": "code",
   "execution_count": 40,
   "id": "intermediate-emission",
   "metadata": {},
   "outputs": [
    {
     "data": {
      "text/plain": [
       "<tensorflow.python.keras.wrappers.scikit_learn.KerasClassifier at 0x7f4906824dc0>"
      ]
     },
     "execution_count": 40,
     "metadata": {},
     "output_type": "execute_result"
    }
   ],
   "source": [
    "modeldeep"
   ]
  },
  {
   "cell_type": "code",
   "execution_count": 39,
   "id": "independent-fraud",
   "metadata": {},
   "outputs": [
    {
     "name": "stdout",
     "output_type": "stream",
     "text": [
      "32/32 [==============================] - 0s 2ms/step - loss: 16058873.3030 - accuracy: 0.4721\n"
     ]
    },
    {
     "ename": "AttributeError",
     "evalue": "'History' object has no attribute 'evaluate'",
     "output_type": "error",
     "traceback": [
      "\u001b[0;31m---------------------------------------------------------------------------\u001b[0m",
      "\u001b[0;31mAttributeError\u001b[0m                            Traceback (most recent call last)",
      "\u001b[0;32m<ipython-input-39-e7585fcf3428>\u001b[0m in \u001b[0;36m<module>\u001b[0;34m\u001b[0m\n\u001b[0;32m----> 1\u001b[0;31m \u001b[0mcross_val\u001b[0m\u001b[0;34m(\u001b[0m\u001b[0mmodel_init\u001b[0m\u001b[0;34m=\u001b[0m\u001b[0mmodeldeep\u001b[0m\u001b[0;34m,\u001b[0m \u001b[0msample_size\u001b[0m\u001b[0;34m=\u001b[0m\u001b[0;36m1440\u001b[0m\u001b[0;34m,\u001b[0m \u001b[0mtrain_fraction\u001b[0m\u001b[0;34m=\u001b[0m\u001b[0;36m0.7\u001b[0m\u001b[0;34m,\u001b[0m \u001b[0mfeatures_size\u001b[0m\u001b[0;34m=\u001b[0m\u001b[0;36m60\u001b[0m\u001b[0;34m,\u001b[0m \u001b[0mh\u001b[0m\u001b[0;34m=\u001b[0m\u001b[0;36m2\u001b[0m\u001b[0;34m,\u001b[0m \u001b[0mdate_start\u001b[0m\u001b[0;34m=\u001b[0m\u001b[0;32mNone\u001b[0m\u001b[0;34m,\u001b[0m \u001b[0mdate_end\u001b[0m\u001b[0;34m=\u001b[0m\u001b[0;32mNone\u001b[0m\u001b[0;34m)\u001b[0m\u001b[0;34m\u001b[0m\u001b[0;34m\u001b[0m\u001b[0m\n\u001b[0m",
      "\u001b[0;32m<ipython-input-27-c6a8268955fd>\u001b[0m in \u001b[0;36mcross_val\u001b[0;34m(model_init, sample_size, train_fraction, features_size, h, date_start, date_end)\u001b[0m\n\u001b[1;32m     16\u001b[0m     \u001b[0;32mfor\u001b[0m \u001b[0mi\u001b[0m \u001b[0;32min\u001b[0m \u001b[0mreversed_intervals\u001b[0m\u001b[0;34m:\u001b[0m\u001b[0;34m\u001b[0m\u001b[0;34m\u001b[0m\u001b[0m\n\u001b[1;32m     17\u001b[0m         \u001b[0mX_train\u001b[0m\u001b[0;34m,\u001b[0m \u001b[0mX_test\u001b[0m\u001b[0;34m,\u001b[0m \u001b[0my_train\u001b[0m\u001b[0;34m,\u001b[0m \u001b[0my_test\u001b[0m \u001b[0;34m=\u001b[0m \u001b[0minput_data\u001b[0m\u001b[0;34m(\u001b[0m\u001b[0mX\u001b[0m\u001b[0;34m,\u001b[0m \u001b[0my\u001b[0m\u001b[0;34m,\u001b[0m \u001b[0msample_size\u001b[0m\u001b[0;34m,\u001b[0m \u001b[0mtrain_fraction\u001b[0m\u001b[0;34m,\u001b[0m \u001b[0mfeatures_size\u001b[0m\u001b[0;34m,\u001b[0m \u001b[0mdata_size\u001b[0m\u001b[0;34m,\u001b[0m \u001b[0mtrain_size\u001b[0m\u001b[0;34m,\u001b[0m \u001b[0mtest_size\u001b[0m\u001b[0;34m,\u001b[0m \u001b[0mh\u001b[0m\u001b[0;34m,\u001b[0m \u001b[0mw\u001b[0m\u001b[0;34m=\u001b[0m\u001b[0mi\u001b[0m\u001b[0;34m)\u001b[0m\u001b[0;34m\u001b[0m\u001b[0;34m\u001b[0m\u001b[0m\n\u001b[0;32m---> 18\u001b[0;31m         \u001b[0mscore\u001b[0m \u001b[0;34m=\u001b[0m \u001b[0mpredict_score\u001b[0m\u001b[0;34m(\u001b[0m\u001b[0mmodel_init\u001b[0m\u001b[0;34m,\u001b[0m \u001b[0mX_train\u001b[0m\u001b[0;34m,\u001b[0m \u001b[0mX_test\u001b[0m\u001b[0;34m,\u001b[0m \u001b[0my_train\u001b[0m\u001b[0;34m,\u001b[0m \u001b[0my_test\u001b[0m\u001b[0;34m)\u001b[0m\u001b[0;34m\u001b[0m\u001b[0;34m\u001b[0m\u001b[0m\n\u001b[0m\u001b[1;32m     19\u001b[0m         \u001b[0mresults\u001b[0m\u001b[0;34m.\u001b[0m\u001b[0mappend\u001b[0m\u001b[0;34m(\u001b[0m\u001b[0mscore\u001b[0m\u001b[0;34m)\u001b[0m\u001b[0;34m\u001b[0m\u001b[0;34m\u001b[0m\u001b[0m\n\u001b[1;32m     20\u001b[0m \u001b[0;34m\u001b[0m\u001b[0m\n",
      "\u001b[0;32m<ipython-input-37-9737c4ebaf0f>\u001b[0m in \u001b[0;36mpredict_score\u001b[0;34m(model_init, X_train, X_test, y_train, y_test)\u001b[0m\n\u001b[1;32m      4\u001b[0m \u001b[0;31m#     results = model.predict(X_test)\u001b[0m\u001b[0;34m\u001b[0m\u001b[0;34m\u001b[0m\u001b[0;34m\u001b[0m\u001b[0m\n\u001b[1;32m      5\u001b[0m \u001b[0;31m#     score = model.score(X_test, y_test)\u001b[0m\u001b[0;34m\u001b[0m\u001b[0;34m\u001b[0m\u001b[0;34m\u001b[0m\u001b[0m\n\u001b[0;32m----> 6\u001b[0;31m     \u001b[0mscore\u001b[0m \u001b[0;34m=\u001b[0m \u001b[0mmodel\u001b[0m\u001b[0;34m.\u001b[0m\u001b[0mevaluate\u001b[0m\u001b[0;34m(\u001b[0m\u001b[0mX_test\u001b[0m\u001b[0;34m,\u001b[0m \u001b[0my_test\u001b[0m\u001b[0;34m)\u001b[0m\u001b[0;34m\u001b[0m\u001b[0;34m\u001b[0m\u001b[0m\n\u001b[0m\u001b[1;32m      7\u001b[0m     \u001b[0;32mreturn\u001b[0m \u001b[0mscore\u001b[0m\u001b[0;34m\u001b[0m\u001b[0;34m\u001b[0m\u001b[0m\n",
      "\u001b[0;31mAttributeError\u001b[0m: 'History' object has no attribute 'evaluate'"
     ]
    }
   ],
   "source": [
    "cross_val(model_init=modeldeep, sample_size=1440, train_fraction=0.7, features_size=60, h=2, date_start=None, date_end=None)"
   ]
  },
  {
   "cell_type": "code",
   "execution_count": null,
   "id": "seventh-mumbai",
   "metadata": {},
   "outputs": [],
   "source": [
    "# create model\n",
    "modeldeep_2 = KerasClassifier(build_fn=create_model)"
   ]
  }
 ],
 "metadata": {
  "kernelspec": {
   "display_name": "Python 3",
   "language": "python",
   "name": "python3"
  },
  "language_info": {
   "codemirror_mode": {
    "name": "ipython",
    "version": 3
   },
   "file_extension": ".py",
   "mimetype": "text/x-python",
   "name": "python",
   "nbconvert_exporter": "python",
   "pygments_lexer": "ipython3",
   "version": "3.8.6"
  }
 },
 "nbformat": 4,
 "nbformat_minor": 5
}
